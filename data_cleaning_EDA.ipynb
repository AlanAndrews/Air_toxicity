{
 "cells": [
  {
   "cell_type": "code",
   "execution_count": 1,
   "id": "ce32839c-aa58-47d2-85e0-5d00de35ed56",
   "metadata": {
    "tags": []
   },
   "outputs": [],
   "source": [
    "import pandas as pd\n",
    "import numpy as np"
   ]
  },
  {
   "cell_type": "code",
   "execution_count": 4,
   "id": "9a40f2df-9771-4b2b-98a6-94ee98249f19",
   "metadata": {
    "tags": []
   },
   "outputs": [],
   "source": [
    "train = pd.read_csv('./Air_toxicity/train.csv')"
   ]
  },
  {
   "cell_type": "code",
   "execution_count": 5,
   "id": "e9f87ac2-9144-43de-9daa-fa3179b70d49",
   "metadata": {
    "tags": []
   },
   "outputs": [
    {
     "data": {
      "text/html": [
       "<div>\n",
       "<style scoped>\n",
       "    .dataframe tbody tr th:only-of-type {\n",
       "        vertical-align: middle;\n",
       "    }\n",
       "\n",
       "    .dataframe tbody tr th {\n",
       "        vertical-align: top;\n",
       "    }\n",
       "\n",
       "    .dataframe thead th {\n",
       "        text-align: right;\n",
       "    }\n",
       "</style>\n",
       "<table border=\"1\" class=\"dataframe\">\n",
       "  <thead>\n",
       "    <tr style=\"text-align: right;\">\n",
       "      <th></th>\n",
       "      <th>ID</th>\n",
       "      <th>State.Name</th>\n",
       "      <th>Year</th>\n",
       "      <th>Age</th>\n",
       "      <th>Incidence</th>\n",
       "    </tr>\n",
       "  </thead>\n",
       "  <tbody>\n",
       "    <tr>\n",
       "      <th>0</th>\n",
       "      <td>f8312a4</td>\n",
       "      <td>Alabama</td>\n",
       "      <td>1990</td>\n",
       "      <td>65-69</td>\n",
       "      <td>4685.284313</td>\n",
       "    </tr>\n",
       "    <tr>\n",
       "      <th>1</th>\n",
       "      <td>3effa36</td>\n",
       "      <td>Alabama</td>\n",
       "      <td>1990</td>\n",
       "      <td>70-74</td>\n",
       "      <td>4827.052043</td>\n",
       "    </tr>\n",
       "    <tr>\n",
       "      <th>2</th>\n",
       "      <td>1e8044b</td>\n",
       "      <td>Alabama</td>\n",
       "      <td>1990</td>\n",
       "      <td>75-79</td>\n",
       "      <td>4377.956914</td>\n",
       "    </tr>\n",
       "    <tr>\n",
       "      <th>3</th>\n",
       "      <td>d875d65</td>\n",
       "      <td>Alabama</td>\n",
       "      <td>1990</td>\n",
       "      <td>80-84</td>\n",
       "      <td>3822.732993</td>\n",
       "    </tr>\n",
       "    <tr>\n",
       "      <th>4</th>\n",
       "      <td>46e6695</td>\n",
       "      <td>Alabama</td>\n",
       "      <td>1990</td>\n",
       "      <td>85-89</td>\n",
       "      <td>3470.199503</td>\n",
       "    </tr>\n",
       "  </tbody>\n",
       "</table>\n",
       "</div>"
      ],
      "text/plain": [
       "        ID State.Name  Year    Age    Incidence\n",
       "0  f8312a4    Alabama  1990  65-69  4685.284313\n",
       "1  3effa36    Alabama  1990  70-74  4827.052043\n",
       "2  1e8044b    Alabama  1990  75-79  4377.956914\n",
       "3  d875d65    Alabama  1990  80-84  3822.732993\n",
       "4  46e6695    Alabama  1990  85-89  3470.199503"
      ]
     },
     "execution_count": 5,
     "metadata": {},
     "output_type": "execute_result"
    }
   ],
   "source": [
    "train.head()"
   ]
  },
  {
   "cell_type": "code",
   "execution_count": 6,
   "id": "baa5d377-9c2b-4da0-b3a9-e2d0e8bae664",
   "metadata": {
    "tags": []
   },
   "outputs": [],
   "source": [
    "test = pd.read_csv('./Air_toxicity/test.csv')"
   ]
  },
  {
   "cell_type": "code",
   "execution_count": 7,
   "id": "86f4e6ea-9684-4cb4-9bfd-f2ab1c0e4ad7",
   "metadata": {
    "tags": []
   },
   "outputs": [
    {
     "data": {
      "text/html": [
       "<div>\n",
       "<style scoped>\n",
       "    .dataframe tbody tr th:only-of-type {\n",
       "        vertical-align: middle;\n",
       "    }\n",
       "\n",
       "    .dataframe tbody tr th {\n",
       "        vertical-align: top;\n",
       "    }\n",
       "\n",
       "    .dataframe thead th {\n",
       "        text-align: right;\n",
       "    }\n",
       "</style>\n",
       "<table border=\"1\" class=\"dataframe\">\n",
       "  <thead>\n",
       "    <tr style=\"text-align: right;\">\n",
       "      <th></th>\n",
       "      <th>ID</th>\n",
       "      <th>State.Name</th>\n",
       "      <th>Year</th>\n",
       "      <th>Age</th>\n",
       "    </tr>\n",
       "  </thead>\n",
       "  <tbody>\n",
       "    <tr>\n",
       "      <th>0</th>\n",
       "      <td>6c06615</td>\n",
       "      <td>Delaware</td>\n",
       "      <td>1990</td>\n",
       "      <td>65-69</td>\n",
       "    </tr>\n",
       "    <tr>\n",
       "      <th>1</th>\n",
       "      <td>e0cf76e</td>\n",
       "      <td>Delaware</td>\n",
       "      <td>1990</td>\n",
       "      <td>70-74</td>\n",
       "    </tr>\n",
       "    <tr>\n",
       "      <th>2</th>\n",
       "      <td>e9f95f0</td>\n",
       "      <td>Delaware</td>\n",
       "      <td>1990</td>\n",
       "      <td>75-79</td>\n",
       "    </tr>\n",
       "    <tr>\n",
       "      <th>3</th>\n",
       "      <td>5dffe44</td>\n",
       "      <td>Delaware</td>\n",
       "      <td>1990</td>\n",
       "      <td>80-84</td>\n",
       "    </tr>\n",
       "    <tr>\n",
       "      <th>4</th>\n",
       "      <td>9f9ea9b</td>\n",
       "      <td>Delaware</td>\n",
       "      <td>1990</td>\n",
       "      <td>85-89</td>\n",
       "    </tr>\n",
       "  </tbody>\n",
       "</table>\n",
       "</div>"
      ],
      "text/plain": [
       "        ID State.Name  Year    Age\n",
       "0  6c06615   Delaware  1990  65-69\n",
       "1  e0cf76e   Delaware  1990  70-74\n",
       "2  e9f95f0   Delaware  1990  75-79\n",
       "3  5dffe44   Delaware  1990  80-84\n",
       "4  9f9ea9b   Delaware  1990  85-89"
      ]
     },
     "execution_count": 7,
     "metadata": {},
     "output_type": "execute_result"
    }
   ],
   "source": [
    "test.head()"
   ]
  },
  {
   "cell_type": "code",
   "execution_count": 8,
   "id": "d0731299-672f-4061-a4b6-bece282cb7ed",
   "metadata": {
    "tags": []
   },
   "outputs": [
    {
     "data": {
      "text/plain": [
       "ID            0\n",
       "State.Name    0\n",
       "Year          0\n",
       "Age           0\n",
       "Incidence     0\n",
       "dtype: int64"
      ]
     },
     "execution_count": 8,
     "metadata": {},
     "output_type": "execute_result"
    }
   ],
   "source": [
    "train.isnull().sum()"
   ]
  },
  {
   "cell_type": "code",
   "execution_count": 9,
   "id": "d6edac86-8146-4070-8f20-b9cf17116da3",
   "metadata": {
    "tags": []
   },
   "outputs": [
    {
     "data": {
      "text/plain": [
       "65-69    750\n",
       "70-74    750\n",
       "75-79    750\n",
       "80-84    750\n",
       "85-89    750\n",
       "90-94    750\n",
       "Name: Age, dtype: int64"
      ]
     },
     "execution_count": 9,
     "metadata": {},
     "output_type": "execute_result"
    }
   ],
   "source": [
    "train['Age'].value_counts()"
   ]
  },
  {
   "cell_type": "code",
   "execution_count": 12,
   "id": "fafd89e8-6a4c-4612-b151-d9f0a781f196",
   "metadata": {
    "tags": []
   },
   "outputs": [
    {
     "data": {
      "text/plain": [
       "1990    150\n",
       "2017    150\n",
       "2016    150\n",
       "2015    150\n",
       "2014    150\n",
       "2013    150\n",
       "2012    150\n",
       "2011    150\n",
       "2010    150\n",
       "2009    150\n",
       "2008    150\n",
       "2007    150\n",
       "2006    150\n",
       "2005    150\n",
       "2004    150\n",
       "2003    150\n",
       "2002    150\n",
       "2001    150\n",
       "2000    150\n",
       "1999    150\n",
       "1998    150\n",
       "1997    150\n",
       "1996    150\n",
       "1995    150\n",
       "1994    150\n",
       "1993    150\n",
       "1992    150\n",
       "1991    150\n",
       "2018    150\n",
       "2019    150\n",
       "Name: Year, dtype: int64"
      ]
     },
     "execution_count": 12,
     "metadata": {},
     "output_type": "execute_result"
    }
   ],
   "source": [
    "train['Year'].value_counts(ascending=True)"
   ]
  },
  {
   "cell_type": "code",
   "execution_count": 13,
   "id": "24f2a35c-454e-4877-b066-5ac8f6e3dda5",
   "metadata": {
    "tags": []
   },
   "outputs": [
    {
     "name": "stdout",
     "output_type": "stream",
     "text": [
      "<class 'pandas.core.frame.DataFrame'>\n",
      "RangeIndex: 4500 entries, 0 to 4499\n",
      "Data columns (total 5 columns):\n",
      " #   Column      Non-Null Count  Dtype  \n",
      "---  ------      --------------  -----  \n",
      " 0   ID          4500 non-null   object \n",
      " 1   State.Name  4500 non-null   object \n",
      " 2   Year        4500 non-null   int64  \n",
      " 3   Age         4500 non-null   object \n",
      " 4   Incidence   4500 non-null   float64\n",
      "dtypes: float64(1), int64(1), object(3)\n",
      "memory usage: 175.9+ KB\n"
     ]
    }
   ],
   "source": [
    "train.info()"
   ]
  },
  {
   "cell_type": "code",
   "execution_count": 14,
   "id": "4913c6c5-335e-489e-9430-b695461b5716",
   "metadata": {
    "tags": []
   },
   "outputs": [
    {
     "data": {
      "text/plain": [
       "Alabama                 180\n",
       "Iowa                    180\n",
       "Texas                   180\n",
       "Tennessee               180\n",
       "Oregon                  180\n",
       "Oklahoma                180\n",
       "Ohio                    180\n",
       "North Dakota            180\n",
       "North Carolina          180\n",
       "Montana                 180\n",
       "Mississippi             180\n",
       "Michigan                180\n",
       "Indiana                 180\n",
       "Alaska                  180\n",
       "Idaho                   180\n",
       "Hawaii                  180\n",
       "Georgia                 180\n",
       "Florida                 180\n",
       "District of Columbia    180\n",
       "Connecticut             180\n",
       "Colorado                180\n",
       "California              180\n",
       "Arkansas                180\n",
       "Arizona                 180\n",
       "Washington              180\n",
       "Name: State.Name, dtype: int64"
      ]
     },
     "execution_count": 14,
     "metadata": {},
     "output_type": "execute_result"
    }
   ],
   "source": [
    "train['State.Name'].value_counts()"
   ]
  },
  {
   "cell_type": "code",
   "execution_count": 15,
   "id": "e54d7db5-ed64-40dd-91ff-3e74d83e5746",
   "metadata": {
    "tags": []
   },
   "outputs": [],
   "source": [
    "haps = pd.read_parquet('./Air_toxicity/supplementary_HAPS.parquet', engine='pyarrow')"
   ]
  },
  {
   "cell_type": "code",
   "execution_count": 16,
   "id": "659d22f7-fc1b-4c2f-82b1-681c99053b23",
   "metadata": {
    "tags": []
   },
   "outputs": [
    {
     "data": {
      "text/html": [
       "<div>\n",
       "<style scoped>\n",
       "    .dataframe tbody tr th:only-of-type {\n",
       "        vertical-align: middle;\n",
       "    }\n",
       "\n",
       "    .dataframe tbody tr th {\n",
       "        vertical-align: top;\n",
       "    }\n",
       "\n",
       "    .dataframe thead th {\n",
       "        text-align: right;\n",
       "    }\n",
       "</style>\n",
       "<table border=\"1\" class=\"dataframe\">\n",
       "  <thead>\n",
       "    <tr style=\"text-align: right;\">\n",
       "      <th></th>\n",
       "      <th>State.Name</th>\n",
       "      <th>Date.Local</th>\n",
       "      <th>Parameter.Name</th>\n",
       "      <th>Arithmetic.Mean</th>\n",
       "      <th>X1st.Max.Value</th>\n",
       "    </tr>\n",
       "  </thead>\n",
       "  <tbody>\n",
       "    <tr>\n",
       "      <th>0</th>\n",
       "      <td>Alabama</td>\n",
       "      <td>1980-01-04</td>\n",
       "      <td>Arsenic (TSP) STP</td>\n",
       "      <td>0.0</td>\n",
       "      <td>0.0</td>\n",
       "    </tr>\n",
       "    <tr>\n",
       "      <th>1</th>\n",
       "      <td>Alabama</td>\n",
       "      <td>1980-01-16</td>\n",
       "      <td>Arsenic (TSP) STP</td>\n",
       "      <td>0.0</td>\n",
       "      <td>0.0</td>\n",
       "    </tr>\n",
       "    <tr>\n",
       "      <th>2</th>\n",
       "      <td>Alabama</td>\n",
       "      <td>1980-01-28</td>\n",
       "      <td>Arsenic (TSP) STP</td>\n",
       "      <td>0.0</td>\n",
       "      <td>0.0</td>\n",
       "    </tr>\n",
       "    <tr>\n",
       "      <th>3</th>\n",
       "      <td>Alabama</td>\n",
       "      <td>1980-02-09</td>\n",
       "      <td>Arsenic (TSP) STP</td>\n",
       "      <td>0.0</td>\n",
       "      <td>0.0</td>\n",
       "    </tr>\n",
       "    <tr>\n",
       "      <th>4</th>\n",
       "      <td>Alabama</td>\n",
       "      <td>1980-02-21</td>\n",
       "      <td>Arsenic (TSP) STP</td>\n",
       "      <td>0.0</td>\n",
       "      <td>0.0</td>\n",
       "    </tr>\n",
       "  </tbody>\n",
       "</table>\n",
       "</div>"
      ],
      "text/plain": [
       "  State.Name  Date.Local     Parameter.Name  Arithmetic.Mean  X1st.Max.Value\n",
       "0    Alabama  1980-01-04  Arsenic (TSP) STP              0.0             0.0\n",
       "1    Alabama  1980-01-16  Arsenic (TSP) STP              0.0             0.0\n",
       "2    Alabama  1980-01-28  Arsenic (TSP) STP              0.0             0.0\n",
       "3    Alabama  1980-02-09  Arsenic (TSP) STP              0.0             0.0\n",
       "4    Alabama  1980-02-21  Arsenic (TSP) STP              0.0             0.0"
      ]
     },
     "execution_count": 16,
     "metadata": {},
     "output_type": "execute_result"
    }
   ],
   "source": [
    "haps.head()"
   ]
  },
  {
   "cell_type": "code",
   "execution_count": 17,
   "id": "053acc6e-dc99-45a0-b0b2-4adde4f928ed",
   "metadata": {
    "tags": []
   },
   "outputs": [
    {
     "data": {
      "text/plain": [
       "(9834368, 5)"
      ]
     },
     "execution_count": 17,
     "metadata": {},
     "output_type": "execute_result"
    }
   ],
   "source": [
    "haps.shape"
   ]
  },
  {
   "cell_type": "code",
   "execution_count": 18,
   "id": "c1646310-27df-438a-ae4d-df4a2599ef3d",
   "metadata": {
    "tags": []
   },
   "outputs": [
    {
     "data": {
      "text/html": [
       "<div>\n",
       "<style scoped>\n",
       "    .dataframe tbody tr th:only-of-type {\n",
       "        vertical-align: middle;\n",
       "    }\n",
       "\n",
       "    .dataframe tbody tr th {\n",
       "        vertical-align: top;\n",
       "    }\n",
       "\n",
       "    .dataframe thead th {\n",
       "        text-align: right;\n",
       "    }\n",
       "</style>\n",
       "<table border=\"1\" class=\"dataframe\">\n",
       "  <thead>\n",
       "    <tr style=\"text-align: right;\">\n",
       "      <th></th>\n",
       "      <th>State.Name</th>\n",
       "      <th>Date.Local</th>\n",
       "      <th>Parameter.Name</th>\n",
       "      <th>Arithmetic.Mean</th>\n",
       "      <th>X1st.Max.Value</th>\n",
       "    </tr>\n",
       "  </thead>\n",
       "  <tbody>\n",
       "    <tr>\n",
       "      <th>0</th>\n",
       "      <td>Alabama</td>\n",
       "      <td>1980-01-04</td>\n",
       "      <td>Lead (TSP) STP</td>\n",
       "      <td>0.04</td>\n",
       "      <td>0.04</td>\n",
       "    </tr>\n",
       "    <tr>\n",
       "      <th>1</th>\n",
       "      <td>Alabama</td>\n",
       "      <td>1980-01-16</td>\n",
       "      <td>Lead (TSP) STP</td>\n",
       "      <td>0.26</td>\n",
       "      <td>0.26</td>\n",
       "    </tr>\n",
       "    <tr>\n",
       "      <th>2</th>\n",
       "      <td>Alabama</td>\n",
       "      <td>1980-01-28</td>\n",
       "      <td>Lead (TSP) STP</td>\n",
       "      <td>0.13</td>\n",
       "      <td>0.13</td>\n",
       "    </tr>\n",
       "    <tr>\n",
       "      <th>3</th>\n",
       "      <td>Alabama</td>\n",
       "      <td>1980-02-09</td>\n",
       "      <td>Lead (TSP) STP</td>\n",
       "      <td>0.11</td>\n",
       "      <td>0.11</td>\n",
       "    </tr>\n",
       "    <tr>\n",
       "      <th>4</th>\n",
       "      <td>Alabama</td>\n",
       "      <td>1980-02-21</td>\n",
       "      <td>Lead (TSP) STP</td>\n",
       "      <td>0.10</td>\n",
       "      <td>0.10</td>\n",
       "    </tr>\n",
       "  </tbody>\n",
       "</table>\n",
       "</div>"
      ],
      "text/plain": [
       "  State.Name  Date.Local  Parameter.Name  Arithmetic.Mean  X1st.Max.Value\n",
       "0    Alabama  1980-01-04  Lead (TSP) STP             0.04            0.04\n",
       "1    Alabama  1980-01-16  Lead (TSP) STP             0.26            0.26\n",
       "2    Alabama  1980-01-28  Lead (TSP) STP             0.13            0.13\n",
       "3    Alabama  1980-02-09  Lead (TSP) STP             0.11            0.11\n",
       "4    Alabama  1980-02-21  Lead (TSP) STP             0.10            0.10"
      ]
     },
     "execution_count": 18,
     "metadata": {},
     "output_type": "execute_result"
    }
   ],
   "source": [
    "lead = pd.read_parquet('./Air_toxicity/supplementary_LEAD.parquet', engine='pyarrow')\n",
    "lead.head()"
   ]
  },
  {
   "cell_type": "code",
   "execution_count": 19,
   "id": "dab97ad0-5155-4e10-8e59-4d2be5b503e4",
   "metadata": {
    "tags": []
   },
   "outputs": [
    {
     "data": {
      "text/plain": [
       "(866835, 5)"
      ]
     },
     "execution_count": 19,
     "metadata": {},
     "output_type": "execute_result"
    }
   ],
   "source": [
    "lead.shape"
   ]
  },
  {
   "cell_type": "code",
   "execution_count": 20,
   "id": "904ef66a-9ebe-4afa-b3f2-97ee1e5b734b",
   "metadata": {
    "tags": []
   },
   "outputs": [],
   "source": [
    "no = pd.read_parquet('./Air_toxicity/supplementary_NONOxNOy.parquet', engine='pyarrow')"
   ]
  },
  {
   "cell_type": "code",
   "execution_count": 21,
   "id": "672fdd78-7c35-4e94-ab86-f2412f869442",
   "metadata": {
    "tags": []
   },
   "outputs": [
    {
     "data": {
      "text/html": [
       "<div>\n",
       "<style scoped>\n",
       "    .dataframe tbody tr th:only-of-type {\n",
       "        vertical-align: middle;\n",
       "    }\n",
       "\n",
       "    .dataframe tbody tr th {\n",
       "        vertical-align: top;\n",
       "    }\n",
       "\n",
       "    .dataframe thead th {\n",
       "        text-align: right;\n",
       "    }\n",
       "</style>\n",
       "<table border=\"1\" class=\"dataframe\">\n",
       "  <thead>\n",
       "    <tr style=\"text-align: right;\">\n",
       "      <th></th>\n",
       "      <th>State.Name</th>\n",
       "      <th>Date.Local</th>\n",
       "      <th>Parameter.Name</th>\n",
       "      <th>Arithmetic.Mean</th>\n",
       "      <th>X1st.Max.Value</th>\n",
       "    </tr>\n",
       "  </thead>\n",
       "  <tbody>\n",
       "    <tr>\n",
       "      <th>0</th>\n",
       "      <td>Alabama</td>\n",
       "      <td>1980-01-01</td>\n",
       "      <td>Nitric oxide (NO)</td>\n",
       "      <td>54.458333</td>\n",
       "      <td>275.0</td>\n",
       "    </tr>\n",
       "    <tr>\n",
       "      <th>1</th>\n",
       "      <td>Alabama</td>\n",
       "      <td>1980-01-02</td>\n",
       "      <td>Nitric oxide (NO)</td>\n",
       "      <td>130.545455</td>\n",
       "      <td>279.0</td>\n",
       "    </tr>\n",
       "    <tr>\n",
       "      <th>2</th>\n",
       "      <td>Alabama</td>\n",
       "      <td>1980-01-03</td>\n",
       "      <td>Nitric oxide (NO)</td>\n",
       "      <td>122.333333</td>\n",
       "      <td>421.0</td>\n",
       "    </tr>\n",
       "    <tr>\n",
       "      <th>3</th>\n",
       "      <td>Alabama</td>\n",
       "      <td>1980-01-04</td>\n",
       "      <td>Nitric oxide (NO)</td>\n",
       "      <td>5.600000</td>\n",
       "      <td>12.0</td>\n",
       "    </tr>\n",
       "    <tr>\n",
       "      <th>4</th>\n",
       "      <td>Alabama</td>\n",
       "      <td>1980-01-05</td>\n",
       "      <td>Nitric oxide (NO)</td>\n",
       "      <td>6.166667</td>\n",
       "      <td>13.0</td>\n",
       "    </tr>\n",
       "  </tbody>\n",
       "</table>\n",
       "</div>"
      ],
      "text/plain": [
       "  State.Name  Date.Local     Parameter.Name  Arithmetic.Mean  X1st.Max.Value\n",
       "0    Alabama  1980-01-01  Nitric oxide (NO)        54.458333           275.0\n",
       "1    Alabama  1980-01-02  Nitric oxide (NO)       130.545455           279.0\n",
       "2    Alabama  1980-01-03  Nitric oxide (NO)       122.333333           421.0\n",
       "3    Alabama  1980-01-04  Nitric oxide (NO)         5.600000            12.0\n",
       "4    Alabama  1980-01-05  Nitric oxide (NO)         6.166667            13.0"
      ]
     },
     "execution_count": 21,
     "metadata": {},
     "output_type": "execute_result"
    }
   ],
   "source": [
    "no.head()"
   ]
  },
  {
   "cell_type": "code",
   "execution_count": 22,
   "id": "b7f25e44-b880-4a32-8e94-b84a07559598",
   "metadata": {
    "tags": []
   },
   "outputs": [],
   "source": [
    "vocs = pd.read_parquet('./Air_toxicity/supplementary_VOCS.parquet', engine='pyarrow')"
   ]
  },
  {
   "cell_type": "code",
   "execution_count": 23,
   "id": "30f9bfee-1080-476a-95a9-0c9c6752fcec",
   "metadata": {
    "tags": []
   },
   "outputs": [
    {
     "data": {
      "text/html": [
       "<div>\n",
       "<style scoped>\n",
       "    .dataframe tbody tr th:only-of-type {\n",
       "        vertical-align: middle;\n",
       "    }\n",
       "\n",
       "    .dataframe tbody tr th {\n",
       "        vertical-align: top;\n",
       "    }\n",
       "\n",
       "    .dataframe thead th {\n",
       "        text-align: right;\n",
       "    }\n",
       "</style>\n",
       "<table border=\"1\" class=\"dataframe\">\n",
       "  <thead>\n",
       "    <tr style=\"text-align: right;\">\n",
       "      <th></th>\n",
       "      <th>State.Name</th>\n",
       "      <th>Date.Local</th>\n",
       "      <th>Parameter.Name</th>\n",
       "      <th>Arithmetic.Mean</th>\n",
       "      <th>X1st.Max.Value</th>\n",
       "    </tr>\n",
       "  </thead>\n",
       "  <tbody>\n",
       "    <tr>\n",
       "      <th>0</th>\n",
       "      <td>Alabama</td>\n",
       "      <td>1980-01-01</td>\n",
       "      <td>Total NMOC (non-methane organic compound)</td>\n",
       "      <td>627.083333</td>\n",
       "      <td>2020.0</td>\n",
       "    </tr>\n",
       "    <tr>\n",
       "      <th>1</th>\n",
       "      <td>Alabama</td>\n",
       "      <td>1980-01-02</td>\n",
       "      <td>Total NMOC (non-methane organic compound)</td>\n",
       "      <td>1240.909091</td>\n",
       "      <td>3360.0</td>\n",
       "    </tr>\n",
       "    <tr>\n",
       "      <th>2</th>\n",
       "      <td>Alabama</td>\n",
       "      <td>1980-01-03</td>\n",
       "      <td>Total NMOC (non-methane organic compound)</td>\n",
       "      <td>2079.166667</td>\n",
       "      <td>5670.0</td>\n",
       "    </tr>\n",
       "    <tr>\n",
       "      <th>3</th>\n",
       "      <td>Alabama</td>\n",
       "      <td>1980-01-04</td>\n",
       "      <td>Total NMOC (non-methane organic compound)</td>\n",
       "      <td>925.833333</td>\n",
       "      <td>3110.0</td>\n",
       "    </tr>\n",
       "    <tr>\n",
       "      <th>4</th>\n",
       "      <td>Alabama</td>\n",
       "      <td>1980-01-05</td>\n",
       "      <td>Total NMOC (non-methane organic compound)</td>\n",
       "      <td>170.833333</td>\n",
       "      <td>1250.0</td>\n",
       "    </tr>\n",
       "  </tbody>\n",
       "</table>\n",
       "</div>"
      ],
      "text/plain": [
       "  State.Name  Date.Local                             Parameter.Name  \\\n",
       "0    Alabama  1980-01-01  Total NMOC (non-methane organic compound)   \n",
       "1    Alabama  1980-01-02  Total NMOC (non-methane organic compound)   \n",
       "2    Alabama  1980-01-03  Total NMOC (non-methane organic compound)   \n",
       "3    Alabama  1980-01-04  Total NMOC (non-methane organic compound)   \n",
       "4    Alabama  1980-01-05  Total NMOC (non-methane organic compound)   \n",
       "\n",
       "   Arithmetic.Mean  X1st.Max.Value  \n",
       "0       627.083333          2020.0  \n",
       "1      1240.909091          3360.0  \n",
       "2      2079.166667          5670.0  \n",
       "3       925.833333          3110.0  \n",
       "4       170.833333          1250.0  "
      ]
     },
     "execution_count": 23,
     "metadata": {},
     "output_type": "execute_result"
    }
   ],
   "source": [
    "vocs.head()"
   ]
  },
  {
   "cell_type": "code",
   "execution_count": 24,
   "id": "18fe9c06-4595-43d7-8561-530069cbaef0",
   "metadata": {
    "tags": []
   },
   "outputs": [
    {
     "data": {
      "text/plain": [
       "(26601135, 5)"
      ]
     },
     "execution_count": 24,
     "metadata": {},
     "output_type": "execute_result"
    }
   ],
   "source": [
    "vocs.shape"
   ]
  },
  {
   "cell_type": "code",
   "execution_count": null,
   "id": "feff8b72-8f21-4b6e-ae2c-c1da95980572",
   "metadata": {},
   "outputs": [],
   "source": []
  }
 ],
 "metadata": {
  "kernelspec": {
   "display_name": "Python 3 (ipykernel)",
   "language": "python",
   "name": "python3"
  },
  "language_info": {
   "codemirror_mode": {
    "name": "ipython",
    "version": 3
   },
   "file_extension": ".py",
   "mimetype": "text/x-python",
   "name": "python",
   "nbconvert_exporter": "python",
   "pygments_lexer": "ipython3",
   "version": "3.11.4"
  }
 },
 "nbformat": 4,
 "nbformat_minor": 5
}
