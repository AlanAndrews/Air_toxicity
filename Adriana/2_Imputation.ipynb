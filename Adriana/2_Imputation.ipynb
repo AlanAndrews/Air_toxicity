{
 "cells": [
  {
   "cell_type": "markdown",
   "id": "594b6844",
   "metadata": {},
   "source": [
    "# Import libraries and data"
   ]
  },
  {
   "cell_type": "code",
   "execution_count": 20,
   "id": "4e78b1f3",
   "metadata": {},
   "outputs": [],
   "source": [
    "# Import libraries.\n",
    "import pandas as pd\n",
    "import numpy as np\n",
    "import matplotlib.pyplot as plt\n",
    "import statistics\n",
    "\n",
    "# libraries for imputing\n",
    "from sklearn.preprocessing import StandardScaler\n",
    "from sklearn.impute import KNNImputer\n",
    "from sklearn.experimental import enable_iterative_imputer \n",
    "from sklearn.impute import IterativeImputer\n",
    "from sklearn.model_selection import train_test_split, cross_val_score"
   ]
  },
  {
   "cell_type": "code",
   "execution_count": 21,
   "id": "7118d7fc",
   "metadata": {},
   "outputs": [
    {
     "data": {
      "text/html": [
       "<div>\n",
       "<style scoped>\n",
       "    .dataframe tbody tr th:only-of-type {\n",
       "        vertical-align: middle;\n",
       "    }\n",
       "\n",
       "    .dataframe tbody tr th {\n",
       "        vertical-align: top;\n",
       "    }\n",
       "\n",
       "    .dataframe thead th {\n",
       "        text-align: right;\n",
       "    }\n",
       "</style>\n",
       "<table border=\"1\" class=\"dataframe\">\n",
       "  <thead>\n",
       "    <tr style=\"text-align: right;\">\n",
       "      <th></th>\n",
       "      <th>ID</th>\n",
       "      <th>State_Name</th>\n",
       "      <th>Year</th>\n",
       "      <th>Age</th>\n",
       "      <th>Incidence</th>\n",
       "      <th>Arithmetic_Mean_mean_Lead_(TSP)_STP</th>\n",
       "      <th>Arithmetic_Mean_min_Lead_(TSP)_STP</th>\n",
       "      <th>Arithmetic_Mean_max_Lead_(TSP)_STP</th>\n",
       "      <th>Arithmetic_Mean_mean_Lead_(TSP)_STP_l2</th>\n",
       "      <th>Arithmetic_Mean_min_Lead_(TSP)_STP_l2</th>\n",
       "      <th>...</th>\n",
       "      <th>X1st_Max_Value_max_Benzene_l8</th>\n",
       "      <th>X1st_Max_Value_max_Ethylbenzene_l2</th>\n",
       "      <th>X1st_Max_Value_max_Ethylbenzene_l5</th>\n",
       "      <th>X1st_Max_Value_max_Ethylbenzene_l8</th>\n",
       "      <th>X1st_Max_Value_max_Toluene_l2</th>\n",
       "      <th>X1st_Max_Value_max_Toluene_l5</th>\n",
       "      <th>X1st_Max_Value_max_Toluene_l8</th>\n",
       "      <th>X1st_Max_Value_max_o-Xylene_l2</th>\n",
       "      <th>X1st_Max_Value_max_o-Xylene_l5</th>\n",
       "      <th>X1st_Max_Value_max_o-Xylene_l8</th>\n",
       "    </tr>\n",
       "  </thead>\n",
       "  <tbody>\n",
       "    <tr>\n",
       "      <th>0</th>\n",
       "      <td>f8312a4</td>\n",
       "      <td>Alabama</td>\n",
       "      <td>1990</td>\n",
       "      <td>65-69</td>\n",
       "      <td>4685.284313</td>\n",
       "      <td>0.664543</td>\n",
       "      <td>0.0</td>\n",
       "      <td>7.96</td>\n",
       "      <td>1.071302</td>\n",
       "      <td>0.0</td>\n",
       "      <td>...</td>\n",
       "      <td>NaN</td>\n",
       "      <td>NaN</td>\n",
       "      <td>NaN</td>\n",
       "      <td>NaN</td>\n",
       "      <td>NaN</td>\n",
       "      <td>NaN</td>\n",
       "      <td>NaN</td>\n",
       "      <td>NaN</td>\n",
       "      <td>NaN</td>\n",
       "      <td>NaN</td>\n",
       "    </tr>\n",
       "    <tr>\n",
       "      <th>1</th>\n",
       "      <td>3effa36</td>\n",
       "      <td>Alabama</td>\n",
       "      <td>1990</td>\n",
       "      <td>70-74</td>\n",
       "      <td>4827.052043</td>\n",
       "      <td>0.664543</td>\n",
       "      <td>0.0</td>\n",
       "      <td>7.96</td>\n",
       "      <td>1.071302</td>\n",
       "      <td>0.0</td>\n",
       "      <td>...</td>\n",
       "      <td>NaN</td>\n",
       "      <td>NaN</td>\n",
       "      <td>NaN</td>\n",
       "      <td>NaN</td>\n",
       "      <td>NaN</td>\n",
       "      <td>NaN</td>\n",
       "      <td>NaN</td>\n",
       "      <td>NaN</td>\n",
       "      <td>NaN</td>\n",
       "      <td>NaN</td>\n",
       "    </tr>\n",
       "    <tr>\n",
       "      <th>2</th>\n",
       "      <td>1e8044b</td>\n",
       "      <td>Alabama</td>\n",
       "      <td>1990</td>\n",
       "      <td>75-79</td>\n",
       "      <td>4377.956914</td>\n",
       "      <td>0.664543</td>\n",
       "      <td>0.0</td>\n",
       "      <td>7.96</td>\n",
       "      <td>1.071302</td>\n",
       "      <td>0.0</td>\n",
       "      <td>...</td>\n",
       "      <td>NaN</td>\n",
       "      <td>NaN</td>\n",
       "      <td>NaN</td>\n",
       "      <td>NaN</td>\n",
       "      <td>NaN</td>\n",
       "      <td>NaN</td>\n",
       "      <td>NaN</td>\n",
       "      <td>NaN</td>\n",
       "      <td>NaN</td>\n",
       "      <td>NaN</td>\n",
       "    </tr>\n",
       "    <tr>\n",
       "      <th>3</th>\n",
       "      <td>d875d65</td>\n",
       "      <td>Alabama</td>\n",
       "      <td>1990</td>\n",
       "      <td>80-84</td>\n",
       "      <td>3822.732993</td>\n",
       "      <td>0.664543</td>\n",
       "      <td>0.0</td>\n",
       "      <td>7.96</td>\n",
       "      <td>1.071302</td>\n",
       "      <td>0.0</td>\n",
       "      <td>...</td>\n",
       "      <td>NaN</td>\n",
       "      <td>NaN</td>\n",
       "      <td>NaN</td>\n",
       "      <td>NaN</td>\n",
       "      <td>NaN</td>\n",
       "      <td>NaN</td>\n",
       "      <td>NaN</td>\n",
       "      <td>NaN</td>\n",
       "      <td>NaN</td>\n",
       "      <td>NaN</td>\n",
       "    </tr>\n",
       "    <tr>\n",
       "      <th>4</th>\n",
       "      <td>46e6695</td>\n",
       "      <td>Alabama</td>\n",
       "      <td>1990</td>\n",
       "      <td>85-89</td>\n",
       "      <td>3470.199503</td>\n",
       "      <td>0.664543</td>\n",
       "      <td>0.0</td>\n",
       "      <td>7.96</td>\n",
       "      <td>1.071302</td>\n",
       "      <td>0.0</td>\n",
       "      <td>...</td>\n",
       "      <td>NaN</td>\n",
       "      <td>NaN</td>\n",
       "      <td>NaN</td>\n",
       "      <td>NaN</td>\n",
       "      <td>NaN</td>\n",
       "      <td>NaN</td>\n",
       "      <td>NaN</td>\n",
       "      <td>NaN</td>\n",
       "      <td>NaN</td>\n",
       "      <td>NaN</td>\n",
       "    </tr>\n",
       "  </tbody>\n",
       "</table>\n",
       "<p>5 rows × 200 columns</p>\n",
       "</div>"
      ],
      "text/plain": [
       "        ID State_Name  Year    Age    Incidence  \\\n",
       "0  f8312a4    Alabama  1990  65-69  4685.284313   \n",
       "1  3effa36    Alabama  1990  70-74  4827.052043   \n",
       "2  1e8044b    Alabama  1990  75-79  4377.956914   \n",
       "3  d875d65    Alabama  1990  80-84  3822.732993   \n",
       "4  46e6695    Alabama  1990  85-89  3470.199503   \n",
       "\n",
       "   Arithmetic_Mean_mean_Lead_(TSP)_STP  Arithmetic_Mean_min_Lead_(TSP)_STP  \\\n",
       "0                             0.664543                                 0.0   \n",
       "1                             0.664543                                 0.0   \n",
       "2                             0.664543                                 0.0   \n",
       "3                             0.664543                                 0.0   \n",
       "4                             0.664543                                 0.0   \n",
       "\n",
       "   Arithmetic_Mean_max_Lead_(TSP)_STP  Arithmetic_Mean_mean_Lead_(TSP)_STP_l2  \\\n",
       "0                                7.96                                1.071302   \n",
       "1                                7.96                                1.071302   \n",
       "2                                7.96                                1.071302   \n",
       "3                                7.96                                1.071302   \n",
       "4                                7.96                                1.071302   \n",
       "\n",
       "   Arithmetic_Mean_min_Lead_(TSP)_STP_l2  ...  X1st_Max_Value_max_Benzene_l8  \\\n",
       "0                                    0.0  ...                            NaN   \n",
       "1                                    0.0  ...                            NaN   \n",
       "2                                    0.0  ...                            NaN   \n",
       "3                                    0.0  ...                            NaN   \n",
       "4                                    0.0  ...                            NaN   \n",
       "\n",
       "   X1st_Max_Value_max_Ethylbenzene_l2  X1st_Max_Value_max_Ethylbenzene_l5  \\\n",
       "0                                 NaN                                 NaN   \n",
       "1                                 NaN                                 NaN   \n",
       "2                                 NaN                                 NaN   \n",
       "3                                 NaN                                 NaN   \n",
       "4                                 NaN                                 NaN   \n",
       "\n",
       "   X1st_Max_Value_max_Ethylbenzene_l8  X1st_Max_Value_max_Toluene_l2  \\\n",
       "0                                 NaN                            NaN   \n",
       "1                                 NaN                            NaN   \n",
       "2                                 NaN                            NaN   \n",
       "3                                 NaN                            NaN   \n",
       "4                                 NaN                            NaN   \n",
       "\n",
       "   X1st_Max_Value_max_Toluene_l5  X1st_Max_Value_max_Toluene_l8  \\\n",
       "0                            NaN                            NaN   \n",
       "1                            NaN                            NaN   \n",
       "2                            NaN                            NaN   \n",
       "3                            NaN                            NaN   \n",
       "4                            NaN                            NaN   \n",
       "\n",
       "   X1st_Max_Value_max_o-Xylene_l2  X1st_Max_Value_max_o-Xylene_l5  \\\n",
       "0                             NaN                             NaN   \n",
       "1                             NaN                             NaN   \n",
       "2                             NaN                             NaN   \n",
       "3                             NaN                             NaN   \n",
       "4                             NaN                             NaN   \n",
       "\n",
       "   X1st_Max_Value_max_o-Xylene_l8  \n",
       "0                             NaN  \n",
       "1                             NaN  \n",
       "2                             NaN  \n",
       "3                             NaN  \n",
       "4                             NaN  \n",
       "\n",
       "[5 rows x 200 columns]"
      ]
     },
     "execution_count": 21,
     "metadata": {},
     "output_type": "execute_result"
    }
   ],
   "source": [
    "train = pd.read_csv('train_complete.csv', sep = ',')\n",
    "train.head()"
   ]
  },
  {
   "cell_type": "code",
   "execution_count": 22,
   "id": "7605b9c5",
   "metadata": {},
   "outputs": [
    {
     "data": {
      "text/html": [
       "<div>\n",
       "<style scoped>\n",
       "    .dataframe tbody tr th:only-of-type {\n",
       "        vertical-align: middle;\n",
       "    }\n",
       "\n",
       "    .dataframe tbody tr th {\n",
       "        vertical-align: top;\n",
       "    }\n",
       "\n",
       "    .dataframe thead th {\n",
       "        text-align: right;\n",
       "    }\n",
       "</style>\n",
       "<table border=\"1\" class=\"dataframe\">\n",
       "  <thead>\n",
       "    <tr style=\"text-align: right;\">\n",
       "      <th></th>\n",
       "      <th>ID</th>\n",
       "      <th>State_Name</th>\n",
       "      <th>Year</th>\n",
       "      <th>Age</th>\n",
       "      <th>Arithmetic_Mean_mean_Lead_(TSP)_STP</th>\n",
       "      <th>Arithmetic_Mean_min_Lead_(TSP)_STP</th>\n",
       "      <th>Arithmetic_Mean_max_Lead_(TSP)_STP</th>\n",
       "      <th>Arithmetic_Mean_mean_Lead_(TSP)_STP_l2</th>\n",
       "      <th>Arithmetic_Mean_min_Lead_(TSP)_STP_l2</th>\n",
       "      <th>Arithmetic_Mean_max_Lead_(TSP)_STP_l2</th>\n",
       "      <th>...</th>\n",
       "      <th>X1st_Max_Value_max_Benzene_l8</th>\n",
       "      <th>X1st_Max_Value_max_Ethylbenzene_l2</th>\n",
       "      <th>X1st_Max_Value_max_Ethylbenzene_l5</th>\n",
       "      <th>X1st_Max_Value_max_Ethylbenzene_l8</th>\n",
       "      <th>X1st_Max_Value_max_Toluene_l2</th>\n",
       "      <th>X1st_Max_Value_max_Toluene_l5</th>\n",
       "      <th>X1st_Max_Value_max_Toluene_l8</th>\n",
       "      <th>X1st_Max_Value_max_o-Xylene_l2</th>\n",
       "      <th>X1st_Max_Value_max_o-Xylene_l5</th>\n",
       "      <th>X1st_Max_Value_max_o-Xylene_l8</th>\n",
       "    </tr>\n",
       "  </thead>\n",
       "  <tbody>\n",
       "    <tr>\n",
       "      <th>0</th>\n",
       "      <td>6c06615</td>\n",
       "      <td>Delaware</td>\n",
       "      <td>1990</td>\n",
       "      <td>65-69</td>\n",
       "      <td>NaN</td>\n",
       "      <td>NaN</td>\n",
       "      <td>NaN</td>\n",
       "      <td>NaN</td>\n",
       "      <td>NaN</td>\n",
       "      <td>NaN</td>\n",
       "      <td>...</td>\n",
       "      <td>NaN</td>\n",
       "      <td>NaN</td>\n",
       "      <td>NaN</td>\n",
       "      <td>NaN</td>\n",
       "      <td>NaN</td>\n",
       "      <td>NaN</td>\n",
       "      <td>NaN</td>\n",
       "      <td>NaN</td>\n",
       "      <td>NaN</td>\n",
       "      <td>NaN</td>\n",
       "    </tr>\n",
       "    <tr>\n",
       "      <th>1</th>\n",
       "      <td>e0cf76e</td>\n",
       "      <td>Delaware</td>\n",
       "      <td>1990</td>\n",
       "      <td>70-74</td>\n",
       "      <td>NaN</td>\n",
       "      <td>NaN</td>\n",
       "      <td>NaN</td>\n",
       "      <td>NaN</td>\n",
       "      <td>NaN</td>\n",
       "      <td>NaN</td>\n",
       "      <td>...</td>\n",
       "      <td>NaN</td>\n",
       "      <td>NaN</td>\n",
       "      <td>NaN</td>\n",
       "      <td>NaN</td>\n",
       "      <td>NaN</td>\n",
       "      <td>NaN</td>\n",
       "      <td>NaN</td>\n",
       "      <td>NaN</td>\n",
       "      <td>NaN</td>\n",
       "      <td>NaN</td>\n",
       "    </tr>\n",
       "    <tr>\n",
       "      <th>2</th>\n",
       "      <td>e9f95f0</td>\n",
       "      <td>Delaware</td>\n",
       "      <td>1990</td>\n",
       "      <td>75-79</td>\n",
       "      <td>NaN</td>\n",
       "      <td>NaN</td>\n",
       "      <td>NaN</td>\n",
       "      <td>NaN</td>\n",
       "      <td>NaN</td>\n",
       "      <td>NaN</td>\n",
       "      <td>...</td>\n",
       "      <td>NaN</td>\n",
       "      <td>NaN</td>\n",
       "      <td>NaN</td>\n",
       "      <td>NaN</td>\n",
       "      <td>NaN</td>\n",
       "      <td>NaN</td>\n",
       "      <td>NaN</td>\n",
       "      <td>NaN</td>\n",
       "      <td>NaN</td>\n",
       "      <td>NaN</td>\n",
       "    </tr>\n",
       "    <tr>\n",
       "      <th>3</th>\n",
       "      <td>5dffe44</td>\n",
       "      <td>Delaware</td>\n",
       "      <td>1990</td>\n",
       "      <td>80-84</td>\n",
       "      <td>NaN</td>\n",
       "      <td>NaN</td>\n",
       "      <td>NaN</td>\n",
       "      <td>NaN</td>\n",
       "      <td>NaN</td>\n",
       "      <td>NaN</td>\n",
       "      <td>...</td>\n",
       "      <td>NaN</td>\n",
       "      <td>NaN</td>\n",
       "      <td>NaN</td>\n",
       "      <td>NaN</td>\n",
       "      <td>NaN</td>\n",
       "      <td>NaN</td>\n",
       "      <td>NaN</td>\n",
       "      <td>NaN</td>\n",
       "      <td>NaN</td>\n",
       "      <td>NaN</td>\n",
       "    </tr>\n",
       "    <tr>\n",
       "      <th>4</th>\n",
       "      <td>9f9ea9b</td>\n",
       "      <td>Delaware</td>\n",
       "      <td>1990</td>\n",
       "      <td>85-89</td>\n",
       "      <td>NaN</td>\n",
       "      <td>NaN</td>\n",
       "      <td>NaN</td>\n",
       "      <td>NaN</td>\n",
       "      <td>NaN</td>\n",
       "      <td>NaN</td>\n",
       "      <td>...</td>\n",
       "      <td>NaN</td>\n",
       "      <td>NaN</td>\n",
       "      <td>NaN</td>\n",
       "      <td>NaN</td>\n",
       "      <td>NaN</td>\n",
       "      <td>NaN</td>\n",
       "      <td>NaN</td>\n",
       "      <td>NaN</td>\n",
       "      <td>NaN</td>\n",
       "      <td>NaN</td>\n",
       "    </tr>\n",
       "  </tbody>\n",
       "</table>\n",
       "<p>5 rows × 199 columns</p>\n",
       "</div>"
      ],
      "text/plain": [
       "        ID State_Name  Year    Age  Arithmetic_Mean_mean_Lead_(TSP)_STP  \\\n",
       "0  6c06615   Delaware  1990  65-69                                  NaN   \n",
       "1  e0cf76e   Delaware  1990  70-74                                  NaN   \n",
       "2  e9f95f0   Delaware  1990  75-79                                  NaN   \n",
       "3  5dffe44   Delaware  1990  80-84                                  NaN   \n",
       "4  9f9ea9b   Delaware  1990  85-89                                  NaN   \n",
       "\n",
       "   Arithmetic_Mean_min_Lead_(TSP)_STP  Arithmetic_Mean_max_Lead_(TSP)_STP  \\\n",
       "0                                 NaN                                 NaN   \n",
       "1                                 NaN                                 NaN   \n",
       "2                                 NaN                                 NaN   \n",
       "3                                 NaN                                 NaN   \n",
       "4                                 NaN                                 NaN   \n",
       "\n",
       "   Arithmetic_Mean_mean_Lead_(TSP)_STP_l2  \\\n",
       "0                                     NaN   \n",
       "1                                     NaN   \n",
       "2                                     NaN   \n",
       "3                                     NaN   \n",
       "4                                     NaN   \n",
       "\n",
       "   Arithmetic_Mean_min_Lead_(TSP)_STP_l2  \\\n",
       "0                                    NaN   \n",
       "1                                    NaN   \n",
       "2                                    NaN   \n",
       "3                                    NaN   \n",
       "4                                    NaN   \n",
       "\n",
       "   Arithmetic_Mean_max_Lead_(TSP)_STP_l2  ...  X1st_Max_Value_max_Benzene_l8  \\\n",
       "0                                    NaN  ...                            NaN   \n",
       "1                                    NaN  ...                            NaN   \n",
       "2                                    NaN  ...                            NaN   \n",
       "3                                    NaN  ...                            NaN   \n",
       "4                                    NaN  ...                            NaN   \n",
       "\n",
       "   X1st_Max_Value_max_Ethylbenzene_l2  X1st_Max_Value_max_Ethylbenzene_l5  \\\n",
       "0                                 NaN                                 NaN   \n",
       "1                                 NaN                                 NaN   \n",
       "2                                 NaN                                 NaN   \n",
       "3                                 NaN                                 NaN   \n",
       "4                                 NaN                                 NaN   \n",
       "\n",
       "   X1st_Max_Value_max_Ethylbenzene_l8  X1st_Max_Value_max_Toluene_l2  \\\n",
       "0                                 NaN                            NaN   \n",
       "1                                 NaN                            NaN   \n",
       "2                                 NaN                            NaN   \n",
       "3                                 NaN                            NaN   \n",
       "4                                 NaN                            NaN   \n",
       "\n",
       "   X1st_Max_Value_max_Toluene_l5  X1st_Max_Value_max_Toluene_l8  \\\n",
       "0                            NaN                            NaN   \n",
       "1                            NaN                            NaN   \n",
       "2                            NaN                            NaN   \n",
       "3                            NaN                            NaN   \n",
       "4                            NaN                            NaN   \n",
       "\n",
       "   X1st_Max_Value_max_o-Xylene_l2  X1st_Max_Value_max_o-Xylene_l5  \\\n",
       "0                             NaN                             NaN   \n",
       "1                             NaN                             NaN   \n",
       "2                             NaN                             NaN   \n",
       "3                             NaN                             NaN   \n",
       "4                             NaN                             NaN   \n",
       "\n",
       "   X1st_Max_Value_max_o-Xylene_l8  \n",
       "0                             NaN  \n",
       "1                             NaN  \n",
       "2                             NaN  \n",
       "3                             NaN  \n",
       "4                             NaN  \n",
       "\n",
       "[5 rows x 199 columns]"
      ]
     },
     "execution_count": 22,
     "metadata": {},
     "output_type": "execute_result"
    }
   ],
   "source": [
    "real_test = pd.read_csv('test_complete.csv', sep = ',')\n",
    "real_test.head()"
   ]
  },
  {
   "cell_type": "markdown",
   "id": "345c7dd9",
   "metadata": {},
   "source": [
    "# Drop columns with missing values  > 25% (mostly lagged 8 and lagged 5 columns)"
   ]
  },
  {
   "cell_type": "code",
   "execution_count": 23,
   "id": "45461740",
   "metadata": {},
   "outputs": [
    {
     "data": {
      "text/plain": [
       "Arithmetic_Mean_max_o-Xylene_l8     0.633333\n",
       "Arithmetic_Mean_mean_o-Xylene_l8    0.633333\n",
       "X1st_Max_Value_mean_o-Xylene_l8     0.633333\n",
       "X1st_Max_Value_max_o-Xylene_l8      0.633333\n",
       "dtype: float64"
      ]
     },
     "execution_count": 23,
     "metadata": {},
     "output_type": "execute_result"
    }
   ],
   "source": [
    "train.isnull().mean().sort_values().tail(4)"
   ]
  },
  {
   "cell_type": "code",
   "execution_count": 24,
   "id": "6421de69",
   "metadata": {},
   "outputs": [
    {
     "data": {
      "text/plain": [
       "ID                                         0.00\n",
       "State_Name                                 0.00\n",
       "Year                                       0.00\n",
       "Age                                        0.00\n",
       "Incidence                                  0.00\n",
       "Arithmetic_Mean_mean_Arsenic_PM2.5_LC      0.12\n",
       "Arithmetic_Mean_mean_Chromium_PM2.5_LC     0.12\n",
       "Arithmetic_Mean_mean_Lead_PM2.5_LC         0.12\n",
       "Arithmetic_Mean_mean_Manganese_PM2.5_LC    0.12\n",
       "Arithmetic_Mean_mean_Nickel_PM2.5_LC       0.12\n",
       "dtype: float64"
      ]
     },
     "execution_count": 24,
     "metadata": {},
     "output_type": "execute_result"
    }
   ],
   "source": [
    "# Eliminate columns with more than 25% missing values\n",
    "    # We keep more columns because we are interested in checking correlations afterwards\n",
    "    \n",
    "\n",
    "train.dropna(thresh = train.shape[0]*.75, axis = 1, inplace = True)\n",
    "train.isnull().mean().head(10)"
   ]
  },
  {
   "cell_type": "code",
   "execution_count": 25,
   "id": "c995ec6a",
   "metadata": {},
   "outputs": [
    {
     "data": {
      "text/plain": [
       "(4500, 62)"
      ]
     },
     "execution_count": 25,
     "metadata": {},
     "output_type": "execute_result"
    }
   ],
   "source": [
    "train.shape"
   ]
  },
  {
   "cell_type": "code",
   "execution_count": 26,
   "id": "5a43c10f",
   "metadata": {},
   "outputs": [],
   "source": [
    "# Now we select the columns to match train & test\n",
    "\n",
    "columns_keep = train.drop(columns='Incidence').columns\n",
    "#columns_keep"
   ]
  },
  {
   "cell_type": "code",
   "execution_count": 27,
   "id": "60043e7c",
   "metadata": {},
   "outputs": [
    {
     "data": {
      "text/plain": [
       "(4680, 61)"
      ]
     },
     "execution_count": 27,
     "metadata": {},
     "output_type": "execute_result"
    }
   ],
   "source": [
    "# Now we eliminate the same columns from test\n",
    "\n",
    "real_test = real_test[columns_keep].copy()\n",
    "real_test.shape"
   ]
  },
  {
   "cell_type": "markdown",
   "id": "f9078b7c",
   "metadata": {},
   "source": [
    "# Imputing data\n"
   ]
  },
  {
   "cell_type": "code",
   "execution_count": 28,
   "id": "4b16b5cf",
   "metadata": {},
   "outputs": [],
   "source": [
    "# There is no need to drop_first to make KnnImputer\n",
    "\n",
    "# We don't do dummies of State_Name because the States don't match in the real_test data set\n",
    "train_dummies = pd.get_dummies(train, columns=['Age'])\n",
    "real_test_dummies = pd.get_dummies(real_test, columns=['Age'])"
   ]
  },
  {
   "cell_type": "code",
   "execution_count": 29,
   "id": "81f9097c",
   "metadata": {},
   "outputs": [],
   "source": [
    "# Set X and Y\n",
    "# don't drop ID, we will need it later\n",
    "\n",
    "X_complete = train_dummies.drop(columns=['Incidence', 'State_Name'])  \n",
    "X_real_test_complete = real_test_dummies.drop(columns ='State_Name') \n",
    "y = train['Incidence']\n"
   ]
  },
  {
   "cell_type": "code",
   "execution_count": 30,
   "id": "1e923a84",
   "metadata": {},
   "outputs": [],
   "source": [
    "# Separate in train and test\n",
    "    # I call them _complete to mantain the ID and join it to datasets before saving\n",
    "    # X_train_complete and X_test complete have ID\n",
    "        # from these datasets I will get ID later\n",
    "            # I need ID to submit the competition\n",
    "        \n",
    "\n",
    "X_train_complete, X_test_complete, y_train, y_test = train_test_split(X_complete,y, random_state= 14, shuffle = False)"
   ]
  },
  {
   "cell_type": "code",
   "execution_count": 31,
   "id": "2f4b3a08",
   "metadata": {},
   "outputs": [],
   "source": [
    "# Drop until now ID --> to be able to merge later with standardized and imputed datasets\n",
    "\n",
    "X_train = X_train_complete.drop(columns='ID')\n",
    "X_test = X_test_complete.drop(columns='ID')\n",
    "X_real_test = X_real_test_complete.drop(columns='ID')"
   ]
  },
  {
   "cell_type": "code",
   "execution_count": 32,
   "id": "431b147f",
   "metadata": {},
   "outputs": [],
   "source": [
    "# Need to create dummies to scale data\n",
    "    # Standard scaler does not work with strings\n",
    "    # we need to scale data with KNN because that method is sensitive to scale of variables\n",
    "    \n",
    "ss = StandardScaler()\n",
    "# Fit & transform in train\n",
    "X_train_sc = ss.fit_transform(X_train)  \n",
    "\n",
    "#Only transform in tests\n",
    "X_test_sc = ss.transform(X_test)\n",
    "X_real_test_sc = ss.transform(X_real_test)\n"
   ]
  },
  {
   "cell_type": "code",
   "execution_count": 33,
   "id": "3415bab7",
   "metadata": {},
   "outputs": [],
   "source": [
    "# Impute missing values\n",
    "\n",
    "knn_imp = KNNImputer()\n",
    "\n",
    "# Fit & transform in train\n",
    "X_train_sc_imp = knn_imp.fit_transform(X_train_sc)\n",
    "\n",
    "# Only transform in tests\n",
    "X_test_sc_imp = knn_imp.transform(X_test_sc)\n",
    "X_real_test_sc_imp = knn_imp.transform(X_real_test_sc)\n",
    "\n",
    "# Make DataFrames again\n",
    "X_train_sc_imp_df = pd.DataFrame(X_train_sc_imp, columns=X_train.columns)\n",
    "X_test_sc_imp_df = pd.DataFrame(X_test_sc_imp, columns=X_test.columns)\n",
    "X_real_test_sc_imp_df = pd.DataFrame(X_real_test_sc_imp, columns=X_real_test.columns)"
   ]
  },
  {
   "cell_type": "markdown",
   "id": "2c72465e",
   "metadata": {},
   "source": [
    "Note: we don't unscale databases once missing values have been imputed because for modeling we would've scaled for trying regularization methods"
   ]
  },
  {
   "cell_type": "code",
   "execution_count": 34,
   "id": "dca94045",
   "metadata": {},
   "outputs": [
    {
     "data": {
      "text/plain": [
       "((3375, 64), (1125, 64), (4680, 64))"
      ]
     },
     "execution_count": 34,
     "metadata": {},
     "output_type": "execute_result"
    }
   ],
   "source": [
    "# To double check later \n",
    "X_train_sc_imp_df.shape, X_test_sc_imp_df.shape, X_real_test_sc_imp_df.shape"
   ]
  },
  {
   "cell_type": "code",
   "execution_count": 35,
   "id": "51721a6a",
   "metadata": {},
   "outputs": [
    {
     "data": {
      "text/plain": [
       "((3375,), (1125,))"
      ]
     },
     "execution_count": 35,
     "metadata": {},
     "output_type": "execute_result"
    }
   ],
   "source": [
    "# To double check later \n",
    "y_train.shape, y_test.shape"
   ]
  },
  {
   "cell_type": "code",
   "execution_count": 36,
   "id": "2e53c23b",
   "metadata": {},
   "outputs": [],
   "source": [
    "# Copy databases first, in case we need to go back to previous\n",
    "\n",
    "X_train_save = X_train_sc_imp_df.copy()\n",
    "X_test_save = X_test_sc_imp_df.copy()\n",
    "X_real_test_save = X_real_test_sc_imp_df.copy()\n",
    "\n",
    "# Adding ID again to the databases\n",
    "    # this works because the processes above didn't shuffle the information\n",
    "    # so I can add as a column from separated databases\n",
    "\n",
    "X_train_save['ID'] = X_train_complete['ID']\n",
    "X_test_save['ID'] = X_test_complete['ID']\n",
    "X_real_test_save['ID'] = X_real_test_complete['ID']"
   ]
  },
  {
   "cell_type": "code",
   "execution_count": 37,
   "id": "52778a91",
   "metadata": {},
   "outputs": [
    {
     "data": {
      "text/plain": [
       "((3375, 65), (1125, 65), (4680, 65))"
      ]
     },
     "execution_count": 37,
     "metadata": {},
     "output_type": "execute_result"
    }
   ],
   "source": [
    "# Double check that only one column was added and rows stay the same\n",
    "X_train_save.shape, X_test_save.shape, X_real_test_save.shape"
   ]
  },
  {
   "cell_type": "code",
   "execution_count": 38,
   "id": "e11f677d",
   "metadata": {},
   "outputs": [
    {
     "data": {
      "text/plain": [
       "((3375,), (1125,))"
      ]
     },
     "execution_count": 38,
     "metadata": {},
     "output_type": "execute_result"
    }
   ],
   "source": [
    "# Double check length of data\n",
    "y_train.shape, y_test.shape"
   ]
  },
  {
   "cell_type": "code",
   "execution_count": 39,
   "id": "b8255c73",
   "metadata": {},
   "outputs": [],
   "source": [
    "# Save datasets for modeling notebooks\n",
    "\n",
    "X_train_save.to_csv('X_train_model.csv', sep=',', index = False)\n",
    "X_test_save.to_csv('X_test_model.csv', sep=',', index = False)\n",
    "X_real_test_save.to_csv('X_real_test_model.csv', sep=',', index = False)\n",
    "y_train.to_csv('y_train_model.csv', sep=',', index = False)\n",
    "y_test.to_csv('y_test_model.csv', sep=',', index = False)"
   ]
  },
  {
   "cell_type": "code",
   "execution_count": null,
   "id": "785fd38a",
   "metadata": {},
   "outputs": [],
   "source": []
  }
 ],
 "metadata": {
  "kernelspec": {
   "display_name": "Python 3 (ipykernel)",
   "language": "python",
   "name": "python3"
  },
  "language_info": {
   "codemirror_mode": {
    "name": "ipython",
    "version": 3
   },
   "file_extension": ".py",
   "mimetype": "text/x-python",
   "name": "python",
   "nbconvert_exporter": "python",
   "pygments_lexer": "ipython3",
   "version": "3.11.4"
  }
 },
 "nbformat": 4,
 "nbformat_minor": 5
}
