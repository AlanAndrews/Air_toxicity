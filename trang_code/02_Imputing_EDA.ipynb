{
 "cells": [
  {
   "cell_type": "markdown",
   "id": "6b576d0e-6947-48f3-bbb4-be437db1fd56",
   "metadata": {},
   "source": [
    "# Project 5 - Air Toxicity and Chronic Respiratory Diseases - Kaggel Competition"
   ]
  },
  {
   "cell_type": "markdown",
   "id": "86bfa93c-7113-45eb-ad19-a6f5c1f30d49",
   "metadata": {},
   "source": [
    "## Problem Statement"
   ]
  },
  {
   "cell_type": "markdown",
   "id": "a7c2c1ff-6842-43af-bd9a-5ffec8e736b7",
   "metadata": {},
   "source": [
    "We will be developing a model that can accurately predict the incidence of chronic respiratory diseases based on air toxicity parameters. We will be submitting our results in the Air Toxicity and Chronic Respiratory Disease kaggle competition. ([Linked here](https://www.kaggle.com/competitions/air-toxicity-and-chronic-respiratory-diseases-us/data))\n",
    "We believe that this analysis will be useful to epidemiologists in determining environmental settings that trigger respiratory diseases and estimating resources necessary to treat patients suffering from respiratory diseases.\n",
    "We are planning on fitting various regression models on our data to predict disease incidence rates.\n"
   ]
  },
  {
   "cell_type": "markdown",
   "id": "3af7d49e-4b4c-43aa-8410-1d5ffe53f372",
   "metadata": {},
   "source": [
    "### Contents:\n",
    "- [Train Data](#Train-Data)\n",
    "- [Test Data](#Test-Data)\n",
    "- [Imputation](#Imputation)\n",
    "- [Modeling](#Modeling)\n",
    "- [Conclusions and Recommendations](#Conclusions-and-Recommendations)"
   ]
  },
  {
   "cell_type": "markdown",
   "id": "8a04ca95-bee5-4573-b33f-0657b4f47a99",
   "metadata": {},
   "source": [
    "### Import library"
   ]
  },
  {
   "cell_type": "code",
   "execution_count": 38,
   "id": "3f5abb22-9d6d-4723-b784-b2378f99880c",
   "metadata": {
    "tags": []
   },
   "outputs": [],
   "source": [
    "import pandas as pd\n",
    "import numpy as np\n",
    "import matplotlib.pyplot as plt\n",
    "\n",
    "from sklearn.experimental import enable_iterative_imputer \n",
    "from sklearn.impute import IterativeImputer\n",
    "from sklearn.linear_model import LinearRegression\n",
    "from sklearn.ensemble import RandomForestRegressor \n",
    "from sklearn.model_selection import train_test_split, cross_val_score, GridSearchCV\n",
    "from sklearn.pipeline import Pipeline\n",
    "from sklearn.preprocessing import StandardScaler\n",
    "from sklearn.compose import make_column_transformer, ColumnTransformer\n",
    "from sklearn.metrics import mean_absolute_error, mean_squared_error, r2_score \n",
    "from sklearn.svm import SVR\n",
    "from sklearn.ensemble import AdaBoostRegressor, ExtraTreesRegressor\n",
    "from sklearn.tree import DecisionTreeRegressor\n"
   ]
  },
  {
   "cell_type": "markdown",
   "id": "75733583-4b13-4022-8549-0956ef2d3f0d",
   "metadata": {
    "tags": []
   },
   "source": [
    "## Train Data"
   ]
  },
  {
   "cell_type": "code",
   "execution_count": 2,
   "id": "47aaaca6-6808-49e7-b332-99a36b28f59e",
   "metadata": {
    "tags": []
   },
   "outputs": [
    {
     "data": {
      "text/html": [
       "<div>\n",
       "<style scoped>\n",
       "    .dataframe tbody tr th:only-of-type {\n",
       "        vertical-align: middle;\n",
       "    }\n",
       "\n",
       "    .dataframe tbody tr th {\n",
       "        vertical-align: top;\n",
       "    }\n",
       "\n",
       "    .dataframe thead th {\n",
       "        text-align: right;\n",
       "    }\n",
       "</style>\n",
       "<table border=\"1\" class=\"dataframe\">\n",
       "  <thead>\n",
       "    <tr style=\"text-align: right;\">\n",
       "      <th></th>\n",
       "      <th>ID</th>\n",
       "      <th>State_Name</th>\n",
       "      <th>Year</th>\n",
       "      <th>Age</th>\n",
       "      <th>Incidence</th>\n",
       "      <th>Arithmetic_Mean_mean_Lead_(TSP)_STP</th>\n",
       "      <th>Arithmetic_Mean_min_Lead_(TSP)_STP</th>\n",
       "      <th>Arithmetic_Mean_max_Lead_(TSP)_STP</th>\n",
       "      <th>Arithmetic_Mean_mean_Lead_(TSP)_STP_l2</th>\n",
       "      <th>Arithmetic_Mean_min_Lead_(TSP)_STP_l2</th>\n",
       "      <th>...</th>\n",
       "      <th>X1st_Max_Value_max_Benzene_l8</th>\n",
       "      <th>X1st_Max_Value_max_Ethylbenzene_l2</th>\n",
       "      <th>X1st_Max_Value_max_Ethylbenzene_l5</th>\n",
       "      <th>X1st_Max_Value_max_Ethylbenzene_l8</th>\n",
       "      <th>X1st_Max_Value_max_Toluene_l2</th>\n",
       "      <th>X1st_Max_Value_max_Toluene_l5</th>\n",
       "      <th>X1st_Max_Value_max_Toluene_l8</th>\n",
       "      <th>X1st_Max_Value_max_o-Xylene_l2</th>\n",
       "      <th>X1st_Max_Value_max_o-Xylene_l5</th>\n",
       "      <th>X1st_Max_Value_max_o-Xylene_l8</th>\n",
       "    </tr>\n",
       "  </thead>\n",
       "  <tbody>\n",
       "    <tr>\n",
       "      <th>0</th>\n",
       "      <td>f8312a4</td>\n",
       "      <td>Alabama</td>\n",
       "      <td>1990</td>\n",
       "      <td>65-69</td>\n",
       "      <td>4685.284313</td>\n",
       "      <td>0.664543</td>\n",
       "      <td>0.0</td>\n",
       "      <td>7.96</td>\n",
       "      <td>1.071302</td>\n",
       "      <td>0.0</td>\n",
       "      <td>...</td>\n",
       "      <td>NaN</td>\n",
       "      <td>NaN</td>\n",
       "      <td>NaN</td>\n",
       "      <td>NaN</td>\n",
       "      <td>NaN</td>\n",
       "      <td>NaN</td>\n",
       "      <td>NaN</td>\n",
       "      <td>NaN</td>\n",
       "      <td>NaN</td>\n",
       "      <td>NaN</td>\n",
       "    </tr>\n",
       "    <tr>\n",
       "      <th>1</th>\n",
       "      <td>3effa36</td>\n",
       "      <td>Alabama</td>\n",
       "      <td>1990</td>\n",
       "      <td>70-74</td>\n",
       "      <td>4827.052043</td>\n",
       "      <td>0.664543</td>\n",
       "      <td>0.0</td>\n",
       "      <td>7.96</td>\n",
       "      <td>1.071302</td>\n",
       "      <td>0.0</td>\n",
       "      <td>...</td>\n",
       "      <td>NaN</td>\n",
       "      <td>NaN</td>\n",
       "      <td>NaN</td>\n",
       "      <td>NaN</td>\n",
       "      <td>NaN</td>\n",
       "      <td>NaN</td>\n",
       "      <td>NaN</td>\n",
       "      <td>NaN</td>\n",
       "      <td>NaN</td>\n",
       "      <td>NaN</td>\n",
       "    </tr>\n",
       "    <tr>\n",
       "      <th>2</th>\n",
       "      <td>1e8044b</td>\n",
       "      <td>Alabama</td>\n",
       "      <td>1990</td>\n",
       "      <td>75-79</td>\n",
       "      <td>4377.956914</td>\n",
       "      <td>0.664543</td>\n",
       "      <td>0.0</td>\n",
       "      <td>7.96</td>\n",
       "      <td>1.071302</td>\n",
       "      <td>0.0</td>\n",
       "      <td>...</td>\n",
       "      <td>NaN</td>\n",
       "      <td>NaN</td>\n",
       "      <td>NaN</td>\n",
       "      <td>NaN</td>\n",
       "      <td>NaN</td>\n",
       "      <td>NaN</td>\n",
       "      <td>NaN</td>\n",
       "      <td>NaN</td>\n",
       "      <td>NaN</td>\n",
       "      <td>NaN</td>\n",
       "    </tr>\n",
       "    <tr>\n",
       "      <th>3</th>\n",
       "      <td>d875d65</td>\n",
       "      <td>Alabama</td>\n",
       "      <td>1990</td>\n",
       "      <td>80-84</td>\n",
       "      <td>3822.732993</td>\n",
       "      <td>0.664543</td>\n",
       "      <td>0.0</td>\n",
       "      <td>7.96</td>\n",
       "      <td>1.071302</td>\n",
       "      <td>0.0</td>\n",
       "      <td>...</td>\n",
       "      <td>NaN</td>\n",
       "      <td>NaN</td>\n",
       "      <td>NaN</td>\n",
       "      <td>NaN</td>\n",
       "      <td>NaN</td>\n",
       "      <td>NaN</td>\n",
       "      <td>NaN</td>\n",
       "      <td>NaN</td>\n",
       "      <td>NaN</td>\n",
       "      <td>NaN</td>\n",
       "    </tr>\n",
       "    <tr>\n",
       "      <th>4</th>\n",
       "      <td>46e6695</td>\n",
       "      <td>Alabama</td>\n",
       "      <td>1990</td>\n",
       "      <td>85-89</td>\n",
       "      <td>3470.199503</td>\n",
       "      <td>0.664543</td>\n",
       "      <td>0.0</td>\n",
       "      <td>7.96</td>\n",
       "      <td>1.071302</td>\n",
       "      <td>0.0</td>\n",
       "      <td>...</td>\n",
       "      <td>NaN</td>\n",
       "      <td>NaN</td>\n",
       "      <td>NaN</td>\n",
       "      <td>NaN</td>\n",
       "      <td>NaN</td>\n",
       "      <td>NaN</td>\n",
       "      <td>NaN</td>\n",
       "      <td>NaN</td>\n",
       "      <td>NaN</td>\n",
       "      <td>NaN</td>\n",
       "    </tr>\n",
       "  </tbody>\n",
       "</table>\n",
       "<p>5 rows × 200 columns</p>\n",
       "</div>"
      ],
      "text/plain": [
       "        ID State_Name  Year    Age    Incidence  \\\n",
       "0  f8312a4    Alabama  1990  65-69  4685.284313   \n",
       "1  3effa36    Alabama  1990  70-74  4827.052043   \n",
       "2  1e8044b    Alabama  1990  75-79  4377.956914   \n",
       "3  d875d65    Alabama  1990  80-84  3822.732993   \n",
       "4  46e6695    Alabama  1990  85-89  3470.199503   \n",
       "\n",
       "   Arithmetic_Mean_mean_Lead_(TSP)_STP  Arithmetic_Mean_min_Lead_(TSP)_STP  \\\n",
       "0                             0.664543                                 0.0   \n",
       "1                             0.664543                                 0.0   \n",
       "2                             0.664543                                 0.0   \n",
       "3                             0.664543                                 0.0   \n",
       "4                             0.664543                                 0.0   \n",
       "\n",
       "   Arithmetic_Mean_max_Lead_(TSP)_STP  Arithmetic_Mean_mean_Lead_(TSP)_STP_l2  \\\n",
       "0                                7.96                                1.071302   \n",
       "1                                7.96                                1.071302   \n",
       "2                                7.96                                1.071302   \n",
       "3                                7.96                                1.071302   \n",
       "4                                7.96                                1.071302   \n",
       "\n",
       "   Arithmetic_Mean_min_Lead_(TSP)_STP_l2  ...  X1st_Max_Value_max_Benzene_l8  \\\n",
       "0                                    0.0  ...                            NaN   \n",
       "1                                    0.0  ...                            NaN   \n",
       "2                                    0.0  ...                            NaN   \n",
       "3                                    0.0  ...                            NaN   \n",
       "4                                    0.0  ...                            NaN   \n",
       "\n",
       "   X1st_Max_Value_max_Ethylbenzene_l2  X1st_Max_Value_max_Ethylbenzene_l5  \\\n",
       "0                                 NaN                                 NaN   \n",
       "1                                 NaN                                 NaN   \n",
       "2                                 NaN                                 NaN   \n",
       "3                                 NaN                                 NaN   \n",
       "4                                 NaN                                 NaN   \n",
       "\n",
       "   X1st_Max_Value_max_Ethylbenzene_l8  X1st_Max_Value_max_Toluene_l2  \\\n",
       "0                                 NaN                            NaN   \n",
       "1                                 NaN                            NaN   \n",
       "2                                 NaN                            NaN   \n",
       "3                                 NaN                            NaN   \n",
       "4                                 NaN                            NaN   \n",
       "\n",
       "   X1st_Max_Value_max_Toluene_l5  X1st_Max_Value_max_Toluene_l8  \\\n",
       "0                            NaN                            NaN   \n",
       "1                            NaN                            NaN   \n",
       "2                            NaN                            NaN   \n",
       "3                            NaN                            NaN   \n",
       "4                            NaN                            NaN   \n",
       "\n",
       "   X1st_Max_Value_max_o-Xylene_l2  X1st_Max_Value_max_o-Xylene_l5  \\\n",
       "0                             NaN                             NaN   \n",
       "1                             NaN                             NaN   \n",
       "2                             NaN                             NaN   \n",
       "3                             NaN                             NaN   \n",
       "4                             NaN                             NaN   \n",
       "\n",
       "   X1st_Max_Value_max_o-Xylene_l8  \n",
       "0                             NaN  \n",
       "1                             NaN  \n",
       "2                             NaN  \n",
       "3                             NaN  \n",
       "4                             NaN  \n",
       "\n",
       "[5 rows x 200 columns]"
      ]
     },
     "execution_count": 2,
     "metadata": {},
     "output_type": "execute_result"
    }
   ],
   "source": [
    "train = pd.read_csv('../train_complete.csv')\n",
    "train.head()"
   ]
  },
  {
   "cell_type": "code",
   "execution_count": 3,
   "id": "bdd70bd5-ec4d-472e-b084-c38cd3a86361",
   "metadata": {
    "tags": []
   },
   "outputs": [
    {
     "data": {
      "text/plain": [
       "(4500, 200)"
      ]
     },
     "execution_count": 3,
     "metadata": {},
     "output_type": "execute_result"
    }
   ],
   "source": [
    "train.shape"
   ]
  },
  {
   "cell_type": "code",
   "execution_count": 4,
   "id": "aa9fa004-fc76-43a0-99d4-9e9f16c0c7a1",
   "metadata": {
    "tags": []
   },
   "outputs": [],
   "source": [
    "# Eliminate columns that have more than 20% missing values\n",
    "\n",
    "train.dropna(thresh = train.shape[0]*0.8, axis = 1, inplace = True)"
   ]
  },
  {
   "cell_type": "code",
   "execution_count": 5,
   "id": "797662f7-416b-4eff-8e05-af975b61e5c7",
   "metadata": {
    "tags": []
   },
   "outputs": [],
   "source": [
    "# create a column_keep to match column of train and test\n",
    "\n",
    "column_keep = train.drop(columns='Incidence').columns"
   ]
  },
  {
   "cell_type": "code",
   "execution_count": 6,
   "id": "8b82106a-7af9-48d9-817c-217fbe7db5b3",
   "metadata": {
    "tags": []
   },
   "outputs": [
    {
     "name": "stdout",
     "output_type": "stream",
     "text": [
      "<class 'pandas.core.frame.DataFrame'>\n",
      "RangeIndex: 4500 entries, 0 to 4499\n",
      "Data columns (total 50 columns):\n",
      " #   Column                                     Non-Null Count  Dtype  \n",
      "---  ------                                     --------------  -----  \n",
      " 0   ID                                         4500 non-null   object \n",
      " 1   State_Name                                 4500 non-null   object \n",
      " 2   Year                                       4500 non-null   int64  \n",
      " 3   Age                                        4500 non-null   object \n",
      " 4   Incidence                                  4500 non-null   float64\n",
      " 5   Arithmetic_Mean_mean_Arsenic_PM2.5_LC      3960 non-null   float64\n",
      " 6   Arithmetic_Mean_mean_Chromium_PM2.5_LC     3960 non-null   float64\n",
      " 7   Arithmetic_Mean_mean_Lead_PM2.5_LC         3960 non-null   float64\n",
      " 8   Arithmetic_Mean_mean_Manganese_PM2.5_LC    3960 non-null   float64\n",
      " 9   Arithmetic_Mean_mean_Nickel_PM2.5_LC       3960 non-null   float64\n",
      " 10  Arithmetic_Mean_min_Arsenic_PM2.5_LC       3960 non-null   float64\n",
      " 11  Arithmetic_Mean_min_Chromium_PM2.5_LC      3960 non-null   float64\n",
      " 12  Arithmetic_Mean_min_Lead_PM2.5_LC          3960 non-null   float64\n",
      " 13  Arithmetic_Mean_min_Manganese_PM2.5_LC     3960 non-null   float64\n",
      " 14  Arithmetic_Mean_min_Nickel_PM2.5_LC        3960 non-null   float64\n",
      " 15  Arithmetic_Mean_max_Arsenic_PM2.5_LC       3960 non-null   float64\n",
      " 16  Arithmetic_Mean_max_Chromium_PM2.5_LC      3960 non-null   float64\n",
      " 17  Arithmetic_Mean_max_Lead_PM2.5_LC          3960 non-null   float64\n",
      " 18  Arithmetic_Mean_max_Manganese_PM2.5_LC     3960 non-null   float64\n",
      " 19  Arithmetic_Mean_max_Nickel_PM2.5_LC        3960 non-null   float64\n",
      " 20  X1st_Max_Value_mean_Arsenic_PM2.5_LC       3960 non-null   float64\n",
      " 21  X1st_Max_Value_mean_Chromium_PM2.5_LC      3960 non-null   float64\n",
      " 22  X1st_Max_Value_mean_Lead_PM2.5_LC          3960 non-null   float64\n",
      " 23  X1st_Max_Value_mean_Manganese_PM2.5_LC     3960 non-null   float64\n",
      " 24  X1st_Max_Value_mean_Nickel_PM2.5_LC        3960 non-null   float64\n",
      " 25  X1st_Max_Value_min_Arsenic_PM2.5_LC        3960 non-null   float64\n",
      " 26  X1st_Max_Value_min_Chromium_PM2.5_LC       3960 non-null   float64\n",
      " 27  X1st_Max_Value_min_Lead_PM2.5_LC           3960 non-null   float64\n",
      " 28  X1st_Max_Value_min_Manganese_PM2.5_LC      3960 non-null   float64\n",
      " 29  X1st_Max_Value_min_Nickel_PM2.5_LC         3960 non-null   float64\n",
      " 30  X1st_Max_Value_max_Arsenic_PM2.5_LC        3960 non-null   float64\n",
      " 31  X1st_Max_Value_max_Chromium_PM2.5_LC       3960 non-null   float64\n",
      " 32  X1st_Max_Value_max_Lead_PM2.5_LC           3960 non-null   float64\n",
      " 33  X1st_Max_Value_max_Manganese_PM2.5_LC      3960 non-null   float64\n",
      " 34  X1st_Max_Value_max_Nickel_PM2.5_LC         3960 non-null   float64\n",
      " 35  Arithmetic_Mean_mean_Arsenic_PM2.5_LC_l2   3816 non-null   float64\n",
      " 36  Arithmetic_Mean_mean_Chromium_PM2.5_LC_l2  3816 non-null   float64\n",
      " 37  Arithmetic_Mean_mean_Lead_PM2.5_LC_l2      3816 non-null   float64\n",
      " 38  Arithmetic_Mean_mean_Nitric_oxide_(NO)     3708 non-null   float64\n",
      " 39  Arithmetic_Mean_min_Nitric_oxide_(NO)      3708 non-null   float64\n",
      " 40  Arithmetic_Mean_max_Nitric_oxide_(NO)      3708 non-null   float64\n",
      " 41  X1st_Max_Value_mean_Nitric_oxide_(NO)      3708 non-null   float64\n",
      " 42  X1st_Max_Value_min_Nitric_oxide_(NO)       3708 non-null   float64\n",
      " 43  X1st_Max_Value_max_Nitric_oxide_(NO)       3708 non-null   float64\n",
      " 44  Arithmetic_Mean_mean_Nitric_oxide_(NO)_l2  3636 non-null   float64\n",
      " 45  Arithmetic_Mean_min_Nitric_oxide_(NO)_l2   3636 non-null   float64\n",
      " 46  Arithmetic_Mean_max_Nitric_oxide_(NO)_l2   3636 non-null   float64\n",
      " 47  X1st_Max_Value_mean_Nitric_oxide_(NO)_l2   3636 non-null   float64\n",
      " 48  X1st_Max_Value_min_Nitric_oxide_(NO)_l2    3636 non-null   float64\n",
      " 49  X1st_Max_Value_max_Nitric_oxide_(NO)_l2    3636 non-null   float64\n",
      "dtypes: float64(46), int64(1), object(3)\n",
      "memory usage: 1.7+ MB\n"
     ]
    }
   ],
   "source": [
    "train.info()"
   ]
  },
  {
   "cell_type": "code",
   "execution_count": 7,
   "id": "3e9c5b04-8366-4f37-a595-9f741e5f8fb1",
   "metadata": {
    "tags": []
   },
   "outputs": [
    {
     "data": {
      "text/html": [
       "<div>\n",
       "<style scoped>\n",
       "    .dataframe tbody tr th:only-of-type {\n",
       "        vertical-align: middle;\n",
       "    }\n",
       "\n",
       "    .dataframe tbody tr th {\n",
       "        vertical-align: top;\n",
       "    }\n",
       "\n",
       "    .dataframe thead th {\n",
       "        text-align: right;\n",
       "    }\n",
       "</style>\n",
       "<table border=\"1\" class=\"dataframe\">\n",
       "  <thead>\n",
       "    <tr style=\"text-align: right;\">\n",
       "      <th></th>\n",
       "      <th>ID</th>\n",
       "      <th>State_Name</th>\n",
       "      <th>Year</th>\n",
       "      <th>Incidence</th>\n",
       "      <th>Arithmetic_Mean_mean_Arsenic_PM2.5_LC</th>\n",
       "      <th>Arithmetic_Mean_mean_Chromium_PM2.5_LC</th>\n",
       "      <th>Arithmetic_Mean_mean_Lead_PM2.5_LC</th>\n",
       "      <th>Arithmetic_Mean_mean_Manganese_PM2.5_LC</th>\n",
       "      <th>Arithmetic_Mean_mean_Nickel_PM2.5_LC</th>\n",
       "      <th>Arithmetic_Mean_min_Arsenic_PM2.5_LC</th>\n",
       "      <th>...</th>\n",
       "      <th>Arithmetic_Mean_min_Nitric_oxide_(NO)_l2</th>\n",
       "      <th>Arithmetic_Mean_max_Nitric_oxide_(NO)_l2</th>\n",
       "      <th>X1st_Max_Value_mean_Nitric_oxide_(NO)_l2</th>\n",
       "      <th>X1st_Max_Value_min_Nitric_oxide_(NO)_l2</th>\n",
       "      <th>X1st_Max_Value_max_Nitric_oxide_(NO)_l2</th>\n",
       "      <th>Age_70-74</th>\n",
       "      <th>Age_75-79</th>\n",
       "      <th>Age_80-84</th>\n",
       "      <th>Age_85-89</th>\n",
       "      <th>Age_90-94</th>\n",
       "    </tr>\n",
       "  </thead>\n",
       "  <tbody>\n",
       "    <tr>\n",
       "      <th>0</th>\n",
       "      <td>f8312a4</td>\n",
       "      <td>Alabama</td>\n",
       "      <td>1990</td>\n",
       "      <td>4685.284313</td>\n",
       "      <td>NaN</td>\n",
       "      <td>NaN</td>\n",
       "      <td>NaN</td>\n",
       "      <td>NaN</td>\n",
       "      <td>NaN</td>\n",
       "      <td>NaN</td>\n",
       "      <td>...</td>\n",
       "      <td>NaN</td>\n",
       "      <td>NaN</td>\n",
       "      <td>NaN</td>\n",
       "      <td>NaN</td>\n",
       "      <td>NaN</td>\n",
       "      <td>False</td>\n",
       "      <td>False</td>\n",
       "      <td>False</td>\n",
       "      <td>False</td>\n",
       "      <td>False</td>\n",
       "    </tr>\n",
       "    <tr>\n",
       "      <th>1</th>\n",
       "      <td>3effa36</td>\n",
       "      <td>Alabama</td>\n",
       "      <td>1990</td>\n",
       "      <td>4827.052043</td>\n",
       "      <td>NaN</td>\n",
       "      <td>NaN</td>\n",
       "      <td>NaN</td>\n",
       "      <td>NaN</td>\n",
       "      <td>NaN</td>\n",
       "      <td>NaN</td>\n",
       "      <td>...</td>\n",
       "      <td>NaN</td>\n",
       "      <td>NaN</td>\n",
       "      <td>NaN</td>\n",
       "      <td>NaN</td>\n",
       "      <td>NaN</td>\n",
       "      <td>True</td>\n",
       "      <td>False</td>\n",
       "      <td>False</td>\n",
       "      <td>False</td>\n",
       "      <td>False</td>\n",
       "    </tr>\n",
       "    <tr>\n",
       "      <th>2</th>\n",
       "      <td>1e8044b</td>\n",
       "      <td>Alabama</td>\n",
       "      <td>1990</td>\n",
       "      <td>4377.956914</td>\n",
       "      <td>NaN</td>\n",
       "      <td>NaN</td>\n",
       "      <td>NaN</td>\n",
       "      <td>NaN</td>\n",
       "      <td>NaN</td>\n",
       "      <td>NaN</td>\n",
       "      <td>...</td>\n",
       "      <td>NaN</td>\n",
       "      <td>NaN</td>\n",
       "      <td>NaN</td>\n",
       "      <td>NaN</td>\n",
       "      <td>NaN</td>\n",
       "      <td>False</td>\n",
       "      <td>True</td>\n",
       "      <td>False</td>\n",
       "      <td>False</td>\n",
       "      <td>False</td>\n",
       "    </tr>\n",
       "    <tr>\n",
       "      <th>3</th>\n",
       "      <td>d875d65</td>\n",
       "      <td>Alabama</td>\n",
       "      <td>1990</td>\n",
       "      <td>3822.732993</td>\n",
       "      <td>NaN</td>\n",
       "      <td>NaN</td>\n",
       "      <td>NaN</td>\n",
       "      <td>NaN</td>\n",
       "      <td>NaN</td>\n",
       "      <td>NaN</td>\n",
       "      <td>...</td>\n",
       "      <td>NaN</td>\n",
       "      <td>NaN</td>\n",
       "      <td>NaN</td>\n",
       "      <td>NaN</td>\n",
       "      <td>NaN</td>\n",
       "      <td>False</td>\n",
       "      <td>False</td>\n",
       "      <td>True</td>\n",
       "      <td>False</td>\n",
       "      <td>False</td>\n",
       "    </tr>\n",
       "    <tr>\n",
       "      <th>4</th>\n",
       "      <td>46e6695</td>\n",
       "      <td>Alabama</td>\n",
       "      <td>1990</td>\n",
       "      <td>3470.199503</td>\n",
       "      <td>NaN</td>\n",
       "      <td>NaN</td>\n",
       "      <td>NaN</td>\n",
       "      <td>NaN</td>\n",
       "      <td>NaN</td>\n",
       "      <td>NaN</td>\n",
       "      <td>...</td>\n",
       "      <td>NaN</td>\n",
       "      <td>NaN</td>\n",
       "      <td>NaN</td>\n",
       "      <td>NaN</td>\n",
       "      <td>NaN</td>\n",
       "      <td>False</td>\n",
       "      <td>False</td>\n",
       "      <td>False</td>\n",
       "      <td>True</td>\n",
       "      <td>False</td>\n",
       "    </tr>\n",
       "  </tbody>\n",
       "</table>\n",
       "<p>5 rows × 54 columns</p>\n",
       "</div>"
      ],
      "text/plain": [
       "        ID State_Name  Year    Incidence  \\\n",
       "0  f8312a4    Alabama  1990  4685.284313   \n",
       "1  3effa36    Alabama  1990  4827.052043   \n",
       "2  1e8044b    Alabama  1990  4377.956914   \n",
       "3  d875d65    Alabama  1990  3822.732993   \n",
       "4  46e6695    Alabama  1990  3470.199503   \n",
       "\n",
       "   Arithmetic_Mean_mean_Arsenic_PM2.5_LC  \\\n",
       "0                                    NaN   \n",
       "1                                    NaN   \n",
       "2                                    NaN   \n",
       "3                                    NaN   \n",
       "4                                    NaN   \n",
       "\n",
       "   Arithmetic_Mean_mean_Chromium_PM2.5_LC  Arithmetic_Mean_mean_Lead_PM2.5_LC  \\\n",
       "0                                     NaN                                 NaN   \n",
       "1                                     NaN                                 NaN   \n",
       "2                                     NaN                                 NaN   \n",
       "3                                     NaN                                 NaN   \n",
       "4                                     NaN                                 NaN   \n",
       "\n",
       "   Arithmetic_Mean_mean_Manganese_PM2.5_LC  \\\n",
       "0                                      NaN   \n",
       "1                                      NaN   \n",
       "2                                      NaN   \n",
       "3                                      NaN   \n",
       "4                                      NaN   \n",
       "\n",
       "   Arithmetic_Mean_mean_Nickel_PM2.5_LC  Arithmetic_Mean_min_Arsenic_PM2.5_LC  \\\n",
       "0                                   NaN                                   NaN   \n",
       "1                                   NaN                                   NaN   \n",
       "2                                   NaN                                   NaN   \n",
       "3                                   NaN                                   NaN   \n",
       "4                                   NaN                                   NaN   \n",
       "\n",
       "   ...  Arithmetic_Mean_min_Nitric_oxide_(NO)_l2  \\\n",
       "0  ...                                       NaN   \n",
       "1  ...                                       NaN   \n",
       "2  ...                                       NaN   \n",
       "3  ...                                       NaN   \n",
       "4  ...                                       NaN   \n",
       "\n",
       "   Arithmetic_Mean_max_Nitric_oxide_(NO)_l2  \\\n",
       "0                                       NaN   \n",
       "1                                       NaN   \n",
       "2                                       NaN   \n",
       "3                                       NaN   \n",
       "4                                       NaN   \n",
       "\n",
       "   X1st_Max_Value_mean_Nitric_oxide_(NO)_l2  \\\n",
       "0                                       NaN   \n",
       "1                                       NaN   \n",
       "2                                       NaN   \n",
       "3                                       NaN   \n",
       "4                                       NaN   \n",
       "\n",
       "   X1st_Max_Value_min_Nitric_oxide_(NO)_l2  \\\n",
       "0                                      NaN   \n",
       "1                                      NaN   \n",
       "2                                      NaN   \n",
       "3                                      NaN   \n",
       "4                                      NaN   \n",
       "\n",
       "   X1st_Max_Value_max_Nitric_oxide_(NO)_l2  Age_70-74  Age_75-79  Age_80-84  \\\n",
       "0                                      NaN      False      False      False   \n",
       "1                                      NaN       True      False      False   \n",
       "2                                      NaN      False       True      False   \n",
       "3                                      NaN      False      False       True   \n",
       "4                                      NaN      False      False      False   \n",
       "\n",
       "   Age_85-89  Age_90-94  \n",
       "0      False      False  \n",
       "1      False      False  \n",
       "2      False      False  \n",
       "3      False      False  \n",
       "4       True      False  \n",
       "\n",
       "[5 rows x 54 columns]"
      ]
     },
     "execution_count": 7,
     "metadata": {},
     "output_type": "execute_result"
    }
   ],
   "source": [
    "train_dummy = pd.get_dummies(train, columns=['Age'], drop_first=True)\n",
    "train_dummy.head()"
   ]
  },
  {
   "cell_type": "markdown",
   "id": "d14c01a0-d7bc-4458-ae33-7c9cdc988075",
   "metadata": {},
   "source": [
    "## Test Data"
   ]
  },
  {
   "cell_type": "code",
   "execution_count": 8,
   "id": "cbf6e492-edc5-4e56-88c2-7b904ed9f23f",
   "metadata": {
    "tags": []
   },
   "outputs": [
    {
     "data": {
      "text/html": [
       "<div>\n",
       "<style scoped>\n",
       "    .dataframe tbody tr th:only-of-type {\n",
       "        vertical-align: middle;\n",
       "    }\n",
       "\n",
       "    .dataframe tbody tr th {\n",
       "        vertical-align: top;\n",
       "    }\n",
       "\n",
       "    .dataframe thead th {\n",
       "        text-align: right;\n",
       "    }\n",
       "</style>\n",
       "<table border=\"1\" class=\"dataframe\">\n",
       "  <thead>\n",
       "    <tr style=\"text-align: right;\">\n",
       "      <th></th>\n",
       "      <th>ID</th>\n",
       "      <th>State_Name</th>\n",
       "      <th>Year</th>\n",
       "      <th>Age</th>\n",
       "      <th>Arithmetic_Mean_mean_Lead_(TSP)_STP</th>\n",
       "      <th>Arithmetic_Mean_min_Lead_(TSP)_STP</th>\n",
       "      <th>Arithmetic_Mean_max_Lead_(TSP)_STP</th>\n",
       "      <th>Arithmetic_Mean_mean_Lead_(TSP)_STP_l2</th>\n",
       "      <th>Arithmetic_Mean_min_Lead_(TSP)_STP_l2</th>\n",
       "      <th>Arithmetic_Mean_max_Lead_(TSP)_STP_l2</th>\n",
       "      <th>...</th>\n",
       "      <th>X1st_Max_Value_max_Benzene_l8</th>\n",
       "      <th>X1st_Max_Value_max_Ethylbenzene_l2</th>\n",
       "      <th>X1st_Max_Value_max_Ethylbenzene_l5</th>\n",
       "      <th>X1st_Max_Value_max_Ethylbenzene_l8</th>\n",
       "      <th>X1st_Max_Value_max_Toluene_l2</th>\n",
       "      <th>X1st_Max_Value_max_Toluene_l5</th>\n",
       "      <th>X1st_Max_Value_max_Toluene_l8</th>\n",
       "      <th>X1st_Max_Value_max_o-Xylene_l2</th>\n",
       "      <th>X1st_Max_Value_max_o-Xylene_l5</th>\n",
       "      <th>X1st_Max_Value_max_o-Xylene_l8</th>\n",
       "    </tr>\n",
       "  </thead>\n",
       "  <tbody>\n",
       "    <tr>\n",
       "      <th>0</th>\n",
       "      <td>6c06615</td>\n",
       "      <td>Delaware</td>\n",
       "      <td>1990</td>\n",
       "      <td>65-69</td>\n",
       "      <td>NaN</td>\n",
       "      <td>NaN</td>\n",
       "      <td>NaN</td>\n",
       "      <td>NaN</td>\n",
       "      <td>NaN</td>\n",
       "      <td>NaN</td>\n",
       "      <td>...</td>\n",
       "      <td>NaN</td>\n",
       "      <td>NaN</td>\n",
       "      <td>NaN</td>\n",
       "      <td>NaN</td>\n",
       "      <td>NaN</td>\n",
       "      <td>NaN</td>\n",
       "      <td>NaN</td>\n",
       "      <td>NaN</td>\n",
       "      <td>NaN</td>\n",
       "      <td>NaN</td>\n",
       "    </tr>\n",
       "    <tr>\n",
       "      <th>1</th>\n",
       "      <td>e0cf76e</td>\n",
       "      <td>Delaware</td>\n",
       "      <td>1990</td>\n",
       "      <td>70-74</td>\n",
       "      <td>NaN</td>\n",
       "      <td>NaN</td>\n",
       "      <td>NaN</td>\n",
       "      <td>NaN</td>\n",
       "      <td>NaN</td>\n",
       "      <td>NaN</td>\n",
       "      <td>...</td>\n",
       "      <td>NaN</td>\n",
       "      <td>NaN</td>\n",
       "      <td>NaN</td>\n",
       "      <td>NaN</td>\n",
       "      <td>NaN</td>\n",
       "      <td>NaN</td>\n",
       "      <td>NaN</td>\n",
       "      <td>NaN</td>\n",
       "      <td>NaN</td>\n",
       "      <td>NaN</td>\n",
       "    </tr>\n",
       "    <tr>\n",
       "      <th>2</th>\n",
       "      <td>e9f95f0</td>\n",
       "      <td>Delaware</td>\n",
       "      <td>1990</td>\n",
       "      <td>75-79</td>\n",
       "      <td>NaN</td>\n",
       "      <td>NaN</td>\n",
       "      <td>NaN</td>\n",
       "      <td>NaN</td>\n",
       "      <td>NaN</td>\n",
       "      <td>NaN</td>\n",
       "      <td>...</td>\n",
       "      <td>NaN</td>\n",
       "      <td>NaN</td>\n",
       "      <td>NaN</td>\n",
       "      <td>NaN</td>\n",
       "      <td>NaN</td>\n",
       "      <td>NaN</td>\n",
       "      <td>NaN</td>\n",
       "      <td>NaN</td>\n",
       "      <td>NaN</td>\n",
       "      <td>NaN</td>\n",
       "    </tr>\n",
       "    <tr>\n",
       "      <th>3</th>\n",
       "      <td>5dffe44</td>\n",
       "      <td>Delaware</td>\n",
       "      <td>1990</td>\n",
       "      <td>80-84</td>\n",
       "      <td>NaN</td>\n",
       "      <td>NaN</td>\n",
       "      <td>NaN</td>\n",
       "      <td>NaN</td>\n",
       "      <td>NaN</td>\n",
       "      <td>NaN</td>\n",
       "      <td>...</td>\n",
       "      <td>NaN</td>\n",
       "      <td>NaN</td>\n",
       "      <td>NaN</td>\n",
       "      <td>NaN</td>\n",
       "      <td>NaN</td>\n",
       "      <td>NaN</td>\n",
       "      <td>NaN</td>\n",
       "      <td>NaN</td>\n",
       "      <td>NaN</td>\n",
       "      <td>NaN</td>\n",
       "    </tr>\n",
       "    <tr>\n",
       "      <th>4</th>\n",
       "      <td>9f9ea9b</td>\n",
       "      <td>Delaware</td>\n",
       "      <td>1990</td>\n",
       "      <td>85-89</td>\n",
       "      <td>NaN</td>\n",
       "      <td>NaN</td>\n",
       "      <td>NaN</td>\n",
       "      <td>NaN</td>\n",
       "      <td>NaN</td>\n",
       "      <td>NaN</td>\n",
       "      <td>...</td>\n",
       "      <td>NaN</td>\n",
       "      <td>NaN</td>\n",
       "      <td>NaN</td>\n",
       "      <td>NaN</td>\n",
       "      <td>NaN</td>\n",
       "      <td>NaN</td>\n",
       "      <td>NaN</td>\n",
       "      <td>NaN</td>\n",
       "      <td>NaN</td>\n",
       "      <td>NaN</td>\n",
       "    </tr>\n",
       "  </tbody>\n",
       "</table>\n",
       "<p>5 rows × 199 columns</p>\n",
       "</div>"
      ],
      "text/plain": [
       "        ID State_Name  Year    Age  Arithmetic_Mean_mean_Lead_(TSP)_STP  \\\n",
       "0  6c06615   Delaware  1990  65-69                                  NaN   \n",
       "1  e0cf76e   Delaware  1990  70-74                                  NaN   \n",
       "2  e9f95f0   Delaware  1990  75-79                                  NaN   \n",
       "3  5dffe44   Delaware  1990  80-84                                  NaN   \n",
       "4  9f9ea9b   Delaware  1990  85-89                                  NaN   \n",
       "\n",
       "   Arithmetic_Mean_min_Lead_(TSP)_STP  Arithmetic_Mean_max_Lead_(TSP)_STP  \\\n",
       "0                                 NaN                                 NaN   \n",
       "1                                 NaN                                 NaN   \n",
       "2                                 NaN                                 NaN   \n",
       "3                                 NaN                                 NaN   \n",
       "4                                 NaN                                 NaN   \n",
       "\n",
       "   Arithmetic_Mean_mean_Lead_(TSP)_STP_l2  \\\n",
       "0                                     NaN   \n",
       "1                                     NaN   \n",
       "2                                     NaN   \n",
       "3                                     NaN   \n",
       "4                                     NaN   \n",
       "\n",
       "   Arithmetic_Mean_min_Lead_(TSP)_STP_l2  \\\n",
       "0                                    NaN   \n",
       "1                                    NaN   \n",
       "2                                    NaN   \n",
       "3                                    NaN   \n",
       "4                                    NaN   \n",
       "\n",
       "   Arithmetic_Mean_max_Lead_(TSP)_STP_l2  ...  X1st_Max_Value_max_Benzene_l8  \\\n",
       "0                                    NaN  ...                            NaN   \n",
       "1                                    NaN  ...                            NaN   \n",
       "2                                    NaN  ...                            NaN   \n",
       "3                                    NaN  ...                            NaN   \n",
       "4                                    NaN  ...                            NaN   \n",
       "\n",
       "   X1st_Max_Value_max_Ethylbenzene_l2  X1st_Max_Value_max_Ethylbenzene_l5  \\\n",
       "0                                 NaN                                 NaN   \n",
       "1                                 NaN                                 NaN   \n",
       "2                                 NaN                                 NaN   \n",
       "3                                 NaN                                 NaN   \n",
       "4                                 NaN                                 NaN   \n",
       "\n",
       "   X1st_Max_Value_max_Ethylbenzene_l8  X1st_Max_Value_max_Toluene_l2  \\\n",
       "0                                 NaN                            NaN   \n",
       "1                                 NaN                            NaN   \n",
       "2                                 NaN                            NaN   \n",
       "3                                 NaN                            NaN   \n",
       "4                                 NaN                            NaN   \n",
       "\n",
       "   X1st_Max_Value_max_Toluene_l5  X1st_Max_Value_max_Toluene_l8  \\\n",
       "0                            NaN                            NaN   \n",
       "1                            NaN                            NaN   \n",
       "2                            NaN                            NaN   \n",
       "3                            NaN                            NaN   \n",
       "4                            NaN                            NaN   \n",
       "\n",
       "   X1st_Max_Value_max_o-Xylene_l2  X1st_Max_Value_max_o-Xylene_l5  \\\n",
       "0                             NaN                             NaN   \n",
       "1                             NaN                             NaN   \n",
       "2                             NaN                             NaN   \n",
       "3                             NaN                             NaN   \n",
       "4                             NaN                             NaN   \n",
       "\n",
       "   X1st_Max_Value_max_o-Xylene_l8  \n",
       "0                             NaN  \n",
       "1                             NaN  \n",
       "2                             NaN  \n",
       "3                             NaN  \n",
       "4                             NaN  \n",
       "\n",
       "[5 rows x 199 columns]"
      ]
     },
     "execution_count": 8,
     "metadata": {},
     "output_type": "execute_result"
    }
   ],
   "source": [
    "test = pd.read_csv('../test_complete.csv')\n",
    "test.head()"
   ]
  },
  {
   "cell_type": "code",
   "execution_count": 9,
   "id": "a5bcb8c4-e6e4-4611-8176-2128040c9469",
   "metadata": {
    "tags": []
   },
   "outputs": [
    {
     "data": {
      "text/plain": [
       "(4680, 199)"
      ]
     },
     "execution_count": 9,
     "metadata": {},
     "output_type": "execute_result"
    }
   ],
   "source": [
    "test.shape"
   ]
  },
  {
   "cell_type": "code",
   "execution_count": 10,
   "id": "f1c8e25c-bdec-4cd6-8e69-ba9f2e3889d5",
   "metadata": {
    "tags": []
   },
   "outputs": [],
   "source": [
    "test = test[column_keep]"
   ]
  },
  {
   "cell_type": "code",
   "execution_count": 11,
   "id": "c4982690-c704-4597-9807-c753ed7f9aab",
   "metadata": {
    "tags": []
   },
   "outputs": [
    {
     "name": "stdout",
     "output_type": "stream",
     "text": [
      "<class 'pandas.core.frame.DataFrame'>\n",
      "RangeIndex: 4680 entries, 0 to 4679\n",
      "Data columns (total 49 columns):\n",
      " #   Column                                     Non-Null Count  Dtype  \n",
      "---  ------                                     --------------  -----  \n",
      " 0   ID                                         4680 non-null   object \n",
      " 1   State_Name                                 4680 non-null   object \n",
      " 2   Year                                       4680 non-null   int64  \n",
      " 3   Age                                        4680 non-null   object \n",
      " 4   Arithmetic_Mean_mean_Arsenic_PM2.5_LC      3852 non-null   float64\n",
      " 5   Arithmetic_Mean_mean_Chromium_PM2.5_LC     3852 non-null   float64\n",
      " 6   Arithmetic_Mean_mean_Lead_PM2.5_LC         3852 non-null   float64\n",
      " 7   Arithmetic_Mean_mean_Manganese_PM2.5_LC    3852 non-null   float64\n",
      " 8   Arithmetic_Mean_mean_Nickel_PM2.5_LC       3852 non-null   float64\n",
      " 9   Arithmetic_Mean_min_Arsenic_PM2.5_LC       3852 non-null   float64\n",
      " 10  Arithmetic_Mean_min_Chromium_PM2.5_LC      3852 non-null   float64\n",
      " 11  Arithmetic_Mean_min_Lead_PM2.5_LC          3852 non-null   float64\n",
      " 12  Arithmetic_Mean_min_Manganese_PM2.5_LC     3852 non-null   float64\n",
      " 13  Arithmetic_Mean_min_Nickel_PM2.5_LC        3852 non-null   float64\n",
      " 14  Arithmetic_Mean_max_Arsenic_PM2.5_LC       3852 non-null   float64\n",
      " 15  Arithmetic_Mean_max_Chromium_PM2.5_LC      3852 non-null   float64\n",
      " 16  Arithmetic_Mean_max_Lead_PM2.5_LC          3852 non-null   float64\n",
      " 17  Arithmetic_Mean_max_Manganese_PM2.5_LC     3852 non-null   float64\n",
      " 18  Arithmetic_Mean_max_Nickel_PM2.5_LC        3852 non-null   float64\n",
      " 19  X1st_Max_Value_mean_Arsenic_PM2.5_LC       3852 non-null   float64\n",
      " 20  X1st_Max_Value_mean_Chromium_PM2.5_LC      3852 non-null   float64\n",
      " 21  X1st_Max_Value_mean_Lead_PM2.5_LC          3852 non-null   float64\n",
      " 22  X1st_Max_Value_mean_Manganese_PM2.5_LC     3852 non-null   float64\n",
      " 23  X1st_Max_Value_mean_Nickel_PM2.5_LC        3852 non-null   float64\n",
      " 24  X1st_Max_Value_min_Arsenic_PM2.5_LC        3852 non-null   float64\n",
      " 25  X1st_Max_Value_min_Chromium_PM2.5_LC       3852 non-null   float64\n",
      " 26  X1st_Max_Value_min_Lead_PM2.5_LC           3852 non-null   float64\n",
      " 27  X1st_Max_Value_min_Manganese_PM2.5_LC      3852 non-null   float64\n",
      " 28  X1st_Max_Value_min_Nickel_PM2.5_LC         3852 non-null   float64\n",
      " 29  X1st_Max_Value_max_Arsenic_PM2.5_LC        3852 non-null   float64\n",
      " 30  X1st_Max_Value_max_Chromium_PM2.5_LC       3852 non-null   float64\n",
      " 31  X1st_Max_Value_max_Lead_PM2.5_LC           3852 non-null   float64\n",
      " 32  X1st_Max_Value_max_Manganese_PM2.5_LC      3852 non-null   float64\n",
      " 33  X1st_Max_Value_max_Nickel_PM2.5_LC         3852 non-null   float64\n",
      " 34  Arithmetic_Mean_mean_Arsenic_PM2.5_LC_l2   3636 non-null   float64\n",
      " 35  Arithmetic_Mean_mean_Chromium_PM2.5_LC_l2  3636 non-null   float64\n",
      " 36  Arithmetic_Mean_mean_Lead_PM2.5_LC_l2      3636 non-null   float64\n",
      " 37  Arithmetic_Mean_mean_Nitric_oxide_(NO)     3756 non-null   float64\n",
      " 38  Arithmetic_Mean_min_Nitric_oxide_(NO)      3756 non-null   float64\n",
      " 39  Arithmetic_Mean_max_Nitric_oxide_(NO)      3756 non-null   float64\n",
      " 40  X1st_Max_Value_mean_Nitric_oxide_(NO)      3756 non-null   float64\n",
      " 41  X1st_Max_Value_min_Nitric_oxide_(NO)       3756 non-null   float64\n",
      " 42  X1st_Max_Value_max_Nitric_oxide_(NO)       3756 non-null   float64\n",
      " 43  Arithmetic_Mean_mean_Nitric_oxide_(NO)_l2  3624 non-null   float64\n",
      " 44  Arithmetic_Mean_min_Nitric_oxide_(NO)_l2   3624 non-null   float64\n",
      " 45  Arithmetic_Mean_max_Nitric_oxide_(NO)_l2   3624 non-null   float64\n",
      " 46  X1st_Max_Value_mean_Nitric_oxide_(NO)_l2   3624 non-null   float64\n",
      " 47  X1st_Max_Value_min_Nitric_oxide_(NO)_l2    3624 non-null   float64\n",
      " 48  X1st_Max_Value_max_Nitric_oxide_(NO)_l2    3624 non-null   float64\n",
      "dtypes: float64(45), int64(1), object(3)\n",
      "memory usage: 1.7+ MB\n"
     ]
    }
   ],
   "source": [
    "test.info()"
   ]
  },
  {
   "cell_type": "code",
   "execution_count": 12,
   "id": "39852200-ff39-4736-acd6-7b90ebd222b0",
   "metadata": {},
   "outputs": [],
   "source": [
    "test_dummy = pd.get_dummies(test, columns=['Age'], drop_first=True)"
   ]
  },
  {
   "cell_type": "code",
   "execution_count": 13,
   "id": "dd2a0fb0-b86b-4e26-80c4-330021f2cc42",
   "metadata": {
    "tags": []
   },
   "outputs": [],
   "source": [
    "test_numeric = test_dummy.drop(columns=['ID','State_Name'])"
   ]
  },
  {
   "cell_type": "code",
   "execution_count": 14,
   "id": "5ed1de9d-a710-4001-9222-3f9d27c7e7b0",
   "metadata": {
    "tags": []
   },
   "outputs": [
    {
     "data": {
      "text/plain": [
       "(4680, 51)"
      ]
     },
     "execution_count": 14,
     "metadata": {},
     "output_type": "execute_result"
    }
   ],
   "source": [
    "test_numeric.shape"
   ]
  },
  {
   "cell_type": "markdown",
   "id": "b7064c4a-7f04-4395-bae1-38e3071e5381",
   "metadata": {},
   "source": [
    "## Imputation"
   ]
  },
  {
   "cell_type": "markdown",
   "id": "1c2f11d4-7cd3-455e-b6b9-45cfab885607",
   "metadata": {},
   "source": [
    "### Imputing data using Iterative Imputer"
   ]
  },
  {
   "cell_type": "code",
   "execution_count": 15,
   "id": "42f5a7c5-26f7-42b6-af41-c02fa368754b",
   "metadata": {
    "tags": []
   },
   "outputs": [],
   "source": [
    "# Create varible X, y\n",
    "\n",
    "X = train_dummy.drop(columns=['Incidence','ID','State_Name'])\n",
    "y = train_dummy['Incidence']"
   ]
  },
  {
   "cell_type": "code",
   "execution_count": 16,
   "id": "2388cb4d-6e59-4bc0-8a87-c66ac56811aa",
   "metadata": {
    "tags": []
   },
   "outputs": [],
   "source": [
    "X_train, X_test, y_train, y_test = train_test_split(X,y, random_state=42)"
   ]
  },
  {
   "cell_type": "markdown",
   "id": "97643ce1-0fe8-482b-8f0e-ac09e32b2bab",
   "metadata": {
    "tags": []
   },
   "source": [
    "## Modeling"
   ]
  },
  {
   "cell_type": "code",
   "execution_count": 17,
   "id": "237fd0ff-d2e3-4ed7-b609-275aae0edc72",
   "metadata": {},
   "outputs": [],
   "source": [
    "# use thid funtion to save all the result "
   ]
  },
  {
   "cell_type": "code",
   "execution_count": 18,
   "id": "3424065e-00f3-4c92-9c4d-8c0107241cc9",
   "metadata": {
    "tags": []
   },
   "outputs": [],
   "source": [
    "def evaluation(X_test, y_test, preds, model):\n",
    "    R2 = r2_score(y_test, preds)\n",
    "    MSE = mean_squared_error(y_test, preds)\n",
    "    RMSE = np.sqrt(mean_squared_error(y_test, preds))\n",
    "    MAE = mean_absolute_error(y_test, preds)\n",
    "\n",
    "    print(f'R2: {R2}')\n",
    "    print(f'MSE: {MSE}')\n",
    "    print(f'RMSE: {RMSE}')\n",
    "    print(f'MAE: {MAE}')\n",
    "\n",
    "    return {\n",
    "        'R2': R2,\n",
    "        'MSE': MSE,\n",
    "        'RMSE': RMSE,\n",
    "        'MAE': MAE\n",
    "    }"
   ]
  },
  {
   "cell_type": "code",
   "execution_count": 19,
   "id": "eacfe93c-c5d5-47fc-8547-776ff9e4b67b",
   "metadata": {
    "tags": []
   },
   "outputs": [],
   "source": [
    "scores =[]"
   ]
  },
  {
   "cell_type": "markdown",
   "id": "d0b1c941-967b-43f6-bc5e-6286ffe102bd",
   "metadata": {},
   "source": [
    "### LinearRegrssion"
   ]
  },
  {
   "cell_type": "code",
   "execution_count": 20,
   "id": "b0824b2f-1e26-4dc6-b42d-f49781989c5a",
   "metadata": {},
   "outputs": [],
   "source": [
    "lr = Pipeline([\n",
    "    (\"it_imp\", IterativeImputer(estimator=LinearRegression(),max_iter=100,)),\n",
    "    (\"lr\", LinearRegression())]\n",
    ")"
   ]
  },
  {
   "cell_type": "code",
   "execution_count": 21,
   "id": "3e7cf8e4-8ab8-47a7-86eb-485768c293ac",
   "metadata": {},
   "outputs": [
    {
     "data": {
      "text/html": [
       "<style>#sk-container-id-1 {color: black;}#sk-container-id-1 pre{padding: 0;}#sk-container-id-1 div.sk-toggleable {background-color: white;}#sk-container-id-1 label.sk-toggleable__label {cursor: pointer;display: block;width: 100%;margin-bottom: 0;padding: 0.3em;box-sizing: border-box;text-align: center;}#sk-container-id-1 label.sk-toggleable__label-arrow:before {content: \"▸\";float: left;margin-right: 0.25em;color: #696969;}#sk-container-id-1 label.sk-toggleable__label-arrow:hover:before {color: black;}#sk-container-id-1 div.sk-estimator:hover label.sk-toggleable__label-arrow:before {color: black;}#sk-container-id-1 div.sk-toggleable__content {max-height: 0;max-width: 0;overflow: hidden;text-align: left;background-color: #f0f8ff;}#sk-container-id-1 div.sk-toggleable__content pre {margin: 0.2em;color: black;border-radius: 0.25em;background-color: #f0f8ff;}#sk-container-id-1 input.sk-toggleable__control:checked~div.sk-toggleable__content {max-height: 200px;max-width: 100%;overflow: auto;}#sk-container-id-1 input.sk-toggleable__control:checked~label.sk-toggleable__label-arrow:before {content: \"▾\";}#sk-container-id-1 div.sk-estimator input.sk-toggleable__control:checked~label.sk-toggleable__label {background-color: #d4ebff;}#sk-container-id-1 div.sk-label input.sk-toggleable__control:checked~label.sk-toggleable__label {background-color: #d4ebff;}#sk-container-id-1 input.sk-hidden--visually {border: 0;clip: rect(1px 1px 1px 1px);clip: rect(1px, 1px, 1px, 1px);height: 1px;margin: -1px;overflow: hidden;padding: 0;position: absolute;width: 1px;}#sk-container-id-1 div.sk-estimator {font-family: monospace;background-color: #f0f8ff;border: 1px dotted black;border-radius: 0.25em;box-sizing: border-box;margin-bottom: 0.5em;}#sk-container-id-1 div.sk-estimator:hover {background-color: #d4ebff;}#sk-container-id-1 div.sk-parallel-item::after {content: \"\";width: 100%;border-bottom: 1px solid gray;flex-grow: 1;}#sk-container-id-1 div.sk-label:hover label.sk-toggleable__label {background-color: #d4ebff;}#sk-container-id-1 div.sk-serial::before {content: \"\";position: absolute;border-left: 1px solid gray;box-sizing: border-box;top: 0;bottom: 0;left: 50%;z-index: 0;}#sk-container-id-1 div.sk-serial {display: flex;flex-direction: column;align-items: center;background-color: white;padding-right: 0.2em;padding-left: 0.2em;position: relative;}#sk-container-id-1 div.sk-item {position: relative;z-index: 1;}#sk-container-id-1 div.sk-parallel {display: flex;align-items: stretch;justify-content: center;background-color: white;position: relative;}#sk-container-id-1 div.sk-item::before, #sk-container-id-1 div.sk-parallel-item::before {content: \"\";position: absolute;border-left: 1px solid gray;box-sizing: border-box;top: 0;bottom: 0;left: 50%;z-index: -1;}#sk-container-id-1 div.sk-parallel-item {display: flex;flex-direction: column;z-index: 1;position: relative;background-color: white;}#sk-container-id-1 div.sk-parallel-item:first-child::after {align-self: flex-end;width: 50%;}#sk-container-id-1 div.sk-parallel-item:last-child::after {align-self: flex-start;width: 50%;}#sk-container-id-1 div.sk-parallel-item:only-child::after {width: 0;}#sk-container-id-1 div.sk-dashed-wrapped {border: 1px dashed gray;margin: 0 0.4em 0.5em 0.4em;box-sizing: border-box;padding-bottom: 0.4em;background-color: white;}#sk-container-id-1 div.sk-label label {font-family: monospace;font-weight: bold;display: inline-block;line-height: 1.2em;}#sk-container-id-1 div.sk-label-container {text-align: center;}#sk-container-id-1 div.sk-container {/* jupyter's `normalize.less` sets `[hidden] { display: none; }` but bootstrap.min.css set `[hidden] { display: none !important; }` so we also need the `!important` here to be able to override the default hidden behavior on the sphinx rendered scikit-learn.org. See: https://github.com/scikit-learn/scikit-learn/issues/21755 */display: inline-block !important;position: relative;}#sk-container-id-1 div.sk-text-repr-fallback {display: none;}</style><div id=\"sk-container-id-1\" class=\"sk-top-container\"><div class=\"sk-text-repr-fallback\"><pre>Pipeline(steps=[(&#x27;it_imp&#x27;,\n",
       "                 IterativeImputer(estimator=LinearRegression(), max_iter=100)),\n",
       "                (&#x27;lr&#x27;, LinearRegression())])</pre><b>In a Jupyter environment, please rerun this cell to show the HTML representation or trust the notebook. <br />On GitHub, the HTML representation is unable to render, please try loading this page with nbviewer.org.</b></div><div class=\"sk-container\" hidden><div class=\"sk-item sk-dashed-wrapped\"><div class=\"sk-label-container\"><div class=\"sk-label sk-toggleable\"><input class=\"sk-toggleable__control sk-hidden--visually\" id=\"sk-estimator-id-1\" type=\"checkbox\" ><label for=\"sk-estimator-id-1\" class=\"sk-toggleable__label sk-toggleable__label-arrow\">Pipeline</label><div class=\"sk-toggleable__content\"><pre>Pipeline(steps=[(&#x27;it_imp&#x27;,\n",
       "                 IterativeImputer(estimator=LinearRegression(), max_iter=100)),\n",
       "                (&#x27;lr&#x27;, LinearRegression())])</pre></div></div></div><div class=\"sk-serial\"><div class=\"sk-item sk-dashed-wrapped\"><div class=\"sk-label-container\"><div class=\"sk-label sk-toggleable\"><input class=\"sk-toggleable__control sk-hidden--visually\" id=\"sk-estimator-id-2\" type=\"checkbox\" ><label for=\"sk-estimator-id-2\" class=\"sk-toggleable__label sk-toggleable__label-arrow\">it_imp: IterativeImputer</label><div class=\"sk-toggleable__content\"><pre>IterativeImputer(estimator=LinearRegression(), max_iter=100)</pre></div></div></div><div class=\"sk-parallel\"><div class=\"sk-parallel-item\"><div class=\"sk-item\"><div class=\"sk-label-container\"><div class=\"sk-label sk-toggleable\"><input class=\"sk-toggleable__control sk-hidden--visually\" id=\"sk-estimator-id-3\" type=\"checkbox\" ><label for=\"sk-estimator-id-3\" class=\"sk-toggleable__label sk-toggleable__label-arrow\">estimator: LinearRegression</label><div class=\"sk-toggleable__content\"><pre>LinearRegression()</pre></div></div></div><div class=\"sk-serial\"><div class=\"sk-item\"><div class=\"sk-estimator sk-toggleable\"><input class=\"sk-toggleable__control sk-hidden--visually\" id=\"sk-estimator-id-4\" type=\"checkbox\" ><label for=\"sk-estimator-id-4\" class=\"sk-toggleable__label sk-toggleable__label-arrow\">LinearRegression</label><div class=\"sk-toggleable__content\"><pre>LinearRegression()</pre></div></div></div></div></div></div></div></div><div class=\"sk-item\"><div class=\"sk-estimator sk-toggleable\"><input class=\"sk-toggleable__control sk-hidden--visually\" id=\"sk-estimator-id-5\" type=\"checkbox\" ><label for=\"sk-estimator-id-5\" class=\"sk-toggleable__label sk-toggleable__label-arrow\">LinearRegression</label><div class=\"sk-toggleable__content\"><pre>LinearRegression()</pre></div></div></div></div></div></div></div>"
      ],
      "text/plain": [
       "Pipeline(steps=[('it_imp',\n",
       "                 IterativeImputer(estimator=LinearRegression(), max_iter=100)),\n",
       "                ('lr', LinearRegression())])"
      ]
     },
     "execution_count": 21,
     "metadata": {},
     "output_type": "execute_result"
    }
   ],
   "source": [
    "lr.fit(X_train,y_train)"
   ]
  },
  {
   "cell_type": "code",
   "execution_count": 22,
   "id": "96d8f47f-cc08-4cd9-bd2d-23cdc225c2e8",
   "metadata": {},
   "outputs": [
    {
     "data": {
      "text/plain": [
       "(0.7691887545836131, 0.75440765345233)"
      ]
     },
     "execution_count": 22,
     "metadata": {},
     "output_type": "execute_result"
    }
   ],
   "source": [
    "lr.score(X_train,y_train), lr.score(X_test,y_test)"
   ]
  },
  {
   "cell_type": "code",
   "execution_count": 23,
   "id": "8a21833e-2fc1-4453-9fe8-d3dd2bc2b314",
   "metadata": {
    "tags": []
   },
   "outputs": [],
   "source": [
    "lr_preds = lr.predict(X_test)"
   ]
  },
  {
   "cell_type": "code",
   "execution_count": 24,
   "id": "a564f3af-3188-477c-9121-0818ad11211b",
   "metadata": {
    "tags": []
   },
   "outputs": [
    {
     "data": {
      "text/plain": [
       "580214.0220337312"
      ]
     },
     "execution_count": 24,
     "metadata": {},
     "output_type": "execute_result"
    }
   ],
   "source": [
    "MSE_lr = mean_squared_error(y_test,lr_preds)\n",
    "MSE_lr"
   ]
  },
  {
   "cell_type": "code",
   "execution_count": 25,
   "id": "e28f0279-29a8-451d-853a-f877240b0f10",
   "metadata": {
    "tags": []
   },
   "outputs": [
    {
     "data": {
      "text/plain": [
       "761.7178099754076"
      ]
     },
     "execution_count": 25,
     "metadata": {},
     "output_type": "execute_result"
    }
   ],
   "source": [
    "RMSE_lr = np.sqrt(mean_squared_error(y_test,lr_preds))\n",
    "RMSE_lr"
   ]
  },
  {
   "cell_type": "code",
   "execution_count": 26,
   "id": "5654fd30-1dc3-421a-8144-dde0239f573f",
   "metadata": {
    "tags": []
   },
   "outputs": [
    {
     "data": {
      "text/plain": [
       "611.6642498916053"
      ]
     },
     "execution_count": 26,
     "metadata": {},
     "output_type": "execute_result"
    }
   ],
   "source": [
    "MAE_lr = mean_absolute_error(y_test,lr_preds)\n",
    "MAE_lr"
   ]
  },
  {
   "cell_type": "code",
   "execution_count": 27,
   "id": "6bae3262-afc1-4e3f-914b-3cdff255505d",
   "metadata": {
    "tags": []
   },
   "outputs": [
    {
     "data": {
      "text/plain": [
       "0.75440765345233"
      ]
     },
     "execution_count": 27,
     "metadata": {},
     "output_type": "execute_result"
    }
   ],
   "source": [
    "r2_score(y_test,lr_preds)"
   ]
  },
  {
   "cell_type": "code",
   "execution_count": 28,
   "id": "918620b9-27e2-46c1-a367-e8ee8d43e880",
   "metadata": {
    "tags": []
   },
   "outputs": [
    {
     "name": "stdout",
     "output_type": "stream",
     "text": [
      "R2: 0.75440765345233\n",
      "MSE: 580214.0220337312\n",
      "RMSE: 761.7178099754076\n",
      "MAE: 611.6642498916053\n"
     ]
    }
   ],
   "source": [
    "scores.append(evaluation(X_test,y_test,lr_preds,lr))"
   ]
  },
  {
   "cell_type": "code",
   "execution_count": null,
   "id": "9c5d3ab3-f421-4ece-baa8-dee3e1db740f",
   "metadata": {},
   "outputs": [],
   "source": [
    "test_preds_lr = lr.predict(test_numeric)"
   ]
  },
  {
   "cell_type": "code",
   "execution_count": null,
   "id": "437d89f4-ef0d-49bb-8e3c-fe38212d4eb1",
   "metadata": {},
   "outputs": [],
   "source": [
    "test_preds_lr = pd.DataFrame({\n",
    "    'ID': test['ID'],\n",
    "    'Incidence': test_preds_lr,\n",
    "})\n",
    "\n",
    "test_preds_lr.head()"
   ]
  },
  {
   "cell_type": "code",
   "execution_count": null,
   "id": "c0fddfb3-e6e9-4ce7-a83e-31895d20b6e0",
   "metadata": {},
   "outputs": [],
   "source": [
    "#test_preds_lr.to_csv('../lr_model_3.csv', index=False)"
   ]
  },
  {
   "cell_type": "markdown",
   "id": "dc77d4df-f699-4391-bd4d-1b169f74a99d",
   "metadata": {},
   "source": [
    "### RandomforestRegressor"
   ]
  },
  {
   "cell_type": "code",
   "execution_count": 29,
   "id": "375c301b-d744-472c-a305-adb2523a7e2f",
   "metadata": {
    "tags": []
   },
   "outputs": [],
   "source": [
    "rf = Pipeline([\n",
    "    (\"it_imp\", IterativeImputer(max_iter=100)),\n",
    "    (\"ss\", StandardScaler()),\n",
    "    (\"rf\", RandomForestRegressor())]\n",
    ")"
   ]
  },
  {
   "cell_type": "code",
   "execution_count": 30,
   "id": "33075f70-d12a-4f60-9d61-53279fb765e6",
   "metadata": {
    "tags": []
   },
   "outputs": [
    {
     "data": {
      "text/html": [
       "<style>#sk-container-id-2 {color: black;}#sk-container-id-2 pre{padding: 0;}#sk-container-id-2 div.sk-toggleable {background-color: white;}#sk-container-id-2 label.sk-toggleable__label {cursor: pointer;display: block;width: 100%;margin-bottom: 0;padding: 0.3em;box-sizing: border-box;text-align: center;}#sk-container-id-2 label.sk-toggleable__label-arrow:before {content: \"▸\";float: left;margin-right: 0.25em;color: #696969;}#sk-container-id-2 label.sk-toggleable__label-arrow:hover:before {color: black;}#sk-container-id-2 div.sk-estimator:hover label.sk-toggleable__label-arrow:before {color: black;}#sk-container-id-2 div.sk-toggleable__content {max-height: 0;max-width: 0;overflow: hidden;text-align: left;background-color: #f0f8ff;}#sk-container-id-2 div.sk-toggleable__content pre {margin: 0.2em;color: black;border-radius: 0.25em;background-color: #f0f8ff;}#sk-container-id-2 input.sk-toggleable__control:checked~div.sk-toggleable__content {max-height: 200px;max-width: 100%;overflow: auto;}#sk-container-id-2 input.sk-toggleable__control:checked~label.sk-toggleable__label-arrow:before {content: \"▾\";}#sk-container-id-2 div.sk-estimator input.sk-toggleable__control:checked~label.sk-toggleable__label {background-color: #d4ebff;}#sk-container-id-2 div.sk-label input.sk-toggleable__control:checked~label.sk-toggleable__label {background-color: #d4ebff;}#sk-container-id-2 input.sk-hidden--visually {border: 0;clip: rect(1px 1px 1px 1px);clip: rect(1px, 1px, 1px, 1px);height: 1px;margin: -1px;overflow: hidden;padding: 0;position: absolute;width: 1px;}#sk-container-id-2 div.sk-estimator {font-family: monospace;background-color: #f0f8ff;border: 1px dotted black;border-radius: 0.25em;box-sizing: border-box;margin-bottom: 0.5em;}#sk-container-id-2 div.sk-estimator:hover {background-color: #d4ebff;}#sk-container-id-2 div.sk-parallel-item::after {content: \"\";width: 100%;border-bottom: 1px solid gray;flex-grow: 1;}#sk-container-id-2 div.sk-label:hover label.sk-toggleable__label {background-color: #d4ebff;}#sk-container-id-2 div.sk-serial::before {content: \"\";position: absolute;border-left: 1px solid gray;box-sizing: border-box;top: 0;bottom: 0;left: 50%;z-index: 0;}#sk-container-id-2 div.sk-serial {display: flex;flex-direction: column;align-items: center;background-color: white;padding-right: 0.2em;padding-left: 0.2em;position: relative;}#sk-container-id-2 div.sk-item {position: relative;z-index: 1;}#sk-container-id-2 div.sk-parallel {display: flex;align-items: stretch;justify-content: center;background-color: white;position: relative;}#sk-container-id-2 div.sk-item::before, #sk-container-id-2 div.sk-parallel-item::before {content: \"\";position: absolute;border-left: 1px solid gray;box-sizing: border-box;top: 0;bottom: 0;left: 50%;z-index: -1;}#sk-container-id-2 div.sk-parallel-item {display: flex;flex-direction: column;z-index: 1;position: relative;background-color: white;}#sk-container-id-2 div.sk-parallel-item:first-child::after {align-self: flex-end;width: 50%;}#sk-container-id-2 div.sk-parallel-item:last-child::after {align-self: flex-start;width: 50%;}#sk-container-id-2 div.sk-parallel-item:only-child::after {width: 0;}#sk-container-id-2 div.sk-dashed-wrapped {border: 1px dashed gray;margin: 0 0.4em 0.5em 0.4em;box-sizing: border-box;padding-bottom: 0.4em;background-color: white;}#sk-container-id-2 div.sk-label label {font-family: monospace;font-weight: bold;display: inline-block;line-height: 1.2em;}#sk-container-id-2 div.sk-label-container {text-align: center;}#sk-container-id-2 div.sk-container {/* jupyter's `normalize.less` sets `[hidden] { display: none; }` but bootstrap.min.css set `[hidden] { display: none !important; }` so we also need the `!important` here to be able to override the default hidden behavior on the sphinx rendered scikit-learn.org. See: https://github.com/scikit-learn/scikit-learn/issues/21755 */display: inline-block !important;position: relative;}#sk-container-id-2 div.sk-text-repr-fallback {display: none;}</style><div id=\"sk-container-id-2\" class=\"sk-top-container\"><div class=\"sk-text-repr-fallback\"><pre>Pipeline(steps=[(&#x27;it_imp&#x27;, IterativeImputer(max_iter=100)),\n",
       "                (&#x27;ss&#x27;, StandardScaler()), (&#x27;rf&#x27;, RandomForestRegressor())])</pre><b>In a Jupyter environment, please rerun this cell to show the HTML representation or trust the notebook. <br />On GitHub, the HTML representation is unable to render, please try loading this page with nbviewer.org.</b></div><div class=\"sk-container\" hidden><div class=\"sk-item sk-dashed-wrapped\"><div class=\"sk-label-container\"><div class=\"sk-label sk-toggleable\"><input class=\"sk-toggleable__control sk-hidden--visually\" id=\"sk-estimator-id-6\" type=\"checkbox\" ><label for=\"sk-estimator-id-6\" class=\"sk-toggleable__label sk-toggleable__label-arrow\">Pipeline</label><div class=\"sk-toggleable__content\"><pre>Pipeline(steps=[(&#x27;it_imp&#x27;, IterativeImputer(max_iter=100)),\n",
       "                (&#x27;ss&#x27;, StandardScaler()), (&#x27;rf&#x27;, RandomForestRegressor())])</pre></div></div></div><div class=\"sk-serial\"><div class=\"sk-item\"><div class=\"sk-estimator sk-toggleable\"><input class=\"sk-toggleable__control sk-hidden--visually\" id=\"sk-estimator-id-7\" type=\"checkbox\" ><label for=\"sk-estimator-id-7\" class=\"sk-toggleable__label sk-toggleable__label-arrow\">IterativeImputer</label><div class=\"sk-toggleable__content\"><pre>IterativeImputer(max_iter=100)</pre></div></div></div><div class=\"sk-item\"><div class=\"sk-estimator sk-toggleable\"><input class=\"sk-toggleable__control sk-hidden--visually\" id=\"sk-estimator-id-8\" type=\"checkbox\" ><label for=\"sk-estimator-id-8\" class=\"sk-toggleable__label sk-toggleable__label-arrow\">StandardScaler</label><div class=\"sk-toggleable__content\"><pre>StandardScaler()</pre></div></div></div><div class=\"sk-item\"><div class=\"sk-estimator sk-toggleable\"><input class=\"sk-toggleable__control sk-hidden--visually\" id=\"sk-estimator-id-9\" type=\"checkbox\" ><label for=\"sk-estimator-id-9\" class=\"sk-toggleable__label sk-toggleable__label-arrow\">RandomForestRegressor</label><div class=\"sk-toggleable__content\"><pre>RandomForestRegressor()</pre></div></div></div></div></div></div></div>"
      ],
      "text/plain": [
       "Pipeline(steps=[('it_imp', IterativeImputer(max_iter=100)),\n",
       "                ('ss', StandardScaler()), ('rf', RandomForestRegressor())])"
      ]
     },
     "execution_count": 30,
     "metadata": {},
     "output_type": "execute_result"
    }
   ],
   "source": [
    "rf.fit(X_train, y_train)"
   ]
  },
  {
   "cell_type": "code",
   "execution_count": 31,
   "id": "fd31867b-fc3f-46ed-85d7-a4216f973976",
   "metadata": {},
   "outputs": [
    {
     "data": {
      "text/plain": [
       "(0.9966791883752673, 0.9760967077312056)"
      ]
     },
     "execution_count": 31,
     "metadata": {},
     "output_type": "execute_result"
    }
   ],
   "source": [
    "rf.score(X_train, y_train), rf.score(X_test,y_test)"
   ]
  },
  {
   "cell_type": "code",
   "execution_count": 32,
   "id": "09af1819-a4d7-49ee-a52a-05b098998b73",
   "metadata": {
    "tags": []
   },
   "outputs": [],
   "source": [
    "rf_preds = rf.predict(X_test)"
   ]
  },
  {
   "cell_type": "code",
   "execution_count": 33,
   "id": "561efc14-3b7f-4144-8008-1892e35321c2",
   "metadata": {
    "tags": []
   },
   "outputs": [
    {
     "data": {
      "text/plain": [
       "56471.73269885659"
      ]
     },
     "execution_count": 33,
     "metadata": {},
     "output_type": "execute_result"
    }
   ],
   "source": [
    "MSE_rf = mean_squared_error(y_test,rf_preds)\n",
    "MSE_rf"
   ]
  },
  {
   "cell_type": "code",
   "execution_count": 34,
   "id": "75f5c8cc-e8b0-4449-8d23-007c16f3b864",
   "metadata": {
    "tags": []
   },
   "outputs": [
    {
     "data": {
      "text/plain": [
       "237.63781832624323"
      ]
     },
     "execution_count": 34,
     "metadata": {},
     "output_type": "execute_result"
    }
   ],
   "source": [
    "RMSE_rf = np.sqrt(MSE_rf)\n",
    "RMSE_rf"
   ]
  },
  {
   "cell_type": "code",
   "execution_count": 35,
   "id": "e25a4e27-39b8-420d-9121-26d18b7425d4",
   "metadata": {
    "tags": []
   },
   "outputs": [
    {
     "data": {
      "text/plain": [
       "167.15143165795064"
      ]
     },
     "execution_count": 35,
     "metadata": {},
     "output_type": "execute_result"
    }
   ],
   "source": [
    "MAE_rf = mean_absolute_error(y_test,rf_preds)\n",
    "MAE_rf"
   ]
  },
  {
   "cell_type": "code",
   "execution_count": 36,
   "id": "f81a31ce-a1e1-42d8-8253-a380c67e1fc3",
   "metadata": {
    "tags": []
   },
   "outputs": [
    {
     "name": "stdout",
     "output_type": "stream",
     "text": [
      "R2: 0.9760967077312056\n",
      "MSE: 56471.73269885659\n",
      "RMSE: 237.63781832624323\n",
      "MAE: 167.15143165795064\n"
     ]
    }
   ],
   "source": [
    "scores.append(evaluation(X_test,y_test,rf_preds,rf))"
   ]
  },
  {
   "cell_type": "markdown",
   "id": "8eb63f1d-5343-405d-8267-858d633f9734",
   "metadata": {},
   "source": [
    "#### Predict test data"
   ]
  },
  {
   "cell_type": "code",
   "execution_count": 24,
   "id": "372b6349-c0bb-4530-8632-83c9911d63da",
   "metadata": {
    "tags": []
   },
   "outputs": [
    {
     "data": {
      "text/plain": [
       "(1125, 51)"
      ]
     },
     "execution_count": 24,
     "metadata": {},
     "output_type": "execute_result"
    }
   ],
   "source": [
    "X_test.shape"
   ]
  },
  {
   "cell_type": "code",
   "execution_count": 25,
   "id": "7f7c5930-9362-4e80-953b-acf5865c8f86",
   "metadata": {
    "tags": []
   },
   "outputs": [
    {
     "data": {
      "text/plain": [
       "(4680, 51)"
      ]
     },
     "execution_count": 25,
     "metadata": {},
     "output_type": "execute_result"
    }
   ],
   "source": [
    "test_numeric.shape"
   ]
  },
  {
   "cell_type": "code",
   "execution_count": 26,
   "id": "abdabee5-62bd-405d-beea-78cb7529f138",
   "metadata": {
    "tags": []
   },
   "outputs": [],
   "source": [
    "test_preds_rf = rf.predict(test_numeric)"
   ]
  },
  {
   "cell_type": "code",
   "execution_count": 27,
   "id": "35f79a5c-abcc-4398-88af-4d40003d7982",
   "metadata": {
    "tags": []
   },
   "outputs": [
    {
     "data": {
      "text/html": [
       "<div>\n",
       "<style scoped>\n",
       "    .dataframe tbody tr th:only-of-type {\n",
       "        vertical-align: middle;\n",
       "    }\n",
       "\n",
       "    .dataframe tbody tr th {\n",
       "        vertical-align: top;\n",
       "    }\n",
       "\n",
       "    .dataframe thead th {\n",
       "        text-align: right;\n",
       "    }\n",
       "</style>\n",
       "<table border=\"1\" class=\"dataframe\">\n",
       "  <thead>\n",
       "    <tr style=\"text-align: right;\">\n",
       "      <th></th>\n",
       "      <th>ID</th>\n",
       "      <th>Incidence</th>\n",
       "    </tr>\n",
       "  </thead>\n",
       "  <tbody>\n",
       "    <tr>\n",
       "      <th>0</th>\n",
       "      <td>6c06615</td>\n",
       "      <td>4692.130641</td>\n",
       "    </tr>\n",
       "    <tr>\n",
       "      <th>1</th>\n",
       "      <td>e0cf76e</td>\n",
       "      <td>4823.983741</td>\n",
       "    </tr>\n",
       "    <tr>\n",
       "      <th>2</th>\n",
       "      <td>e9f95f0</td>\n",
       "      <td>4462.167361</td>\n",
       "    </tr>\n",
       "    <tr>\n",
       "      <th>3</th>\n",
       "      <td>5dffe44</td>\n",
       "      <td>3811.229110</td>\n",
       "    </tr>\n",
       "    <tr>\n",
       "      <th>4</th>\n",
       "      <td>9f9ea9b</td>\n",
       "      <td>3463.300962</td>\n",
       "    </tr>\n",
       "  </tbody>\n",
       "</table>\n",
       "</div>"
      ],
      "text/plain": [
       "        ID    Incidence\n",
       "0  6c06615  4692.130641\n",
       "1  e0cf76e  4823.983741\n",
       "2  e9f95f0  4462.167361\n",
       "3  5dffe44  3811.229110\n",
       "4  9f9ea9b  3463.300962"
      ]
     },
     "execution_count": 27,
     "metadata": {},
     "output_type": "execute_result"
    }
   ],
   "source": [
    "test_preds_rf = pd.DataFrame({\n",
    "    'ID': test['ID'],\n",
    "    'Incidence': test_preds_rf,\n",
    "})\n",
    "\n",
    "test_preds_rf.head()"
   ]
  },
  {
   "cell_type": "code",
   "execution_count": 28,
   "id": "12492d9e-8eec-4394-a828-bdbbd7e98b30",
   "metadata": {
    "tags": []
   },
   "outputs": [],
   "source": [
    "#test_preds_rf.to_csv('../rf_model_4.csv', index=False)"
   ]
  },
  {
   "cell_type": "code",
   "execution_count": null,
   "id": "0edd5447-c5f5-4c1c-bf16-683f7f3b305c",
   "metadata": {},
   "outputs": [],
   "source": []
  },
  {
   "cell_type": "markdown",
   "id": "0ac05175-9f4b-41fb-8e5b-e1b8e23027ec",
   "metadata": {},
   "source": [
    "### AdaBoost Regressor"
   ]
  },
  {
   "cell_type": "code",
   "execution_count": 100,
   "id": "ce14b4f1-2994-4ccb-9484-1d5fb56e9168",
   "metadata": {},
   "outputs": [],
   "source": [
    "abr = Pipeline([\n",
    "    (\"it_imp\", IterativeImputer(max_iter=100)),\n",
    "    #(\"ss\",StandardScaler()),\n",
    "    (\"abr\", AdaBoostRegressor(random_state=42,\n",
    "                              estimator=DecisionTreeRegressor()))]\n",
    ")"
   ]
  },
  {
   "cell_type": "code",
   "execution_count": 139,
   "id": "c50ed2ce-4466-45fb-a906-93fdb5e59575",
   "metadata": {
    "tags": []
   },
   "outputs": [],
   "source": [
    "abr_pipe_params = {\n",
    "    'abr__n_estimators' : [100]} #[150,200,300,400] "
   ]
  },
  {
   "cell_type": "code",
   "execution_count": 140,
   "id": "48cc191c-b864-4428-8a7f-bf7222951e5a",
   "metadata": {
    "tags": []
   },
   "outputs": [],
   "source": [
    "abr_gs = GridSearchCV(abr, abr_pipe_params) #cv=5)"
   ]
  },
  {
   "cell_type": "code",
   "execution_count": 141,
   "id": "08c09aa5-6513-4b91-8390-f2c01029d6f0",
   "metadata": {},
   "outputs": [
    {
     "data": {
      "text/html": [
       "<style>#sk-container-id-21 {color: black;}#sk-container-id-21 pre{padding: 0;}#sk-container-id-21 div.sk-toggleable {background-color: white;}#sk-container-id-21 label.sk-toggleable__label {cursor: pointer;display: block;width: 100%;margin-bottom: 0;padding: 0.3em;box-sizing: border-box;text-align: center;}#sk-container-id-21 label.sk-toggleable__label-arrow:before {content: \"▸\";float: left;margin-right: 0.25em;color: #696969;}#sk-container-id-21 label.sk-toggleable__label-arrow:hover:before {color: black;}#sk-container-id-21 div.sk-estimator:hover label.sk-toggleable__label-arrow:before {color: black;}#sk-container-id-21 div.sk-toggleable__content {max-height: 0;max-width: 0;overflow: hidden;text-align: left;background-color: #f0f8ff;}#sk-container-id-21 div.sk-toggleable__content pre {margin: 0.2em;color: black;border-radius: 0.25em;background-color: #f0f8ff;}#sk-container-id-21 input.sk-toggleable__control:checked~div.sk-toggleable__content {max-height: 200px;max-width: 100%;overflow: auto;}#sk-container-id-21 input.sk-toggleable__control:checked~label.sk-toggleable__label-arrow:before {content: \"▾\";}#sk-container-id-21 div.sk-estimator input.sk-toggleable__control:checked~label.sk-toggleable__label {background-color: #d4ebff;}#sk-container-id-21 div.sk-label input.sk-toggleable__control:checked~label.sk-toggleable__label {background-color: #d4ebff;}#sk-container-id-21 input.sk-hidden--visually {border: 0;clip: rect(1px 1px 1px 1px);clip: rect(1px, 1px, 1px, 1px);height: 1px;margin: -1px;overflow: hidden;padding: 0;position: absolute;width: 1px;}#sk-container-id-21 div.sk-estimator {font-family: monospace;background-color: #f0f8ff;border: 1px dotted black;border-radius: 0.25em;box-sizing: border-box;margin-bottom: 0.5em;}#sk-container-id-21 div.sk-estimator:hover {background-color: #d4ebff;}#sk-container-id-21 div.sk-parallel-item::after {content: \"\";width: 100%;border-bottom: 1px solid gray;flex-grow: 1;}#sk-container-id-21 div.sk-label:hover label.sk-toggleable__label {background-color: #d4ebff;}#sk-container-id-21 div.sk-serial::before {content: \"\";position: absolute;border-left: 1px solid gray;box-sizing: border-box;top: 0;bottom: 0;left: 50%;z-index: 0;}#sk-container-id-21 div.sk-serial {display: flex;flex-direction: column;align-items: center;background-color: white;padding-right: 0.2em;padding-left: 0.2em;position: relative;}#sk-container-id-21 div.sk-item {position: relative;z-index: 1;}#sk-container-id-21 div.sk-parallel {display: flex;align-items: stretch;justify-content: center;background-color: white;position: relative;}#sk-container-id-21 div.sk-item::before, #sk-container-id-21 div.sk-parallel-item::before {content: \"\";position: absolute;border-left: 1px solid gray;box-sizing: border-box;top: 0;bottom: 0;left: 50%;z-index: -1;}#sk-container-id-21 div.sk-parallel-item {display: flex;flex-direction: column;z-index: 1;position: relative;background-color: white;}#sk-container-id-21 div.sk-parallel-item:first-child::after {align-self: flex-end;width: 50%;}#sk-container-id-21 div.sk-parallel-item:last-child::after {align-self: flex-start;width: 50%;}#sk-container-id-21 div.sk-parallel-item:only-child::after {width: 0;}#sk-container-id-21 div.sk-dashed-wrapped {border: 1px dashed gray;margin: 0 0.4em 0.5em 0.4em;box-sizing: border-box;padding-bottom: 0.4em;background-color: white;}#sk-container-id-21 div.sk-label label {font-family: monospace;font-weight: bold;display: inline-block;line-height: 1.2em;}#sk-container-id-21 div.sk-label-container {text-align: center;}#sk-container-id-21 div.sk-container {/* jupyter's `normalize.less` sets `[hidden] { display: none; }` but bootstrap.min.css set `[hidden] { display: none !important; }` so we also need the `!important` here to be able to override the default hidden behavior on the sphinx rendered scikit-learn.org. See: https://github.com/scikit-learn/scikit-learn/issues/21755 */display: inline-block !important;position: relative;}#sk-container-id-21 div.sk-text-repr-fallback {display: none;}</style><div id=\"sk-container-id-21\" class=\"sk-top-container\"><div class=\"sk-text-repr-fallback\"><pre>GridSearchCV(estimator=Pipeline(steps=[(&#x27;it_imp&#x27;,\n",
       "                                        IterativeImputer(max_iter=100)),\n",
       "                                       (&#x27;abr&#x27;,\n",
       "                                        AdaBoostRegressor(estimator=DecisionTreeRegressor(),\n",
       "                                                          random_state=42))]),\n",
       "             param_grid={&#x27;abr__n_estimators&#x27;: [100]})</pre><b>In a Jupyter environment, please rerun this cell to show the HTML representation or trust the notebook. <br />On GitHub, the HTML representation is unable to render, please try loading this page with nbviewer.org.</b></div><div class=\"sk-container\" hidden><div class=\"sk-item sk-dashed-wrapped\"><div class=\"sk-label-container\"><div class=\"sk-label sk-toggleable\"><input class=\"sk-toggleable__control sk-hidden--visually\" id=\"sk-estimator-id-94\" type=\"checkbox\" ><label for=\"sk-estimator-id-94\" class=\"sk-toggleable__label sk-toggleable__label-arrow\">GridSearchCV</label><div class=\"sk-toggleable__content\"><pre>GridSearchCV(estimator=Pipeline(steps=[(&#x27;it_imp&#x27;,\n",
       "                                        IterativeImputer(max_iter=100)),\n",
       "                                       (&#x27;abr&#x27;,\n",
       "                                        AdaBoostRegressor(estimator=DecisionTreeRegressor(),\n",
       "                                                          random_state=42))]),\n",
       "             param_grid={&#x27;abr__n_estimators&#x27;: [100]})</pre></div></div></div><div class=\"sk-parallel\"><div class=\"sk-parallel-item\"><div class=\"sk-item\"><div class=\"sk-label-container\"><div class=\"sk-label sk-toggleable\"><input class=\"sk-toggleable__control sk-hidden--visually\" id=\"sk-estimator-id-95\" type=\"checkbox\" ><label for=\"sk-estimator-id-95\" class=\"sk-toggleable__label sk-toggleable__label-arrow\">estimator: Pipeline</label><div class=\"sk-toggleable__content\"><pre>Pipeline(steps=[(&#x27;it_imp&#x27;, IterativeImputer(max_iter=100)),\n",
       "                (&#x27;abr&#x27;,\n",
       "                 AdaBoostRegressor(estimator=DecisionTreeRegressor(),\n",
       "                                   random_state=42))])</pre></div></div></div><div class=\"sk-serial\"><div class=\"sk-item\"><div class=\"sk-serial\"><div class=\"sk-item\"><div class=\"sk-estimator sk-toggleable\"><input class=\"sk-toggleable__control sk-hidden--visually\" id=\"sk-estimator-id-96\" type=\"checkbox\" ><label for=\"sk-estimator-id-96\" class=\"sk-toggleable__label sk-toggleable__label-arrow\">IterativeImputer</label><div class=\"sk-toggleable__content\"><pre>IterativeImputer(max_iter=100)</pre></div></div></div><div class=\"sk-item sk-dashed-wrapped\"><div class=\"sk-label-container\"><div class=\"sk-label sk-toggleable\"><input class=\"sk-toggleable__control sk-hidden--visually\" id=\"sk-estimator-id-97\" type=\"checkbox\" ><label for=\"sk-estimator-id-97\" class=\"sk-toggleable__label sk-toggleable__label-arrow\">abr: AdaBoostRegressor</label><div class=\"sk-toggleable__content\"><pre>AdaBoostRegressor(estimator=DecisionTreeRegressor(), random_state=42)</pre></div></div></div><div class=\"sk-parallel\"><div class=\"sk-parallel-item\"><div class=\"sk-item\"><div class=\"sk-label-container\"><div class=\"sk-label sk-toggleable\"><input class=\"sk-toggleable__control sk-hidden--visually\" id=\"sk-estimator-id-98\" type=\"checkbox\" ><label for=\"sk-estimator-id-98\" class=\"sk-toggleable__label sk-toggleable__label-arrow\">estimator: DecisionTreeRegressor</label><div class=\"sk-toggleable__content\"><pre>DecisionTreeRegressor()</pre></div></div></div><div class=\"sk-serial\"><div class=\"sk-item\"><div class=\"sk-estimator sk-toggleable\"><input class=\"sk-toggleable__control sk-hidden--visually\" id=\"sk-estimator-id-99\" type=\"checkbox\" ><label for=\"sk-estimator-id-99\" class=\"sk-toggleable__label sk-toggleable__label-arrow\">DecisionTreeRegressor</label><div class=\"sk-toggleable__content\"><pre>DecisionTreeRegressor()</pre></div></div></div></div></div></div></div></div></div></div></div></div></div></div></div></div></div>"
      ],
      "text/plain": [
       "GridSearchCV(estimator=Pipeline(steps=[('it_imp',\n",
       "                                        IterativeImputer(max_iter=100)),\n",
       "                                       ('abr',\n",
       "                                        AdaBoostRegressor(estimator=DecisionTreeRegressor(),\n",
       "                                                          random_state=42))]),\n",
       "             param_grid={'abr__n_estimators': [100]})"
      ]
     },
     "execution_count": 141,
     "metadata": {},
     "output_type": "execute_result"
    }
   ],
   "source": [
    "abr_gs.fit(X_train,y_train)"
   ]
  },
  {
   "cell_type": "code",
   "execution_count": 142,
   "id": "0d41c8e1-85ad-443c-ab6b-cb61468908a4",
   "metadata": {},
   "outputs": [
    {
     "data": {
      "text/plain": [
       "(0.9996045870239607, 0.9757852078682748)"
      ]
     },
     "execution_count": 142,
     "metadata": {},
     "output_type": "execute_result"
    }
   ],
   "source": [
    "abr_gs.score(X_train,y_train), abr_gs.score(X_test,y_test)"
   ]
  },
  {
   "cell_type": "code",
   "execution_count": 143,
   "id": "c17bb863-f4e3-400c-acb4-904faf54b44d",
   "metadata": {},
   "outputs": [
    {
     "data": {
      "text/plain": [
       "{'abr__n_estimators': 100}"
      ]
     },
     "execution_count": 143,
     "metadata": {},
     "output_type": "execute_result"
    }
   ],
   "source": [
    "abr_gs.best_params_"
   ]
  },
  {
   "cell_type": "code",
   "execution_count": 144,
   "id": "2b39638c-970b-4fe9-8c4c-875fbb330795",
   "metadata": {
    "tags": []
   },
   "outputs": [],
   "source": [
    "test_preds_abr = abr_gs.predict(test_numeric)"
   ]
  },
  {
   "cell_type": "code",
   "execution_count": 145,
   "id": "67a20b49-79fe-4917-adc6-a2afa27d8594",
   "metadata": {
    "tags": []
   },
   "outputs": [
    {
     "data": {
      "text/html": [
       "<div>\n",
       "<style scoped>\n",
       "    .dataframe tbody tr th:only-of-type {\n",
       "        vertical-align: middle;\n",
       "    }\n",
       "\n",
       "    .dataframe tbody tr th {\n",
       "        vertical-align: top;\n",
       "    }\n",
       "\n",
       "    .dataframe thead th {\n",
       "        text-align: right;\n",
       "    }\n",
       "</style>\n",
       "<table border=\"1\" class=\"dataframe\">\n",
       "  <thead>\n",
       "    <tr style=\"text-align: right;\">\n",
       "      <th></th>\n",
       "      <th>ID</th>\n",
       "      <th>Incidence</th>\n",
       "    </tr>\n",
       "  </thead>\n",
       "  <tbody>\n",
       "    <tr>\n",
       "      <th>0</th>\n",
       "      <td>6c06615</td>\n",
       "      <td>4694.653998</td>\n",
       "    </tr>\n",
       "    <tr>\n",
       "      <th>1</th>\n",
       "      <td>e0cf76e</td>\n",
       "      <td>4810.174610</td>\n",
       "    </tr>\n",
       "    <tr>\n",
       "      <th>2</th>\n",
       "      <td>e9f95f0</td>\n",
       "      <td>4487.052247</td>\n",
       "    </tr>\n",
       "    <tr>\n",
       "      <th>3</th>\n",
       "      <td>5dffe44</td>\n",
       "      <td>3828.460268</td>\n",
       "    </tr>\n",
       "    <tr>\n",
       "      <th>4</th>\n",
       "      <td>9f9ea9b</td>\n",
       "      <td>3483.560462</td>\n",
       "    </tr>\n",
       "  </tbody>\n",
       "</table>\n",
       "</div>"
      ],
      "text/plain": [
       "        ID    Incidence\n",
       "0  6c06615  4694.653998\n",
       "1  e0cf76e  4810.174610\n",
       "2  e9f95f0  4487.052247\n",
       "3  5dffe44  3828.460268\n",
       "4  9f9ea9b  3483.560462"
      ]
     },
     "execution_count": 145,
     "metadata": {},
     "output_type": "execute_result"
    }
   ],
   "source": [
    "test_preds_abr = pd.DataFrame({\n",
    "    'ID': test['ID'],\n",
    "    'Incidence': test_preds_abr,\n",
    "})\n",
    "\n",
    "test_preds_abr.head()"
   ]
  },
  {
   "cell_type": "code",
   "execution_count": 147,
   "id": "49329cbd-4475-453b-a8a2-2bf61e29e984",
   "metadata": {
    "tags": []
   },
   "outputs": [],
   "source": [
    "test_preds_abr.to_csv('../abr_model.csv', index=False)"
   ]
  },
  {
   "cell_type": "markdown",
   "id": "3de0aaab-827b-4b03-a781-fb1da5f82fa5",
   "metadata": {},
   "source": [
    "### ExtraTreeRegressor"
   ]
  },
  {
   "cell_type": "code",
   "execution_count": 120,
   "id": "e71317d7-1846-4936-a812-29ebc9f8c7fb",
   "metadata": {},
   "outputs": [],
   "source": [
    "etr = Pipeline([\n",
    "    (\"it_imp\", IterativeImputer(max_iter=100)),\n",
    "    (\"ss\", StandardScaler()),\n",
    "    (\"etc\", ExtraTreesRegressor())]\n",
    ")"
   ]
  },
  {
   "cell_type": "code",
   "execution_count": 134,
   "id": "d97141c8-9d65-4410-8850-f90a754fa295",
   "metadata": {
    "tags": []
   },
   "outputs": [],
   "source": [
    "etr_pipe_params = {\n",
    "    'etc__n_estimators' :[100], #[200,300,400],\n",
    "    'etc__max_depth' : [None] #[2,3,4]\n",
    "} "
   ]
  },
  {
   "cell_type": "code",
   "execution_count": 135,
   "id": "a8166845-a60d-4a52-a5d9-aa6794910f12",
   "metadata": {
    "tags": []
   },
   "outputs": [],
   "source": [
    "etr_gs = GridSearchCV(etr, etr_pipe_params, cv=5)"
   ]
  },
  {
   "cell_type": "code",
   "execution_count": 136,
   "id": "d10fd7f7-0700-49ca-b4e1-766fec3054a4",
   "metadata": {},
   "outputs": [
    {
     "data": {
      "text/html": [
       "<style>#sk-container-id-20 {color: black;}#sk-container-id-20 pre{padding: 0;}#sk-container-id-20 div.sk-toggleable {background-color: white;}#sk-container-id-20 label.sk-toggleable__label {cursor: pointer;display: block;width: 100%;margin-bottom: 0;padding: 0.3em;box-sizing: border-box;text-align: center;}#sk-container-id-20 label.sk-toggleable__label-arrow:before {content: \"▸\";float: left;margin-right: 0.25em;color: #696969;}#sk-container-id-20 label.sk-toggleable__label-arrow:hover:before {color: black;}#sk-container-id-20 div.sk-estimator:hover label.sk-toggleable__label-arrow:before {color: black;}#sk-container-id-20 div.sk-toggleable__content {max-height: 0;max-width: 0;overflow: hidden;text-align: left;background-color: #f0f8ff;}#sk-container-id-20 div.sk-toggleable__content pre {margin: 0.2em;color: black;border-radius: 0.25em;background-color: #f0f8ff;}#sk-container-id-20 input.sk-toggleable__control:checked~div.sk-toggleable__content {max-height: 200px;max-width: 100%;overflow: auto;}#sk-container-id-20 input.sk-toggleable__control:checked~label.sk-toggleable__label-arrow:before {content: \"▾\";}#sk-container-id-20 div.sk-estimator input.sk-toggleable__control:checked~label.sk-toggleable__label {background-color: #d4ebff;}#sk-container-id-20 div.sk-label input.sk-toggleable__control:checked~label.sk-toggleable__label {background-color: #d4ebff;}#sk-container-id-20 input.sk-hidden--visually {border: 0;clip: rect(1px 1px 1px 1px);clip: rect(1px, 1px, 1px, 1px);height: 1px;margin: -1px;overflow: hidden;padding: 0;position: absolute;width: 1px;}#sk-container-id-20 div.sk-estimator {font-family: monospace;background-color: #f0f8ff;border: 1px dotted black;border-radius: 0.25em;box-sizing: border-box;margin-bottom: 0.5em;}#sk-container-id-20 div.sk-estimator:hover {background-color: #d4ebff;}#sk-container-id-20 div.sk-parallel-item::after {content: \"\";width: 100%;border-bottom: 1px solid gray;flex-grow: 1;}#sk-container-id-20 div.sk-label:hover label.sk-toggleable__label {background-color: #d4ebff;}#sk-container-id-20 div.sk-serial::before {content: \"\";position: absolute;border-left: 1px solid gray;box-sizing: border-box;top: 0;bottom: 0;left: 50%;z-index: 0;}#sk-container-id-20 div.sk-serial {display: flex;flex-direction: column;align-items: center;background-color: white;padding-right: 0.2em;padding-left: 0.2em;position: relative;}#sk-container-id-20 div.sk-item {position: relative;z-index: 1;}#sk-container-id-20 div.sk-parallel {display: flex;align-items: stretch;justify-content: center;background-color: white;position: relative;}#sk-container-id-20 div.sk-item::before, #sk-container-id-20 div.sk-parallel-item::before {content: \"\";position: absolute;border-left: 1px solid gray;box-sizing: border-box;top: 0;bottom: 0;left: 50%;z-index: -1;}#sk-container-id-20 div.sk-parallel-item {display: flex;flex-direction: column;z-index: 1;position: relative;background-color: white;}#sk-container-id-20 div.sk-parallel-item:first-child::after {align-self: flex-end;width: 50%;}#sk-container-id-20 div.sk-parallel-item:last-child::after {align-self: flex-start;width: 50%;}#sk-container-id-20 div.sk-parallel-item:only-child::after {width: 0;}#sk-container-id-20 div.sk-dashed-wrapped {border: 1px dashed gray;margin: 0 0.4em 0.5em 0.4em;box-sizing: border-box;padding-bottom: 0.4em;background-color: white;}#sk-container-id-20 div.sk-label label {font-family: monospace;font-weight: bold;display: inline-block;line-height: 1.2em;}#sk-container-id-20 div.sk-label-container {text-align: center;}#sk-container-id-20 div.sk-container {/* jupyter's `normalize.less` sets `[hidden] { display: none; }` but bootstrap.min.css set `[hidden] { display: none !important; }` so we also need the `!important` here to be able to override the default hidden behavior on the sphinx rendered scikit-learn.org. See: https://github.com/scikit-learn/scikit-learn/issues/21755 */display: inline-block !important;position: relative;}#sk-container-id-20 div.sk-text-repr-fallback {display: none;}</style><div id=\"sk-container-id-20\" class=\"sk-top-container\"><div class=\"sk-text-repr-fallback\"><pre>GridSearchCV(cv=5,\n",
       "             estimator=Pipeline(steps=[(&#x27;it_imp&#x27;,\n",
       "                                        IterativeImputer(max_iter=100)),\n",
       "                                       (&#x27;ss&#x27;, StandardScaler()),\n",
       "                                       (&#x27;etc&#x27;, ExtraTreesRegressor())]),\n",
       "             param_grid={&#x27;etc__max_depth&#x27;: [None], &#x27;etc__n_estimators&#x27;: [100]})</pre><b>In a Jupyter environment, please rerun this cell to show the HTML representation or trust the notebook. <br />On GitHub, the HTML representation is unable to render, please try loading this page with nbviewer.org.</b></div><div class=\"sk-container\" hidden><div class=\"sk-item sk-dashed-wrapped\"><div class=\"sk-label-container\"><div class=\"sk-label sk-toggleable\"><input class=\"sk-toggleable__control sk-hidden--visually\" id=\"sk-estimator-id-89\" type=\"checkbox\" ><label for=\"sk-estimator-id-89\" class=\"sk-toggleable__label sk-toggleable__label-arrow\">GridSearchCV</label><div class=\"sk-toggleable__content\"><pre>GridSearchCV(cv=5,\n",
       "             estimator=Pipeline(steps=[(&#x27;it_imp&#x27;,\n",
       "                                        IterativeImputer(max_iter=100)),\n",
       "                                       (&#x27;ss&#x27;, StandardScaler()),\n",
       "                                       (&#x27;etc&#x27;, ExtraTreesRegressor())]),\n",
       "             param_grid={&#x27;etc__max_depth&#x27;: [None], &#x27;etc__n_estimators&#x27;: [100]})</pre></div></div></div><div class=\"sk-parallel\"><div class=\"sk-parallel-item\"><div class=\"sk-item\"><div class=\"sk-label-container\"><div class=\"sk-label sk-toggleable\"><input class=\"sk-toggleable__control sk-hidden--visually\" id=\"sk-estimator-id-90\" type=\"checkbox\" ><label for=\"sk-estimator-id-90\" class=\"sk-toggleable__label sk-toggleable__label-arrow\">estimator: Pipeline</label><div class=\"sk-toggleable__content\"><pre>Pipeline(steps=[(&#x27;it_imp&#x27;, IterativeImputer(max_iter=100)),\n",
       "                (&#x27;ss&#x27;, StandardScaler()), (&#x27;etc&#x27;, ExtraTreesRegressor())])</pre></div></div></div><div class=\"sk-serial\"><div class=\"sk-item\"><div class=\"sk-serial\"><div class=\"sk-item\"><div class=\"sk-estimator sk-toggleable\"><input class=\"sk-toggleable__control sk-hidden--visually\" id=\"sk-estimator-id-91\" type=\"checkbox\" ><label for=\"sk-estimator-id-91\" class=\"sk-toggleable__label sk-toggleable__label-arrow\">IterativeImputer</label><div class=\"sk-toggleable__content\"><pre>IterativeImputer(max_iter=100)</pre></div></div></div><div class=\"sk-item\"><div class=\"sk-estimator sk-toggleable\"><input class=\"sk-toggleable__control sk-hidden--visually\" id=\"sk-estimator-id-92\" type=\"checkbox\" ><label for=\"sk-estimator-id-92\" class=\"sk-toggleable__label sk-toggleable__label-arrow\">StandardScaler</label><div class=\"sk-toggleable__content\"><pre>StandardScaler()</pre></div></div></div><div class=\"sk-item\"><div class=\"sk-estimator sk-toggleable\"><input class=\"sk-toggleable__control sk-hidden--visually\" id=\"sk-estimator-id-93\" type=\"checkbox\" ><label for=\"sk-estimator-id-93\" class=\"sk-toggleable__label sk-toggleable__label-arrow\">ExtraTreesRegressor</label><div class=\"sk-toggleable__content\"><pre>ExtraTreesRegressor()</pre></div></div></div></div></div></div></div></div></div></div></div></div>"
      ],
      "text/plain": [
       "GridSearchCV(cv=5,\n",
       "             estimator=Pipeline(steps=[('it_imp',\n",
       "                                        IterativeImputer(max_iter=100)),\n",
       "                                       ('ss', StandardScaler()),\n",
       "                                       ('etc', ExtraTreesRegressor())]),\n",
       "             param_grid={'etc__max_depth': [None], 'etc__n_estimators': [100]})"
      ]
     },
     "execution_count": 136,
     "metadata": {},
     "output_type": "execute_result"
    }
   ],
   "source": [
    "etr_gs.fit(X_train,y_train)"
   ]
  },
  {
   "cell_type": "code",
   "execution_count": 137,
   "id": "50218ace-89dc-49f3-aea3-5df823a607ec",
   "metadata": {
    "tags": []
   },
   "outputs": [
    {
     "data": {
      "text/plain": [
       "(0.9998924230694293, 0.9765980401108488)"
      ]
     },
     "execution_count": 137,
     "metadata": {},
     "output_type": "execute_result"
    }
   ],
   "source": [
    "etr_gs.score(X_train,y_train), etr_gs.score(X_test,y_test)"
   ]
  },
  {
   "cell_type": "code",
   "execution_count": 138,
   "id": "942bbc42-cf9d-40d8-b3aa-10d6c94f08cb",
   "metadata": {},
   "outputs": [
    {
     "data": {
      "text/plain": [
       "{'etc__max_depth': None, 'etc__n_estimators': 100}"
      ]
     },
     "execution_count": 138,
     "metadata": {},
     "output_type": "execute_result"
    }
   ],
   "source": [
    "etr_gs.best_params_"
   ]
  },
  {
   "cell_type": "code",
   "execution_count": null,
   "id": "14eeef6e-9b2c-406f-aabc-55be10583795",
   "metadata": {},
   "outputs": [],
   "source": []
  },
  {
   "cell_type": "code",
   "execution_count": null,
   "id": "f33881d1-362b-45fc-bbd2-2e5f2ba5c514",
   "metadata": {},
   "outputs": [],
   "source": []
  },
  {
   "cell_type": "code",
   "execution_count": null,
   "id": "48335371-d449-4086-a27f-e00d93642ba7",
   "metadata": {},
   "outputs": [],
   "source": []
  }
 ],
 "metadata": {
  "kernelspec": {
   "display_name": "Python 3 (ipykernel)",
   "language": "python",
   "name": "python3"
  },
  "language_info": {
   "codemirror_mode": {
    "name": "ipython",
    "version": 3
   },
   "file_extension": ".py",
   "mimetype": "text/x-python",
   "name": "python",
   "nbconvert_exporter": "python",
   "pygments_lexer": "ipython3",
   "version": "3.11.5"
  }
 },
 "nbformat": 4,
 "nbformat_minor": 5
}
