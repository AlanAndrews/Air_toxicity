{
 "cells": [
  {
   "cell_type": "code",
   "execution_count": 22,
   "id": "ce32839c-aa58-47d2-85e0-5d00de35ed56",
   "metadata": {
    "tags": []
   },
   "outputs": [],
   "source": [
    "import pandas as pd\n",
    "import numpy as np"
   ]
  },
  {
   "cell_type": "code",
   "execution_count": 23,
   "id": "9a40f2df-9771-4b2b-98a6-94ee98249f19",
   "metadata": {
    "tags": []
   },
   "outputs": [
    {
     "data": {
      "text/html": [
       "<div>\n",
       "<style scoped>\n",
       "    .dataframe tbody tr th:only-of-type {\n",
       "        vertical-align: middle;\n",
       "    }\n",
       "\n",
       "    .dataframe tbody tr th {\n",
       "        vertical-align: top;\n",
       "    }\n",
       "\n",
       "    .dataframe thead th {\n",
       "        text-align: right;\n",
       "    }\n",
       "</style>\n",
       "<table border=\"1\" class=\"dataframe\">\n",
       "  <thead>\n",
       "    <tr style=\"text-align: right;\">\n",
       "      <th></th>\n",
       "      <th>ID</th>\n",
       "      <th>State.Name</th>\n",
       "      <th>Year</th>\n",
       "      <th>Age</th>\n",
       "      <th>Incidence</th>\n",
       "    </tr>\n",
       "  </thead>\n",
       "  <tbody>\n",
       "    <tr>\n",
       "      <th>0</th>\n",
       "      <td>f8312a4</td>\n",
       "      <td>Alabama</td>\n",
       "      <td>1990</td>\n",
       "      <td>65-69</td>\n",
       "      <td>4685.284313</td>\n",
       "    </tr>\n",
       "    <tr>\n",
       "      <th>1</th>\n",
       "      <td>3effa36</td>\n",
       "      <td>Alabama</td>\n",
       "      <td>1990</td>\n",
       "      <td>70-74</td>\n",
       "      <td>4827.052043</td>\n",
       "    </tr>\n",
       "    <tr>\n",
       "      <th>2</th>\n",
       "      <td>1e8044b</td>\n",
       "      <td>Alabama</td>\n",
       "      <td>1990</td>\n",
       "      <td>75-79</td>\n",
       "      <td>4377.956914</td>\n",
       "    </tr>\n",
       "    <tr>\n",
       "      <th>3</th>\n",
       "      <td>d875d65</td>\n",
       "      <td>Alabama</td>\n",
       "      <td>1990</td>\n",
       "      <td>80-84</td>\n",
       "      <td>3822.732993</td>\n",
       "    </tr>\n",
       "    <tr>\n",
       "      <th>4</th>\n",
       "      <td>46e6695</td>\n",
       "      <td>Alabama</td>\n",
       "      <td>1990</td>\n",
       "      <td>85-89</td>\n",
       "      <td>3470.199503</td>\n",
       "    </tr>\n",
       "  </tbody>\n",
       "</table>\n",
       "</div>"
      ],
      "text/plain": [
       "        ID State.Name  Year    Age    Incidence\n",
       "0  f8312a4    Alabama  1990  65-69  4685.284313\n",
       "1  3effa36    Alabama  1990  70-74  4827.052043\n",
       "2  1e8044b    Alabama  1990  75-79  4377.956914\n",
       "3  d875d65    Alabama  1990  80-84  3822.732993\n",
       "4  46e6695    Alabama  1990  85-89  3470.199503"
      ]
     },
     "execution_count": 23,
     "metadata": {},
     "output_type": "execute_result"
    }
   ],
   "source": [
    "train = pd.read_csv('../train.csv')\n",
    "train.head()"
   ]
  },
  {
   "cell_type": "code",
   "execution_count": 24,
   "id": "baa5d377-9c2b-4da0-b3a9-e2d0e8bae664",
   "metadata": {
    "tags": []
   },
   "outputs": [
    {
     "data": {
      "text/html": [
       "<div>\n",
       "<style scoped>\n",
       "    .dataframe tbody tr th:only-of-type {\n",
       "        vertical-align: middle;\n",
       "    }\n",
       "\n",
       "    .dataframe tbody tr th {\n",
       "        vertical-align: top;\n",
       "    }\n",
       "\n",
       "    .dataframe thead th {\n",
       "        text-align: right;\n",
       "    }\n",
       "</style>\n",
       "<table border=\"1\" class=\"dataframe\">\n",
       "  <thead>\n",
       "    <tr style=\"text-align: right;\">\n",
       "      <th></th>\n",
       "      <th>ID</th>\n",
       "      <th>State.Name</th>\n",
       "      <th>Year</th>\n",
       "      <th>Age</th>\n",
       "    </tr>\n",
       "  </thead>\n",
       "  <tbody>\n",
       "    <tr>\n",
       "      <th>0</th>\n",
       "      <td>6c06615</td>\n",
       "      <td>Delaware</td>\n",
       "      <td>1990</td>\n",
       "      <td>65-69</td>\n",
       "    </tr>\n",
       "    <tr>\n",
       "      <th>1</th>\n",
       "      <td>e0cf76e</td>\n",
       "      <td>Delaware</td>\n",
       "      <td>1990</td>\n",
       "      <td>70-74</td>\n",
       "    </tr>\n",
       "    <tr>\n",
       "      <th>2</th>\n",
       "      <td>e9f95f0</td>\n",
       "      <td>Delaware</td>\n",
       "      <td>1990</td>\n",
       "      <td>75-79</td>\n",
       "    </tr>\n",
       "    <tr>\n",
       "      <th>3</th>\n",
       "      <td>5dffe44</td>\n",
       "      <td>Delaware</td>\n",
       "      <td>1990</td>\n",
       "      <td>80-84</td>\n",
       "    </tr>\n",
       "    <tr>\n",
       "      <th>4</th>\n",
       "      <td>9f9ea9b</td>\n",
       "      <td>Delaware</td>\n",
       "      <td>1990</td>\n",
       "      <td>85-89</td>\n",
       "    </tr>\n",
       "  </tbody>\n",
       "</table>\n",
       "</div>"
      ],
      "text/plain": [
       "        ID State.Name  Year    Age\n",
       "0  6c06615   Delaware  1990  65-69\n",
       "1  e0cf76e   Delaware  1990  70-74\n",
       "2  e9f95f0   Delaware  1990  75-79\n",
       "3  5dffe44   Delaware  1990  80-84\n",
       "4  9f9ea9b   Delaware  1990  85-89"
      ]
     },
     "execution_count": 24,
     "metadata": {},
     "output_type": "execute_result"
    }
   ],
   "source": [
    "test = pd.read_csv('../test.csv')\n",
    "test.head()"
   ]
  },
  {
   "cell_type": "code",
   "execution_count": 25,
   "id": "d0731299-672f-4061-a4b6-bece282cb7ed",
   "metadata": {
    "tags": []
   },
   "outputs": [
    {
     "data": {
      "text/plain": [
       "ID            0\n",
       "State.Name    0\n",
       "Year          0\n",
       "Age           0\n",
       "Incidence     0\n",
       "dtype: int64"
      ]
     },
     "execution_count": 25,
     "metadata": {},
     "output_type": "execute_result"
    }
   ],
   "source": [
    "train.isnull().sum()"
   ]
  },
  {
   "cell_type": "code",
   "execution_count": 26,
   "id": "d6edac86-8146-4070-8f20-b9cf17116da3",
   "metadata": {
    "tags": []
   },
   "outputs": [
    {
     "data": {
      "text/plain": [
       "65-69    750\n",
       "70-74    750\n",
       "75-79    750\n",
       "80-84    750\n",
       "85-89    750\n",
       "90-94    750\n",
       "Name: Age, dtype: int64"
      ]
     },
     "execution_count": 26,
     "metadata": {},
     "output_type": "execute_result"
    }
   ],
   "source": [
    "train['Age'].value_counts()"
   ]
  },
  {
   "cell_type": "code",
   "execution_count": 27,
   "id": "01cc3c57-5f49-467a-9a61-70a393ba7ed5",
   "metadata": {
    "tags": []
   },
   "outputs": [
    {
     "data": {
      "text/plain": [
       "65-69    780\n",
       "70-74    780\n",
       "75-79    780\n",
       "80-84    780\n",
       "85-89    780\n",
       "90-94    780\n",
       "Name: Age, dtype: int64"
      ]
     },
     "execution_count": 27,
     "metadata": {},
     "output_type": "execute_result"
    }
   ],
   "source": [
    "test['Age'].value_counts()"
   ]
  },
  {
   "cell_type": "code",
   "execution_count": 28,
   "id": "24f2a35c-454e-4877-b066-5ac8f6e3dda5",
   "metadata": {
    "tags": []
   },
   "outputs": [
    {
     "name": "stdout",
     "output_type": "stream",
     "text": [
      "<class 'pandas.core.frame.DataFrame'>\n",
      "RangeIndex: 4500 entries, 0 to 4499\n",
      "Data columns (total 5 columns):\n",
      " #   Column      Non-Null Count  Dtype  \n",
      "---  ------      --------------  -----  \n",
      " 0   ID          4500 non-null   object \n",
      " 1   State.Name  4500 non-null   object \n",
      " 2   Year        4500 non-null   int64  \n",
      " 3   Age         4500 non-null   object \n",
      " 4   Incidence   4500 non-null   float64\n",
      "dtypes: float64(1), int64(1), object(3)\n",
      "memory usage: 175.9+ KB\n"
     ]
    }
   ],
   "source": [
    "train.info()"
   ]
  },
  {
   "cell_type": "code",
   "execution_count": 29,
   "id": "3575688f-077e-43d1-bc40-5f5ecfc50218",
   "metadata": {
    "tags": []
   },
   "outputs": [
    {
     "name": "stdout",
     "output_type": "stream",
     "text": [
      "<class 'pandas.core.frame.DataFrame'>\n",
      "RangeIndex: 4680 entries, 0 to 4679\n",
      "Data columns (total 4 columns):\n",
      " #   Column      Non-Null Count  Dtype \n",
      "---  ------      --------------  ----- \n",
      " 0   ID          4680 non-null   object\n",
      " 1   State.Name  4680 non-null   object\n",
      " 2   Year        4680 non-null   int64 \n",
      " 3   Age         4680 non-null   object\n",
      "dtypes: int64(1), object(3)\n",
      "memory usage: 146.4+ KB\n"
     ]
    }
   ],
   "source": [
    "test.info()"
   ]
  },
  {
   "cell_type": "code",
   "execution_count": 30,
   "id": "4913c6c5-335e-489e-9430-b695461b5716",
   "metadata": {
    "tags": []
   },
   "outputs": [
    {
     "data": {
      "text/plain": [
       "Alabama                 180\n",
       "Iowa                    180\n",
       "Texas                   180\n",
       "Tennessee               180\n",
       "Oregon                  180\n",
       "Oklahoma                180\n",
       "Ohio                    180\n",
       "North Dakota            180\n",
       "North Carolina          180\n",
       "Montana                 180\n",
       "Mississippi             180\n",
       "Michigan                180\n",
       "Indiana                 180\n",
       "Alaska                  180\n",
       "Idaho                   180\n",
       "Hawaii                  180\n",
       "Georgia                 180\n",
       "Florida                 180\n",
       "District of Columbia    180\n",
       "Connecticut             180\n",
       "Colorado                180\n",
       "California              180\n",
       "Arkansas                180\n",
       "Arizona                 180\n",
       "Washington              180\n",
       "Name: State.Name, dtype: int64"
      ]
     },
     "execution_count": 30,
     "metadata": {},
     "output_type": "execute_result"
    }
   ],
   "source": [
    "train['State.Name'].value_counts()"
   ]
  },
  {
   "cell_type": "code",
   "execution_count": 31,
   "id": "5838258b-25c7-47b0-bd21-9192eb5858e5",
   "metadata": {
    "tags": []
   },
   "outputs": [
    {
     "data": {
      "text/plain": [
       "Delaware          180\n",
       "Illinois          180\n",
       "Wisconsin         180\n",
       "West Virginia     180\n",
       "Virginia          180\n",
       "Vermont           180\n",
       "Utah              180\n",
       "South Dakota      180\n",
       "South Carolina    180\n",
       "Rhode Island      180\n",
       "Pennsylvania      180\n",
       "New York          180\n",
       "New Mexico        180\n",
       "New Jersey        180\n",
       "New Hampshire     180\n",
       "Nevada            180\n",
       "Nebraska          180\n",
       "Missouri          180\n",
       "Minnesota         180\n",
       "Massachusetts     180\n",
       "Maryland          180\n",
       "Maine             180\n",
       "Louisiana         180\n",
       "Kentucky          180\n",
       "Kansas            180\n",
       "Wyoming           180\n",
       "Name: State.Name, dtype: int64"
      ]
     },
     "execution_count": 31,
     "metadata": {},
     "output_type": "execute_result"
    }
   ],
   "source": [
    "test['State.Name'].value_counts()"
   ]
  },
  {
   "cell_type": "markdown",
   "id": "01a4b810-bdf7-432e-9786-03299ba4ca4d",
   "metadata": {},
   "source": [
    "### Read the supplementary_HAPS.perquet"
   ]
  },
  {
   "cell_type": "code",
   "execution_count": 32,
   "id": "e54d7db5-ed64-40dd-91ff-3e74d83e5746",
   "metadata": {
    "tags": []
   },
   "outputs": [],
   "source": [
    "haps = pd.read_parquet('../supplementary_HAPS.parquet', engine='pyarrow')"
   ]
  },
  {
   "cell_type": "code",
   "execution_count": 33,
   "id": "659d22f7-fc1b-4c2f-82b1-681c99053b23",
   "metadata": {
    "tags": []
   },
   "outputs": [
    {
     "data": {
      "text/html": [
       "<div>\n",
       "<style scoped>\n",
       "    .dataframe tbody tr th:only-of-type {\n",
       "        vertical-align: middle;\n",
       "    }\n",
       "\n",
       "    .dataframe tbody tr th {\n",
       "        vertical-align: top;\n",
       "    }\n",
       "\n",
       "    .dataframe thead th {\n",
       "        text-align: right;\n",
       "    }\n",
       "</style>\n",
       "<table border=\"1\" class=\"dataframe\">\n",
       "  <thead>\n",
       "    <tr style=\"text-align: right;\">\n",
       "      <th></th>\n",
       "      <th>State.Name</th>\n",
       "      <th>Date.Local</th>\n",
       "      <th>Parameter.Name</th>\n",
       "      <th>Arithmetic.Mean</th>\n",
       "      <th>X1st.Max.Value</th>\n",
       "    </tr>\n",
       "  </thead>\n",
       "  <tbody>\n",
       "    <tr>\n",
       "      <th>0</th>\n",
       "      <td>Alabama</td>\n",
       "      <td>1980-01-04</td>\n",
       "      <td>Arsenic (TSP) STP</td>\n",
       "      <td>0.0</td>\n",
       "      <td>0.0</td>\n",
       "    </tr>\n",
       "    <tr>\n",
       "      <th>1</th>\n",
       "      <td>Alabama</td>\n",
       "      <td>1980-01-16</td>\n",
       "      <td>Arsenic (TSP) STP</td>\n",
       "      <td>0.0</td>\n",
       "      <td>0.0</td>\n",
       "    </tr>\n",
       "    <tr>\n",
       "      <th>2</th>\n",
       "      <td>Alabama</td>\n",
       "      <td>1980-01-28</td>\n",
       "      <td>Arsenic (TSP) STP</td>\n",
       "      <td>0.0</td>\n",
       "      <td>0.0</td>\n",
       "    </tr>\n",
       "    <tr>\n",
       "      <th>3</th>\n",
       "      <td>Alabama</td>\n",
       "      <td>1980-02-09</td>\n",
       "      <td>Arsenic (TSP) STP</td>\n",
       "      <td>0.0</td>\n",
       "      <td>0.0</td>\n",
       "    </tr>\n",
       "    <tr>\n",
       "      <th>4</th>\n",
       "      <td>Alabama</td>\n",
       "      <td>1980-02-21</td>\n",
       "      <td>Arsenic (TSP) STP</td>\n",
       "      <td>0.0</td>\n",
       "      <td>0.0</td>\n",
       "    </tr>\n",
       "  </tbody>\n",
       "</table>\n",
       "</div>"
      ],
      "text/plain": [
       "  State.Name  Date.Local     Parameter.Name  Arithmetic.Mean  X1st.Max.Value\n",
       "0    Alabama  1980-01-04  Arsenic (TSP) STP              0.0             0.0\n",
       "1    Alabama  1980-01-16  Arsenic (TSP) STP              0.0             0.0\n",
       "2    Alabama  1980-01-28  Arsenic (TSP) STP              0.0             0.0\n",
       "3    Alabama  1980-02-09  Arsenic (TSP) STP              0.0             0.0\n",
       "4    Alabama  1980-02-21  Arsenic (TSP) STP              0.0             0.0"
      ]
     },
     "execution_count": 33,
     "metadata": {},
     "output_type": "execute_result"
    }
   ],
   "source": [
    "haps.head()"
   ]
  },
  {
   "cell_type": "code",
   "execution_count": 34,
   "id": "b6d5117f-b4cb-431f-8168-19289ec502fd",
   "metadata": {
    "tags": []
   },
   "outputs": [
    {
     "name": "stdout",
     "output_type": "stream",
     "text": [
      "<class 'pandas.core.frame.DataFrame'>\n",
      "RangeIndex: 9834368 entries, 0 to 9834367\n",
      "Data columns (total 5 columns):\n",
      " #   Column           Dtype  \n",
      "---  ------           -----  \n",
      " 0   State.Name       object \n",
      " 1   Date.Local       object \n",
      " 2   Parameter.Name   object \n",
      " 3   Arithmetic.Mean  float64\n",
      " 4   X1st.Max.Value   float64\n",
      "dtypes: float64(2), object(3)\n",
      "memory usage: 375.2+ MB\n"
     ]
    }
   ],
   "source": [
    "haps.info()"
   ]
  },
  {
   "cell_type": "code",
   "execution_count": 35,
   "id": "793ed0ef-255d-4d01-a760-eea0d03aabea",
   "metadata": {
    "tags": []
   },
   "outputs": [],
   "source": [
    "haps['Year'] = pd.DatetimeIndex(haps['Date.Local']).year #get the year only"
   ]
  },
  {
   "cell_type": "code",
   "execution_count": 36,
   "id": "893c801c-fc23-47a3-a649-7bab0a8b3da4",
   "metadata": {
    "tags": []
   },
   "outputs": [
    {
     "data": {
      "text/html": [
       "<div>\n",
       "<style scoped>\n",
       "    .dataframe tbody tr th:only-of-type {\n",
       "        vertical-align: middle;\n",
       "    }\n",
       "\n",
       "    .dataframe tbody tr th {\n",
       "        vertical-align: top;\n",
       "    }\n",
       "\n",
       "    .dataframe thead th {\n",
       "        text-align: right;\n",
       "    }\n",
       "</style>\n",
       "<table border=\"1\" class=\"dataframe\">\n",
       "  <thead>\n",
       "    <tr style=\"text-align: right;\">\n",
       "      <th></th>\n",
       "      <th>State.Name</th>\n",
       "      <th>Date.Local</th>\n",
       "      <th>Parameter.Name</th>\n",
       "      <th>Arithmetic.Mean</th>\n",
       "      <th>X1st.Max.Value</th>\n",
       "      <th>Year</th>\n",
       "    </tr>\n",
       "  </thead>\n",
       "  <tbody>\n",
       "    <tr>\n",
       "      <th>0</th>\n",
       "      <td>Alabama</td>\n",
       "      <td>1980-01-04</td>\n",
       "      <td>Arsenic (TSP) STP</td>\n",
       "      <td>0.0</td>\n",
       "      <td>0.0</td>\n",
       "      <td>1980</td>\n",
       "    </tr>\n",
       "    <tr>\n",
       "      <th>1</th>\n",
       "      <td>Alabama</td>\n",
       "      <td>1980-01-16</td>\n",
       "      <td>Arsenic (TSP) STP</td>\n",
       "      <td>0.0</td>\n",
       "      <td>0.0</td>\n",
       "      <td>1980</td>\n",
       "    </tr>\n",
       "    <tr>\n",
       "      <th>2</th>\n",
       "      <td>Alabama</td>\n",
       "      <td>1980-01-28</td>\n",
       "      <td>Arsenic (TSP) STP</td>\n",
       "      <td>0.0</td>\n",
       "      <td>0.0</td>\n",
       "      <td>1980</td>\n",
       "    </tr>\n",
       "    <tr>\n",
       "      <th>3</th>\n",
       "      <td>Alabama</td>\n",
       "      <td>1980-02-09</td>\n",
       "      <td>Arsenic (TSP) STP</td>\n",
       "      <td>0.0</td>\n",
       "      <td>0.0</td>\n",
       "      <td>1980</td>\n",
       "    </tr>\n",
       "    <tr>\n",
       "      <th>4</th>\n",
       "      <td>Alabama</td>\n",
       "      <td>1980-02-21</td>\n",
       "      <td>Arsenic (TSP) STP</td>\n",
       "      <td>0.0</td>\n",
       "      <td>0.0</td>\n",
       "      <td>1980</td>\n",
       "    </tr>\n",
       "  </tbody>\n",
       "</table>\n",
       "</div>"
      ],
      "text/plain": [
       "  State.Name  Date.Local     Parameter.Name  Arithmetic.Mean  X1st.Max.Value  \\\n",
       "0    Alabama  1980-01-04  Arsenic (TSP) STP              0.0             0.0   \n",
       "1    Alabama  1980-01-16  Arsenic (TSP) STP              0.0             0.0   \n",
       "2    Alabama  1980-01-28  Arsenic (TSP) STP              0.0             0.0   \n",
       "3    Alabama  1980-02-09  Arsenic (TSP) STP              0.0             0.0   \n",
       "4    Alabama  1980-02-21  Arsenic (TSP) STP              0.0             0.0   \n",
       "\n",
       "   Year  \n",
       "0  1980  \n",
       "1  1980  \n",
       "2  1980  \n",
       "3  1980  \n",
       "4  1980  "
      ]
     },
     "execution_count": 36,
     "metadata": {},
     "output_type": "execute_result"
    }
   ],
   "source": [
    "haps.head()"
   ]
  },
  {
   "cell_type": "code",
   "execution_count": 37,
   "id": "db3108f8-a8db-42c2-8c04-7316fe433e62",
   "metadata": {
    "tags": []
   },
   "outputs": [
    {
     "data": {
      "text/html": [
       "<div>\n",
       "<style scoped>\n",
       "    .dataframe tbody tr th:only-of-type {\n",
       "        vertical-align: middle;\n",
       "    }\n",
       "\n",
       "    .dataframe tbody tr th {\n",
       "        vertical-align: top;\n",
       "    }\n",
       "\n",
       "    .dataframe thead th {\n",
       "        text-align: right;\n",
       "    }\n",
       "</style>\n",
       "<table border=\"1\" class=\"dataframe\">\n",
       "  <thead>\n",
       "    <tr style=\"text-align: right;\">\n",
       "      <th></th>\n",
       "      <th>State.Name</th>\n",
       "      <th>Date.Local</th>\n",
       "      <th>Parameter.Name</th>\n",
       "      <th>Arithmetic.Mean</th>\n",
       "      <th>X1st.Max.Value</th>\n",
       "      <th>Year</th>\n",
       "    </tr>\n",
       "  </thead>\n",
       "  <tbody>\n",
       "    <tr>\n",
       "      <th>537000</th>\n",
       "      <td>Alabama</td>\n",
       "      <td>1990-01-01</td>\n",
       "      <td>Beryllium (TSP) STP</td>\n",
       "      <td>0.000</td>\n",
       "      <td>0.000</td>\n",
       "      <td>1990</td>\n",
       "    </tr>\n",
       "    <tr>\n",
       "      <th>537001</th>\n",
       "      <td>Alabama</td>\n",
       "      <td>1990-04-01</td>\n",
       "      <td>Beryllium (TSP) STP</td>\n",
       "      <td>0.000</td>\n",
       "      <td>0.000</td>\n",
       "      <td>1990</td>\n",
       "    </tr>\n",
       "    <tr>\n",
       "      <th>537002</th>\n",
       "      <td>Alabama</td>\n",
       "      <td>1990-07-01</td>\n",
       "      <td>Beryllium (TSP) STP</td>\n",
       "      <td>0.000</td>\n",
       "      <td>0.000</td>\n",
       "      <td>1990</td>\n",
       "    </tr>\n",
       "    <tr>\n",
       "      <th>537003</th>\n",
       "      <td>Alabama</td>\n",
       "      <td>1990-10-01</td>\n",
       "      <td>Beryllium (TSP) STP</td>\n",
       "      <td>0.000</td>\n",
       "      <td>0.000</td>\n",
       "      <td>1990</td>\n",
       "    </tr>\n",
       "    <tr>\n",
       "      <th>537004</th>\n",
       "      <td>Alabama</td>\n",
       "      <td>1990-01-01</td>\n",
       "      <td>Cadmium (TSP) STP</td>\n",
       "      <td>0.001</td>\n",
       "      <td>0.001</td>\n",
       "      <td>1990</td>\n",
       "    </tr>\n",
       "  </tbody>\n",
       "</table>\n",
       "</div>"
      ],
      "text/plain": [
       "       State.Name  Date.Local       Parameter.Name  Arithmetic.Mean  \\\n",
       "537000    Alabama  1990-01-01  Beryllium (TSP) STP            0.000   \n",
       "537001    Alabama  1990-04-01  Beryllium (TSP) STP            0.000   \n",
       "537002    Alabama  1990-07-01  Beryllium (TSP) STP            0.000   \n",
       "537003    Alabama  1990-10-01  Beryllium (TSP) STP            0.000   \n",
       "537004    Alabama  1990-01-01    Cadmium (TSP) STP            0.001   \n",
       "\n",
       "        X1st.Max.Value  Year  \n",
       "537000           0.000  1990  \n",
       "537001           0.000  1990  \n",
       "537002           0.000  1990  \n",
       "537003           0.000  1990  \n",
       "537004           0.001  1990  "
      ]
     },
     "execution_count": 37,
     "metadata": {},
     "output_type": "execute_result"
    }
   ],
   "source": [
    "haps = haps[haps['Year']>=1990]\n",
    "haps.head()"
   ]
  },
  {
   "cell_type": "code",
   "execution_count": 38,
   "id": "208450ad-6221-401e-ab14-6100bef4ed4a",
   "metadata": {},
   "outputs": [],
   "source": [
    "# checking the data before aggregate"
   ]
  },
  {
   "cell_type": "code",
   "execution_count": 39,
   "id": "491b4c38-d41a-48a6-9fb0-80c314eff9e0",
   "metadata": {
    "tags": []
   },
   "outputs": [],
   "source": [
    "al_ch = haps[(haps['Year']==1990) & (haps['State.Name']=='Alabama') & (haps['Parameter.Name']=='Chromium (TSP) STP')]"
   ]
  },
  {
   "cell_type": "code",
   "execution_count": 40,
   "id": "1f321a62-c891-49e9-873e-be0498f6d44a",
   "metadata": {
    "tags": []
   },
   "outputs": [
    {
     "data": {
      "text/plain": [
       "18"
      ]
     },
     "execution_count": 40,
     "metadata": {},
     "output_type": "execute_result"
    }
   ],
   "source": [
    "al_ch['Parameter.Name'].count()"
   ]
  },
  {
   "cell_type": "code",
   "execution_count": 41,
   "id": "b8763501-42e8-4f36-b003-e89145ca1075",
   "metadata": {
    "tags": []
   },
   "outputs": [
    {
     "data": {
      "text/plain": [
       "0.00488888888888889"
      ]
     },
     "execution_count": 41,
     "metadata": {},
     "output_type": "execute_result"
    }
   ],
   "source": [
    "al_ch['Arithmetic.Mean'].mean()"
   ]
  },
  {
   "cell_type": "code",
   "execution_count": 42,
   "id": "a260f51a-f6c6-435e-a1c8-f40c955fd4a6",
   "metadata": {
    "tags": []
   },
   "outputs": [
    {
     "data": {
      "text/html": [
       "<div>\n",
       "<style scoped>\n",
       "    .dataframe tbody tr th:only-of-type {\n",
       "        vertical-align: middle;\n",
       "    }\n",
       "\n",
       "    .dataframe tbody tr th {\n",
       "        vertical-align: top;\n",
       "    }\n",
       "\n",
       "    .dataframe thead th {\n",
       "        text-align: right;\n",
       "    }\n",
       "</style>\n",
       "<table border=\"1\" class=\"dataframe\">\n",
       "  <thead>\n",
       "    <tr style=\"text-align: right;\">\n",
       "      <th></th>\n",
       "      <th>Year</th>\n",
       "      <th>State.Name</th>\n",
       "      <th>Parameter.Name</th>\n",
       "      <th>Arithmetic.Mean</th>\n",
       "    </tr>\n",
       "  </thead>\n",
       "  <tbody>\n",
       "    <tr>\n",
       "      <th>0</th>\n",
       "      <td>1990</td>\n",
       "      <td>Alabama</td>\n",
       "      <td>Beryllium (TSP) STP</td>\n",
       "      <td>0.000000</td>\n",
       "    </tr>\n",
       "    <tr>\n",
       "      <th>1</th>\n",
       "      <td>1990</td>\n",
       "      <td>Alabama</td>\n",
       "      <td>Cadmium (TSP) STP</td>\n",
       "      <td>0.000783</td>\n",
       "    </tr>\n",
       "    <tr>\n",
       "      <th>2</th>\n",
       "      <td>1990</td>\n",
       "      <td>Alabama</td>\n",
       "      <td>Chromium (TSP) STP</td>\n",
       "      <td>0.004889</td>\n",
       "    </tr>\n",
       "    <tr>\n",
       "      <th>3</th>\n",
       "      <td>1990</td>\n",
       "      <td>Alabama</td>\n",
       "      <td>Manganese (TSP) STP</td>\n",
       "      <td>0.057383</td>\n",
       "    </tr>\n",
       "    <tr>\n",
       "      <th>4</th>\n",
       "      <td>1990</td>\n",
       "      <td>Alabama</td>\n",
       "      <td>Nickel (TSP) STP</td>\n",
       "      <td>0.002350</td>\n",
       "    </tr>\n",
       "  </tbody>\n",
       "</table>\n",
       "</div>"
      ],
      "text/plain": [
       "   Year State.Name       Parameter.Name  Arithmetic.Mean\n",
       "0  1990    Alabama  Beryllium (TSP) STP         0.000000\n",
       "1  1990    Alabama    Cadmium (TSP) STP         0.000783\n",
       "2  1990    Alabama   Chromium (TSP) STP         0.004889\n",
       "3  1990    Alabama  Manganese (TSP) STP         0.057383\n",
       "4  1990    Alabama     Nickel (TSP) STP         0.002350"
      ]
     },
     "execution_count": 42,
     "metadata": {},
     "output_type": "execute_result"
    }
   ],
   "source": [
    "# Create a dataFrame that take the Year, State Name and Parameter with the average of Arithetic.Mean\n",
    "haps = haps.groupby(['Year','State.Name','Parameter.Name'], as_index=False).agg({'Arithmetic.Mean':'mean'})\n",
    "haps.head()"
   ]
  },
  {
   "cell_type": "code",
   "execution_count": 43,
   "id": "ac1a7c82-08db-449d-8877-f9c7d26179f8",
   "metadata": {
    "tags": []
   },
   "outputs": [
    {
     "data": {
      "text/html": [
       "<div>\n",
       "<style scoped>\n",
       "    .dataframe tbody tr th:only-of-type {\n",
       "        vertical-align: middle;\n",
       "    }\n",
       "\n",
       "    .dataframe tbody tr th {\n",
       "        vertical-align: top;\n",
       "    }\n",
       "\n",
       "    .dataframe thead tr th {\n",
       "        text-align: left;\n",
       "    }\n",
       "\n",
       "    .dataframe thead tr:last-of-type th {\n",
       "        text-align: right;\n",
       "    }\n",
       "</style>\n",
       "<table border=\"1\" class=\"dataframe\">\n",
       "  <thead>\n",
       "    <tr>\n",
       "      <th></th>\n",
       "      <th></th>\n",
       "      <th colspan=\"21\" halign=\"left\">Arithmetic.Mean</th>\n",
       "    </tr>\n",
       "    <tr>\n",
       "      <th></th>\n",
       "      <th>Parameter.Name</th>\n",
       "      <th>1,1,2,2-Tetrachloroethane</th>\n",
       "      <th>1,2-Dichloropropane</th>\n",
       "      <th>1,3-Butadiene</th>\n",
       "      <th>Acetaldehyde</th>\n",
       "      <th>Acrolein - Unverified</th>\n",
       "      <th>Acrolein - Verified</th>\n",
       "      <th>Arsenic (TSP) STP</th>\n",
       "      <th>Arsenic PM10 STP</th>\n",
       "      <th>Arsenic PM2.5 LC</th>\n",
       "      <th>Benzene</th>\n",
       "      <th>...</th>\n",
       "      <th>Manganese PM2.5 LC</th>\n",
       "      <th>Mercury PM10 STP</th>\n",
       "      <th>Nickel (TSP) STP</th>\n",
       "      <th>Nickel PM10 STP</th>\n",
       "      <th>Nickel PM2.5 LC</th>\n",
       "      <th>Tetrachloroethylene</th>\n",
       "      <th>Trichloroethylene</th>\n",
       "      <th>Vinyl chloride</th>\n",
       "      <th>cis-1,3-Dichloropropene</th>\n",
       "      <th>trans-1,3-Dichloropropene</th>\n",
       "    </tr>\n",
       "    <tr>\n",
       "      <th>State.Name</th>\n",
       "      <th>Year</th>\n",
       "      <th></th>\n",
       "      <th></th>\n",
       "      <th></th>\n",
       "      <th></th>\n",
       "      <th></th>\n",
       "      <th></th>\n",
       "      <th></th>\n",
       "      <th></th>\n",
       "      <th></th>\n",
       "      <th></th>\n",
       "      <th></th>\n",
       "      <th></th>\n",
       "      <th></th>\n",
       "      <th></th>\n",
       "      <th></th>\n",
       "      <th></th>\n",
       "      <th></th>\n",
       "      <th></th>\n",
       "      <th></th>\n",
       "      <th></th>\n",
       "      <th></th>\n",
       "    </tr>\n",
       "  </thead>\n",
       "  <tbody>\n",
       "    <tr>\n",
       "      <th rowspan=\"5\" valign=\"top\">Alabama</th>\n",
       "      <th>1990</th>\n",
       "      <td>NaN</td>\n",
       "      <td>NaN</td>\n",
       "      <td>NaN</td>\n",
       "      <td>NaN</td>\n",
       "      <td>NaN</td>\n",
       "      <td>NaN</td>\n",
       "      <td>NaN</td>\n",
       "      <td>NaN</td>\n",
       "      <td>NaN</td>\n",
       "      <td>NaN</td>\n",
       "      <td>...</td>\n",
       "      <td>NaN</td>\n",
       "      <td>NaN</td>\n",
       "      <td>0.00235</td>\n",
       "      <td>NaN</td>\n",
       "      <td>NaN</td>\n",
       "      <td>NaN</td>\n",
       "      <td>NaN</td>\n",
       "      <td>NaN</td>\n",
       "      <td>NaN</td>\n",
       "      <td>NaN</td>\n",
       "    </tr>\n",
       "    <tr>\n",
       "      <th>1992</th>\n",
       "      <td>NaN</td>\n",
       "      <td>0.187778</td>\n",
       "      <td>0.000000</td>\n",
       "      <td>NaN</td>\n",
       "      <td>NaN</td>\n",
       "      <td>NaN</td>\n",
       "      <td>NaN</td>\n",
       "      <td>NaN</td>\n",
       "      <td>0.000361</td>\n",
       "      <td>3.737778</td>\n",
       "      <td>...</td>\n",
       "      <td>0.001574</td>\n",
       "      <td>NaN</td>\n",
       "      <td>NaN</td>\n",
       "      <td>NaN</td>\n",
       "      <td>0.000085</td>\n",
       "      <td>0.200000</td>\n",
       "      <td>0.097037</td>\n",
       "      <td>0.0</td>\n",
       "      <td>0.0</td>\n",
       "      <td>0.0</td>\n",
       "    </tr>\n",
       "    <tr>\n",
       "      <th>1993</th>\n",
       "      <td>NaN</td>\n",
       "      <td>0.000000</td>\n",
       "      <td>1.406233</td>\n",
       "      <td>NaN</td>\n",
       "      <td>NaN</td>\n",
       "      <td>NaN</td>\n",
       "      <td>NaN</td>\n",
       "      <td>NaN</td>\n",
       "      <td>0.000405</td>\n",
       "      <td>13.894583</td>\n",
       "      <td>...</td>\n",
       "      <td>0.001511</td>\n",
       "      <td>NaN</td>\n",
       "      <td>NaN</td>\n",
       "      <td>NaN</td>\n",
       "      <td>0.000144</td>\n",
       "      <td>0.457778</td>\n",
       "      <td>0.000000</td>\n",
       "      <td>0.0</td>\n",
       "      <td>0.0</td>\n",
       "      <td>0.0</td>\n",
       "    </tr>\n",
       "    <tr>\n",
       "      <th>1994</th>\n",
       "      <td>NaN</td>\n",
       "      <td>NaN</td>\n",
       "      <td>0.426389</td>\n",
       "      <td>NaN</td>\n",
       "      <td>NaN</td>\n",
       "      <td>NaN</td>\n",
       "      <td>NaN</td>\n",
       "      <td>NaN</td>\n",
       "      <td>0.000665</td>\n",
       "      <td>5.888194</td>\n",
       "      <td>...</td>\n",
       "      <td>0.002135</td>\n",
       "      <td>NaN</td>\n",
       "      <td>NaN</td>\n",
       "      <td>NaN</td>\n",
       "      <td>0.000136</td>\n",
       "      <td>NaN</td>\n",
       "      <td>NaN</td>\n",
       "      <td>NaN</td>\n",
       "      <td>NaN</td>\n",
       "      <td>NaN</td>\n",
       "    </tr>\n",
       "    <tr>\n",
       "      <th>1995</th>\n",
       "      <td>0.0</td>\n",
       "      <td>0.000000</td>\n",
       "      <td>0.604924</td>\n",
       "      <td>NaN</td>\n",
       "      <td>NaN</td>\n",
       "      <td>NaN</td>\n",
       "      <td>NaN</td>\n",
       "      <td>NaN</td>\n",
       "      <td>0.000345</td>\n",
       "      <td>4.750455</td>\n",
       "      <td>...</td>\n",
       "      <td>0.001617</td>\n",
       "      <td>NaN</td>\n",
       "      <td>NaN</td>\n",
       "      <td>NaN</td>\n",
       "      <td>0.000082</td>\n",
       "      <td>0.258571</td>\n",
       "      <td>0.015000</td>\n",
       "      <td>0.0</td>\n",
       "      <td>0.0</td>\n",
       "      <td>0.0</td>\n",
       "    </tr>\n",
       "  </tbody>\n",
       "</table>\n",
       "<p>5 rows × 41 columns</p>\n",
       "</div>"
      ],
      "text/plain": [
       "                          Arithmetic.Mean                                    \\\n",
       "Parameter.Name  1,1,2,2-Tetrachloroethane 1,2-Dichloropropane 1,3-Butadiene   \n",
       "State.Name Year                                                               \n",
       "Alabama    1990                       NaN                 NaN           NaN   \n",
       "           1992                       NaN            0.187778      0.000000   \n",
       "           1993                       NaN            0.000000      1.406233   \n",
       "           1994                       NaN                 NaN      0.426389   \n",
       "           1995                       0.0            0.000000      0.604924   \n",
       "\n",
       "                                                                        \\\n",
       "Parameter.Name  Acetaldehyde Acrolein - Unverified Acrolein - Verified   \n",
       "State.Name Year                                                          \n",
       "Alabama    1990          NaN                   NaN                 NaN   \n",
       "           1992          NaN                   NaN                 NaN   \n",
       "           1993          NaN                   NaN                 NaN   \n",
       "           1994          NaN                   NaN                 NaN   \n",
       "           1995          NaN                   NaN                 NaN   \n",
       "\n",
       "                                                                     \\\n",
       "Parameter.Name  Arsenic (TSP) STP Arsenic PM10 STP Arsenic PM2.5 LC   \n",
       "State.Name Year                                                       \n",
       "Alabama    1990               NaN              NaN              NaN   \n",
       "           1992               NaN              NaN         0.000361   \n",
       "           1993               NaN              NaN         0.000405   \n",
       "           1994               NaN              NaN         0.000665   \n",
       "           1995               NaN              NaN         0.000345   \n",
       "\n",
       "                            ...                                      \\\n",
       "Parameter.Name     Benzene  ... Manganese PM2.5 LC Mercury PM10 STP   \n",
       "State.Name Year             ...                                       \n",
       "Alabama    1990        NaN  ...                NaN              NaN   \n",
       "           1992   3.737778  ...           0.001574              NaN   \n",
       "           1993  13.894583  ...           0.001511              NaN   \n",
       "           1994   5.888194  ...           0.002135              NaN   \n",
       "           1995   4.750455  ...           0.001617              NaN   \n",
       "\n",
       "                                                                  \\\n",
       "Parameter.Name  Nickel (TSP) STP Nickel PM10 STP Nickel PM2.5 LC   \n",
       "State.Name Year                                                    \n",
       "Alabama    1990          0.00235             NaN             NaN   \n",
       "           1992              NaN             NaN        0.000085   \n",
       "           1993              NaN             NaN        0.000144   \n",
       "           1994              NaN             NaN        0.000136   \n",
       "           1995              NaN             NaN        0.000082   \n",
       "\n",
       "                                                                      \\\n",
       "Parameter.Name  Tetrachloroethylene Trichloroethylene Vinyl chloride   \n",
       "State.Name Year                                                        \n",
       "Alabama    1990                 NaN               NaN            NaN   \n",
       "           1992            0.200000          0.097037            0.0   \n",
       "           1993            0.457778          0.000000            0.0   \n",
       "           1994                 NaN               NaN            NaN   \n",
       "           1995            0.258571          0.015000            0.0   \n",
       "\n",
       "                                                                   \n",
       "Parameter.Name  cis-1,3-Dichloropropene trans-1,3-Dichloropropene  \n",
       "State.Name Year                                                    \n",
       "Alabama    1990                     NaN                       NaN  \n",
       "           1992                     0.0                       0.0  \n",
       "           1993                     0.0                       0.0  \n",
       "           1994                     NaN                       NaN  \n",
       "           1995                     0.0                       0.0  \n",
       "\n",
       "[5 rows x 41 columns]"
      ]
     },
     "execution_count": 43,
     "metadata": {},
     "output_type": "execute_result"
    }
   ],
   "source": [
    "# Transform the dataframe above to a pivot table \n",
    "haps_trans = haps.pivot(index = ['State.Name', 'Year'], columns='Parameter.Name')\n",
    "haps_trans.head()"
   ]
  },
  {
   "cell_type": "code",
   "execution_count": 44,
   "id": "0d8f919e-c67a-41a1-83f2-ea2aed5d58d1",
   "metadata": {
    "tags": []
   },
   "outputs": [
    {
     "data": {
      "text/html": [
       "<div>\n",
       "<style scoped>\n",
       "    .dataframe tbody tr th:only-of-type {\n",
       "        vertical-align: middle;\n",
       "    }\n",
       "\n",
       "    .dataframe tbody tr th {\n",
       "        vertical-align: top;\n",
       "    }\n",
       "\n",
       "    .dataframe thead tr th {\n",
       "        text-align: left;\n",
       "    }\n",
       "</style>\n",
       "<table border=\"1\" class=\"dataframe\">\n",
       "  <thead>\n",
       "    <tr>\n",
       "      <th></th>\n",
       "      <th>State.Name</th>\n",
       "      <th>Year</th>\n",
       "      <th colspan=\"19\" halign=\"left\">Arithmetic.Mean</th>\n",
       "    </tr>\n",
       "    <tr>\n",
       "      <th>Parameter.Name</th>\n",
       "      <th></th>\n",
       "      <th></th>\n",
       "      <th>1,1,2,2-Tetrachloroethane</th>\n",
       "      <th>1,2-Dichloropropane</th>\n",
       "      <th>1,3-Butadiene</th>\n",
       "      <th>Acetaldehyde</th>\n",
       "      <th>Acrolein - Unverified</th>\n",
       "      <th>Acrolein - Verified</th>\n",
       "      <th>Arsenic (TSP) STP</th>\n",
       "      <th>Arsenic PM10 STP</th>\n",
       "      <th>...</th>\n",
       "      <th>Manganese PM2.5 LC</th>\n",
       "      <th>Mercury PM10 STP</th>\n",
       "      <th>Nickel (TSP) STP</th>\n",
       "      <th>Nickel PM10 STP</th>\n",
       "      <th>Nickel PM2.5 LC</th>\n",
       "      <th>Tetrachloroethylene</th>\n",
       "      <th>Trichloroethylene</th>\n",
       "      <th>Vinyl chloride</th>\n",
       "      <th>cis-1,3-Dichloropropene</th>\n",
       "      <th>trans-1,3-Dichloropropene</th>\n",
       "    </tr>\n",
       "  </thead>\n",
       "  <tbody>\n",
       "    <tr>\n",
       "      <th>0</th>\n",
       "      <td>Alabama</td>\n",
       "      <td>1990</td>\n",
       "      <td>NaN</td>\n",
       "      <td>NaN</td>\n",
       "      <td>NaN</td>\n",
       "      <td>NaN</td>\n",
       "      <td>NaN</td>\n",
       "      <td>NaN</td>\n",
       "      <td>NaN</td>\n",
       "      <td>NaN</td>\n",
       "      <td>...</td>\n",
       "      <td>NaN</td>\n",
       "      <td>NaN</td>\n",
       "      <td>0.00235</td>\n",
       "      <td>NaN</td>\n",
       "      <td>NaN</td>\n",
       "      <td>NaN</td>\n",
       "      <td>NaN</td>\n",
       "      <td>NaN</td>\n",
       "      <td>NaN</td>\n",
       "      <td>NaN</td>\n",
       "    </tr>\n",
       "    <tr>\n",
       "      <th>1</th>\n",
       "      <td>Alabama</td>\n",
       "      <td>1992</td>\n",
       "      <td>NaN</td>\n",
       "      <td>0.187778</td>\n",
       "      <td>0.000000</td>\n",
       "      <td>NaN</td>\n",
       "      <td>NaN</td>\n",
       "      <td>NaN</td>\n",
       "      <td>NaN</td>\n",
       "      <td>NaN</td>\n",
       "      <td>...</td>\n",
       "      <td>0.001574</td>\n",
       "      <td>NaN</td>\n",
       "      <td>NaN</td>\n",
       "      <td>NaN</td>\n",
       "      <td>0.000085</td>\n",
       "      <td>0.200000</td>\n",
       "      <td>0.097037</td>\n",
       "      <td>0.0</td>\n",
       "      <td>0.0</td>\n",
       "      <td>0.0</td>\n",
       "    </tr>\n",
       "    <tr>\n",
       "      <th>2</th>\n",
       "      <td>Alabama</td>\n",
       "      <td>1993</td>\n",
       "      <td>NaN</td>\n",
       "      <td>0.000000</td>\n",
       "      <td>1.406233</td>\n",
       "      <td>NaN</td>\n",
       "      <td>NaN</td>\n",
       "      <td>NaN</td>\n",
       "      <td>NaN</td>\n",
       "      <td>NaN</td>\n",
       "      <td>...</td>\n",
       "      <td>0.001511</td>\n",
       "      <td>NaN</td>\n",
       "      <td>NaN</td>\n",
       "      <td>NaN</td>\n",
       "      <td>0.000144</td>\n",
       "      <td>0.457778</td>\n",
       "      <td>0.000000</td>\n",
       "      <td>0.0</td>\n",
       "      <td>0.0</td>\n",
       "      <td>0.0</td>\n",
       "    </tr>\n",
       "    <tr>\n",
       "      <th>3</th>\n",
       "      <td>Alabama</td>\n",
       "      <td>1994</td>\n",
       "      <td>NaN</td>\n",
       "      <td>NaN</td>\n",
       "      <td>0.426389</td>\n",
       "      <td>NaN</td>\n",
       "      <td>NaN</td>\n",
       "      <td>NaN</td>\n",
       "      <td>NaN</td>\n",
       "      <td>NaN</td>\n",
       "      <td>...</td>\n",
       "      <td>0.002135</td>\n",
       "      <td>NaN</td>\n",
       "      <td>NaN</td>\n",
       "      <td>NaN</td>\n",
       "      <td>0.000136</td>\n",
       "      <td>NaN</td>\n",
       "      <td>NaN</td>\n",
       "      <td>NaN</td>\n",
       "      <td>NaN</td>\n",
       "      <td>NaN</td>\n",
       "    </tr>\n",
       "    <tr>\n",
       "      <th>4</th>\n",
       "      <td>Alabama</td>\n",
       "      <td>1995</td>\n",
       "      <td>0.0</td>\n",
       "      <td>0.000000</td>\n",
       "      <td>0.604924</td>\n",
       "      <td>NaN</td>\n",
       "      <td>NaN</td>\n",
       "      <td>NaN</td>\n",
       "      <td>NaN</td>\n",
       "      <td>NaN</td>\n",
       "      <td>...</td>\n",
       "      <td>0.001617</td>\n",
       "      <td>NaN</td>\n",
       "      <td>NaN</td>\n",
       "      <td>NaN</td>\n",
       "      <td>0.000082</td>\n",
       "      <td>0.258571</td>\n",
       "      <td>0.015000</td>\n",
       "      <td>0.0</td>\n",
       "      <td>0.0</td>\n",
       "      <td>0.0</td>\n",
       "    </tr>\n",
       "  </tbody>\n",
       "</table>\n",
       "<p>5 rows × 43 columns</p>\n",
       "</div>"
      ],
      "text/plain": [
       "               State.Name  Year           Arithmetic.Mean                      \\\n",
       "Parameter.Name                  1,1,2,2-Tetrachloroethane 1,2-Dichloropropane   \n",
       "0                 Alabama  1990                       NaN                 NaN   \n",
       "1                 Alabama  1992                       NaN            0.187778   \n",
       "2                 Alabama  1993                       NaN            0.000000   \n",
       "3                 Alabama  1994                       NaN                 NaN   \n",
       "4                 Alabama  1995                       0.0            0.000000   \n",
       "\n",
       "                                                                 \\\n",
       "Parameter.Name 1,3-Butadiene Acetaldehyde Acrolein - Unverified   \n",
       "0                        NaN          NaN                   NaN   \n",
       "1                   0.000000          NaN                   NaN   \n",
       "2                   1.406233          NaN                   NaN   \n",
       "3                   0.426389          NaN                   NaN   \n",
       "4                   0.604924          NaN                   NaN   \n",
       "\n",
       "                                                                       ...  \\\n",
       "Parameter.Name Acrolein - Verified Arsenic (TSP) STP Arsenic PM10 STP  ...   \n",
       "0                              NaN               NaN              NaN  ...   \n",
       "1                              NaN               NaN              NaN  ...   \n",
       "2                              NaN               NaN              NaN  ...   \n",
       "3                              NaN               NaN              NaN  ...   \n",
       "4                              NaN               NaN              NaN  ...   \n",
       "\n",
       "                                                                     \\\n",
       "Parameter.Name Manganese PM2.5 LC Mercury PM10 STP Nickel (TSP) STP   \n",
       "0                             NaN              NaN          0.00235   \n",
       "1                        0.001574              NaN              NaN   \n",
       "2                        0.001511              NaN              NaN   \n",
       "3                        0.002135              NaN              NaN   \n",
       "4                        0.001617              NaN              NaN   \n",
       "\n",
       "                                                                    \\\n",
       "Parameter.Name Nickel PM10 STP Nickel PM2.5 LC Tetrachloroethylene   \n",
       "0                          NaN             NaN                 NaN   \n",
       "1                          NaN        0.000085            0.200000   \n",
       "2                          NaN        0.000144            0.457778   \n",
       "3                          NaN        0.000136                 NaN   \n",
       "4                          NaN        0.000082            0.258571   \n",
       "\n",
       "                                                                         \\\n",
       "Parameter.Name Trichloroethylene Vinyl chloride cis-1,3-Dichloropropene   \n",
       "0                            NaN            NaN                     NaN   \n",
       "1                       0.097037            0.0                     0.0   \n",
       "2                       0.000000            0.0                     0.0   \n",
       "3                            NaN            NaN                     NaN   \n",
       "4                       0.015000            0.0                     0.0   \n",
       "\n",
       "                                          \n",
       "Parameter.Name trans-1,3-Dichloropropene  \n",
       "0                                    NaN  \n",
       "1                                    0.0  \n",
       "2                                    0.0  \n",
       "3                                    NaN  \n",
       "4                                    0.0  \n",
       "\n",
       "[5 rows x 43 columns]"
      ]
     },
     "execution_count": 44,
     "metadata": {},
     "output_type": "execute_result"
    }
   ],
   "source": [
    "haps_trans.reset_index(inplace=True)\n",
    "haps_trans.head()"
   ]
  },
  {
   "cell_type": "code",
   "execution_count": 45,
   "id": "65c44cc9-ae2f-400e-993b-b787b79ad4f0",
   "metadata": {
    "tags": []
   },
   "outputs": [
    {
     "data": {
      "text/plain": [
       "(1448, 43)"
      ]
     },
     "execution_count": 45,
     "metadata": {},
     "output_type": "execute_result"
    }
   ],
   "source": [
    "haps_trans.shape"
   ]
  },
  {
   "cell_type": "code",
   "execution_count": 46,
   "id": "4f75b69d-5106-4591-8b65-37bb27daaab3",
   "metadata": {
    "tags": []
   },
   "outputs": [
    {
     "name": "stderr",
     "output_type": "stream",
     "text": [
      "/var/folders/mh/_rcy82jn02986q7q47fnf2mc0000gn/T/ipykernel_1116/3970444084.py:2: FutureWarning: merging between different levels is deprecated and will be removed in a future version. (1 levels on the left, 2 on the right)\n",
      "  haps_train = train.merge(haps_trans, how = 'left', on = ['State.Name','Year'])\n",
      "/var/folders/mh/_rcy82jn02986q7q47fnf2mc0000gn/T/ipykernel_1116/3970444084.py:2: PerformanceWarning: dropping on a non-lexsorted multi-index without a level parameter may impact performance.\n",
      "  haps_train = train.merge(haps_trans, how = 'left', on = ['State.Name','Year'])\n"
     ]
    },
    {
     "data": {
      "text/html": [
       "<div>\n",
       "<style scoped>\n",
       "    .dataframe tbody tr th:only-of-type {\n",
       "        vertical-align: middle;\n",
       "    }\n",
       "\n",
       "    .dataframe tbody tr th {\n",
       "        vertical-align: top;\n",
       "    }\n",
       "\n",
       "    .dataframe thead th {\n",
       "        text-align: right;\n",
       "    }\n",
       "</style>\n",
       "<table border=\"1\" class=\"dataframe\">\n",
       "  <thead>\n",
       "    <tr style=\"text-align: right;\">\n",
       "      <th></th>\n",
       "      <th>ID</th>\n",
       "      <th>State.Name</th>\n",
       "      <th>Year</th>\n",
       "      <th>Age</th>\n",
       "      <th>Incidence</th>\n",
       "      <th>(Arithmetic.Mean, 1,1,2,2-Tetrachloroethane)</th>\n",
       "      <th>(Arithmetic.Mean, 1,2-Dichloropropane)</th>\n",
       "      <th>(Arithmetic.Mean, 1,3-Butadiene)</th>\n",
       "      <th>(Arithmetic.Mean, Acetaldehyde)</th>\n",
       "      <th>(Arithmetic.Mean, Acrolein - Unverified)</th>\n",
       "      <th>...</th>\n",
       "      <th>(Arithmetic.Mean, Manganese PM2.5 LC)</th>\n",
       "      <th>(Arithmetic.Mean, Mercury PM10 STP)</th>\n",
       "      <th>(Arithmetic.Mean, Nickel (TSP) STP)</th>\n",
       "      <th>(Arithmetic.Mean, Nickel PM10 STP)</th>\n",
       "      <th>(Arithmetic.Mean, Nickel PM2.5 LC)</th>\n",
       "      <th>(Arithmetic.Mean, Tetrachloroethylene)</th>\n",
       "      <th>(Arithmetic.Mean, Trichloroethylene)</th>\n",
       "      <th>(Arithmetic.Mean, Vinyl chloride)</th>\n",
       "      <th>(Arithmetic.Mean, cis-1,3-Dichloropropene)</th>\n",
       "      <th>(Arithmetic.Mean, trans-1,3-Dichloropropene)</th>\n",
       "    </tr>\n",
       "  </thead>\n",
       "  <tbody>\n",
       "    <tr>\n",
       "      <th>0</th>\n",
       "      <td>f8312a4</td>\n",
       "      <td>Alabama</td>\n",
       "      <td>1990</td>\n",
       "      <td>65-69</td>\n",
       "      <td>4685.284313</td>\n",
       "      <td>NaN</td>\n",
       "      <td>NaN</td>\n",
       "      <td>NaN</td>\n",
       "      <td>NaN</td>\n",
       "      <td>NaN</td>\n",
       "      <td>...</td>\n",
       "      <td>NaN</td>\n",
       "      <td>NaN</td>\n",
       "      <td>0.00235</td>\n",
       "      <td>NaN</td>\n",
       "      <td>NaN</td>\n",
       "      <td>NaN</td>\n",
       "      <td>NaN</td>\n",
       "      <td>NaN</td>\n",
       "      <td>NaN</td>\n",
       "      <td>NaN</td>\n",
       "    </tr>\n",
       "    <tr>\n",
       "      <th>1</th>\n",
       "      <td>3effa36</td>\n",
       "      <td>Alabama</td>\n",
       "      <td>1990</td>\n",
       "      <td>70-74</td>\n",
       "      <td>4827.052043</td>\n",
       "      <td>NaN</td>\n",
       "      <td>NaN</td>\n",
       "      <td>NaN</td>\n",
       "      <td>NaN</td>\n",
       "      <td>NaN</td>\n",
       "      <td>...</td>\n",
       "      <td>NaN</td>\n",
       "      <td>NaN</td>\n",
       "      <td>0.00235</td>\n",
       "      <td>NaN</td>\n",
       "      <td>NaN</td>\n",
       "      <td>NaN</td>\n",
       "      <td>NaN</td>\n",
       "      <td>NaN</td>\n",
       "      <td>NaN</td>\n",
       "      <td>NaN</td>\n",
       "    </tr>\n",
       "    <tr>\n",
       "      <th>2</th>\n",
       "      <td>1e8044b</td>\n",
       "      <td>Alabama</td>\n",
       "      <td>1990</td>\n",
       "      <td>75-79</td>\n",
       "      <td>4377.956914</td>\n",
       "      <td>NaN</td>\n",
       "      <td>NaN</td>\n",
       "      <td>NaN</td>\n",
       "      <td>NaN</td>\n",
       "      <td>NaN</td>\n",
       "      <td>...</td>\n",
       "      <td>NaN</td>\n",
       "      <td>NaN</td>\n",
       "      <td>0.00235</td>\n",
       "      <td>NaN</td>\n",
       "      <td>NaN</td>\n",
       "      <td>NaN</td>\n",
       "      <td>NaN</td>\n",
       "      <td>NaN</td>\n",
       "      <td>NaN</td>\n",
       "      <td>NaN</td>\n",
       "    </tr>\n",
       "    <tr>\n",
       "      <th>3</th>\n",
       "      <td>d875d65</td>\n",
       "      <td>Alabama</td>\n",
       "      <td>1990</td>\n",
       "      <td>80-84</td>\n",
       "      <td>3822.732993</td>\n",
       "      <td>NaN</td>\n",
       "      <td>NaN</td>\n",
       "      <td>NaN</td>\n",
       "      <td>NaN</td>\n",
       "      <td>NaN</td>\n",
       "      <td>...</td>\n",
       "      <td>NaN</td>\n",
       "      <td>NaN</td>\n",
       "      <td>0.00235</td>\n",
       "      <td>NaN</td>\n",
       "      <td>NaN</td>\n",
       "      <td>NaN</td>\n",
       "      <td>NaN</td>\n",
       "      <td>NaN</td>\n",
       "      <td>NaN</td>\n",
       "      <td>NaN</td>\n",
       "    </tr>\n",
       "    <tr>\n",
       "      <th>4</th>\n",
       "      <td>46e6695</td>\n",
       "      <td>Alabama</td>\n",
       "      <td>1990</td>\n",
       "      <td>85-89</td>\n",
       "      <td>3470.199503</td>\n",
       "      <td>NaN</td>\n",
       "      <td>NaN</td>\n",
       "      <td>NaN</td>\n",
       "      <td>NaN</td>\n",
       "      <td>NaN</td>\n",
       "      <td>...</td>\n",
       "      <td>NaN</td>\n",
       "      <td>NaN</td>\n",
       "      <td>0.00235</td>\n",
       "      <td>NaN</td>\n",
       "      <td>NaN</td>\n",
       "      <td>NaN</td>\n",
       "      <td>NaN</td>\n",
       "      <td>NaN</td>\n",
       "      <td>NaN</td>\n",
       "      <td>NaN</td>\n",
       "    </tr>\n",
       "  </tbody>\n",
       "</table>\n",
       "<p>5 rows × 46 columns</p>\n",
       "</div>"
      ],
      "text/plain": [
       "        ID State.Name  Year    Age    Incidence  \\\n",
       "0  f8312a4    Alabama  1990  65-69  4685.284313   \n",
       "1  3effa36    Alabama  1990  70-74  4827.052043   \n",
       "2  1e8044b    Alabama  1990  75-79  4377.956914   \n",
       "3  d875d65    Alabama  1990  80-84  3822.732993   \n",
       "4  46e6695    Alabama  1990  85-89  3470.199503   \n",
       "\n",
       "   (Arithmetic.Mean, 1,1,2,2-Tetrachloroethane)  \\\n",
       "0                                           NaN   \n",
       "1                                           NaN   \n",
       "2                                           NaN   \n",
       "3                                           NaN   \n",
       "4                                           NaN   \n",
       "\n",
       "   (Arithmetic.Mean, 1,2-Dichloropropane)  (Arithmetic.Mean, 1,3-Butadiene)  \\\n",
       "0                                     NaN                               NaN   \n",
       "1                                     NaN                               NaN   \n",
       "2                                     NaN                               NaN   \n",
       "3                                     NaN                               NaN   \n",
       "4                                     NaN                               NaN   \n",
       "\n",
       "   (Arithmetic.Mean, Acetaldehyde)  (Arithmetic.Mean, Acrolein - Unverified)  \\\n",
       "0                              NaN                                       NaN   \n",
       "1                              NaN                                       NaN   \n",
       "2                              NaN                                       NaN   \n",
       "3                              NaN                                       NaN   \n",
       "4                              NaN                                       NaN   \n",
       "\n",
       "   ...  (Arithmetic.Mean, Manganese PM2.5 LC)  \\\n",
       "0  ...                                    NaN   \n",
       "1  ...                                    NaN   \n",
       "2  ...                                    NaN   \n",
       "3  ...                                    NaN   \n",
       "4  ...                                    NaN   \n",
       "\n",
       "   (Arithmetic.Mean, Mercury PM10 STP)  (Arithmetic.Mean, Nickel (TSP) STP)  \\\n",
       "0                                  NaN                              0.00235   \n",
       "1                                  NaN                              0.00235   \n",
       "2                                  NaN                              0.00235   \n",
       "3                                  NaN                              0.00235   \n",
       "4                                  NaN                              0.00235   \n",
       "\n",
       "   (Arithmetic.Mean, Nickel PM10 STP)  (Arithmetic.Mean, Nickel PM2.5 LC)  \\\n",
       "0                                 NaN                                 NaN   \n",
       "1                                 NaN                                 NaN   \n",
       "2                                 NaN                                 NaN   \n",
       "3                                 NaN                                 NaN   \n",
       "4                                 NaN                                 NaN   \n",
       "\n",
       "   (Arithmetic.Mean, Tetrachloroethylene)  \\\n",
       "0                                     NaN   \n",
       "1                                     NaN   \n",
       "2                                     NaN   \n",
       "3                                     NaN   \n",
       "4                                     NaN   \n",
       "\n",
       "   (Arithmetic.Mean, Trichloroethylene)  (Arithmetic.Mean, Vinyl chloride)  \\\n",
       "0                                   NaN                                NaN   \n",
       "1                                   NaN                                NaN   \n",
       "2                                   NaN                                NaN   \n",
       "3                                   NaN                                NaN   \n",
       "4                                   NaN                                NaN   \n",
       "\n",
       "   (Arithmetic.Mean, cis-1,3-Dichloropropene)  \\\n",
       "0                                         NaN   \n",
       "1                                         NaN   \n",
       "2                                         NaN   \n",
       "3                                         NaN   \n",
       "4                                         NaN   \n",
       "\n",
       "   (Arithmetic.Mean, trans-1,3-Dichloropropene)  \n",
       "0                                           NaN  \n",
       "1                                           NaN  \n",
       "2                                           NaN  \n",
       "3                                           NaN  \n",
       "4                                           NaN  \n",
       "\n",
       "[5 rows x 46 columns]"
      ]
     },
     "execution_count": 46,
     "metadata": {},
     "output_type": "execute_result"
    }
   ],
   "source": [
    "#merge the haps data with train data\n",
    "haps_train = train.merge(haps_trans, how = 'left', on = ['State.Name','Year'])\n",
    "haps_train.head()"
   ]
  },
  {
   "cell_type": "code",
   "execution_count": 47,
   "id": "26439a25-055e-401a-bfa4-c4ec6b94cb91",
   "metadata": {},
   "outputs": [
    {
     "name": "stderr",
     "output_type": "stream",
     "text": [
      "/var/folders/mh/_rcy82jn02986q7q47fnf2mc0000gn/T/ipykernel_1116/4031910962.py:2: FutureWarning: merging between different levels is deprecated and will be removed in a future version. (1 levels on the left, 2 on the right)\n",
      "  haps_test = test.merge(haps_trans, how = 'left', on = ['State.Name','Year'])\n",
      "/var/folders/mh/_rcy82jn02986q7q47fnf2mc0000gn/T/ipykernel_1116/4031910962.py:2: PerformanceWarning: dropping on a non-lexsorted multi-index without a level parameter may impact performance.\n",
      "  haps_test = test.merge(haps_trans, how = 'left', on = ['State.Name','Year'])\n"
     ]
    },
    {
     "data": {
      "text/html": [
       "<div>\n",
       "<style scoped>\n",
       "    .dataframe tbody tr th:only-of-type {\n",
       "        vertical-align: middle;\n",
       "    }\n",
       "\n",
       "    .dataframe tbody tr th {\n",
       "        vertical-align: top;\n",
       "    }\n",
       "\n",
       "    .dataframe thead th {\n",
       "        text-align: right;\n",
       "    }\n",
       "</style>\n",
       "<table border=\"1\" class=\"dataframe\">\n",
       "  <thead>\n",
       "    <tr style=\"text-align: right;\">\n",
       "      <th></th>\n",
       "      <th>ID</th>\n",
       "      <th>State.Name</th>\n",
       "      <th>Year</th>\n",
       "      <th>Age</th>\n",
       "      <th>(Arithmetic.Mean, 1,1,2,2-Tetrachloroethane)</th>\n",
       "      <th>(Arithmetic.Mean, 1,2-Dichloropropane)</th>\n",
       "      <th>(Arithmetic.Mean, 1,3-Butadiene)</th>\n",
       "      <th>(Arithmetic.Mean, Acetaldehyde)</th>\n",
       "      <th>(Arithmetic.Mean, Acrolein - Unverified)</th>\n",
       "      <th>(Arithmetic.Mean, Acrolein - Verified)</th>\n",
       "      <th>...</th>\n",
       "      <th>(Arithmetic.Mean, Manganese PM2.5 LC)</th>\n",
       "      <th>(Arithmetic.Mean, Mercury PM10 STP)</th>\n",
       "      <th>(Arithmetic.Mean, Nickel (TSP) STP)</th>\n",
       "      <th>(Arithmetic.Mean, Nickel PM10 STP)</th>\n",
       "      <th>(Arithmetic.Mean, Nickel PM2.5 LC)</th>\n",
       "      <th>(Arithmetic.Mean, Tetrachloroethylene)</th>\n",
       "      <th>(Arithmetic.Mean, Trichloroethylene)</th>\n",
       "      <th>(Arithmetic.Mean, Vinyl chloride)</th>\n",
       "      <th>(Arithmetic.Mean, cis-1,3-Dichloropropene)</th>\n",
       "      <th>(Arithmetic.Mean, trans-1,3-Dichloropropene)</th>\n",
       "    </tr>\n",
       "  </thead>\n",
       "  <tbody>\n",
       "    <tr>\n",
       "      <th>0</th>\n",
       "      <td>6c06615</td>\n",
       "      <td>Delaware</td>\n",
       "      <td>1990</td>\n",
       "      <td>65-69</td>\n",
       "      <td>NaN</td>\n",
       "      <td>NaN</td>\n",
       "      <td>NaN</td>\n",
       "      <td>NaN</td>\n",
       "      <td>NaN</td>\n",
       "      <td>NaN</td>\n",
       "      <td>...</td>\n",
       "      <td>NaN</td>\n",
       "      <td>NaN</td>\n",
       "      <td>NaN</td>\n",
       "      <td>NaN</td>\n",
       "      <td>NaN</td>\n",
       "      <td>NaN</td>\n",
       "      <td>NaN</td>\n",
       "      <td>NaN</td>\n",
       "      <td>NaN</td>\n",
       "      <td>NaN</td>\n",
       "    </tr>\n",
       "    <tr>\n",
       "      <th>1</th>\n",
       "      <td>e0cf76e</td>\n",
       "      <td>Delaware</td>\n",
       "      <td>1990</td>\n",
       "      <td>70-74</td>\n",
       "      <td>NaN</td>\n",
       "      <td>NaN</td>\n",
       "      <td>NaN</td>\n",
       "      <td>NaN</td>\n",
       "      <td>NaN</td>\n",
       "      <td>NaN</td>\n",
       "      <td>...</td>\n",
       "      <td>NaN</td>\n",
       "      <td>NaN</td>\n",
       "      <td>NaN</td>\n",
       "      <td>NaN</td>\n",
       "      <td>NaN</td>\n",
       "      <td>NaN</td>\n",
       "      <td>NaN</td>\n",
       "      <td>NaN</td>\n",
       "      <td>NaN</td>\n",
       "      <td>NaN</td>\n",
       "    </tr>\n",
       "    <tr>\n",
       "      <th>2</th>\n",
       "      <td>e9f95f0</td>\n",
       "      <td>Delaware</td>\n",
       "      <td>1990</td>\n",
       "      <td>75-79</td>\n",
       "      <td>NaN</td>\n",
       "      <td>NaN</td>\n",
       "      <td>NaN</td>\n",
       "      <td>NaN</td>\n",
       "      <td>NaN</td>\n",
       "      <td>NaN</td>\n",
       "      <td>...</td>\n",
       "      <td>NaN</td>\n",
       "      <td>NaN</td>\n",
       "      <td>NaN</td>\n",
       "      <td>NaN</td>\n",
       "      <td>NaN</td>\n",
       "      <td>NaN</td>\n",
       "      <td>NaN</td>\n",
       "      <td>NaN</td>\n",
       "      <td>NaN</td>\n",
       "      <td>NaN</td>\n",
       "    </tr>\n",
       "    <tr>\n",
       "      <th>3</th>\n",
       "      <td>5dffe44</td>\n",
       "      <td>Delaware</td>\n",
       "      <td>1990</td>\n",
       "      <td>80-84</td>\n",
       "      <td>NaN</td>\n",
       "      <td>NaN</td>\n",
       "      <td>NaN</td>\n",
       "      <td>NaN</td>\n",
       "      <td>NaN</td>\n",
       "      <td>NaN</td>\n",
       "      <td>...</td>\n",
       "      <td>NaN</td>\n",
       "      <td>NaN</td>\n",
       "      <td>NaN</td>\n",
       "      <td>NaN</td>\n",
       "      <td>NaN</td>\n",
       "      <td>NaN</td>\n",
       "      <td>NaN</td>\n",
       "      <td>NaN</td>\n",
       "      <td>NaN</td>\n",
       "      <td>NaN</td>\n",
       "    </tr>\n",
       "    <tr>\n",
       "      <th>4</th>\n",
       "      <td>9f9ea9b</td>\n",
       "      <td>Delaware</td>\n",
       "      <td>1990</td>\n",
       "      <td>85-89</td>\n",
       "      <td>NaN</td>\n",
       "      <td>NaN</td>\n",
       "      <td>NaN</td>\n",
       "      <td>NaN</td>\n",
       "      <td>NaN</td>\n",
       "      <td>NaN</td>\n",
       "      <td>...</td>\n",
       "      <td>NaN</td>\n",
       "      <td>NaN</td>\n",
       "      <td>NaN</td>\n",
       "      <td>NaN</td>\n",
       "      <td>NaN</td>\n",
       "      <td>NaN</td>\n",
       "      <td>NaN</td>\n",
       "      <td>NaN</td>\n",
       "      <td>NaN</td>\n",
       "      <td>NaN</td>\n",
       "    </tr>\n",
       "  </tbody>\n",
       "</table>\n",
       "<p>5 rows × 45 columns</p>\n",
       "</div>"
      ],
      "text/plain": [
       "        ID State.Name  Year    Age  \\\n",
       "0  6c06615   Delaware  1990  65-69   \n",
       "1  e0cf76e   Delaware  1990  70-74   \n",
       "2  e9f95f0   Delaware  1990  75-79   \n",
       "3  5dffe44   Delaware  1990  80-84   \n",
       "4  9f9ea9b   Delaware  1990  85-89   \n",
       "\n",
       "   (Arithmetic.Mean, 1,1,2,2-Tetrachloroethane)  \\\n",
       "0                                           NaN   \n",
       "1                                           NaN   \n",
       "2                                           NaN   \n",
       "3                                           NaN   \n",
       "4                                           NaN   \n",
       "\n",
       "   (Arithmetic.Mean, 1,2-Dichloropropane)  (Arithmetic.Mean, 1,3-Butadiene)  \\\n",
       "0                                     NaN                               NaN   \n",
       "1                                     NaN                               NaN   \n",
       "2                                     NaN                               NaN   \n",
       "3                                     NaN                               NaN   \n",
       "4                                     NaN                               NaN   \n",
       "\n",
       "   (Arithmetic.Mean, Acetaldehyde)  (Arithmetic.Mean, Acrolein - Unverified)  \\\n",
       "0                              NaN                                       NaN   \n",
       "1                              NaN                                       NaN   \n",
       "2                              NaN                                       NaN   \n",
       "3                              NaN                                       NaN   \n",
       "4                              NaN                                       NaN   \n",
       "\n",
       "   (Arithmetic.Mean, Acrolein - Verified)  ...  \\\n",
       "0                                     NaN  ...   \n",
       "1                                     NaN  ...   \n",
       "2                                     NaN  ...   \n",
       "3                                     NaN  ...   \n",
       "4                                     NaN  ...   \n",
       "\n",
       "   (Arithmetic.Mean, Manganese PM2.5 LC)  (Arithmetic.Mean, Mercury PM10 STP)  \\\n",
       "0                                    NaN                                  NaN   \n",
       "1                                    NaN                                  NaN   \n",
       "2                                    NaN                                  NaN   \n",
       "3                                    NaN                                  NaN   \n",
       "4                                    NaN                                  NaN   \n",
       "\n",
       "   (Arithmetic.Mean, Nickel (TSP) STP)  (Arithmetic.Mean, Nickel PM10 STP)  \\\n",
       "0                                  NaN                                 NaN   \n",
       "1                                  NaN                                 NaN   \n",
       "2                                  NaN                                 NaN   \n",
       "3                                  NaN                                 NaN   \n",
       "4                                  NaN                                 NaN   \n",
       "\n",
       "   (Arithmetic.Mean, Nickel PM2.5 LC)  (Arithmetic.Mean, Tetrachloroethylene)  \\\n",
       "0                                 NaN                                     NaN   \n",
       "1                                 NaN                                     NaN   \n",
       "2                                 NaN                                     NaN   \n",
       "3                                 NaN                                     NaN   \n",
       "4                                 NaN                                     NaN   \n",
       "\n",
       "   (Arithmetic.Mean, Trichloroethylene)  (Arithmetic.Mean, Vinyl chloride)  \\\n",
       "0                                   NaN                                NaN   \n",
       "1                                   NaN                                NaN   \n",
       "2                                   NaN                                NaN   \n",
       "3                                   NaN                                NaN   \n",
       "4                                   NaN                                NaN   \n",
       "\n",
       "   (Arithmetic.Mean, cis-1,3-Dichloropropene)  \\\n",
       "0                                         NaN   \n",
       "1                                         NaN   \n",
       "2                                         NaN   \n",
       "3                                         NaN   \n",
       "4                                         NaN   \n",
       "\n",
       "   (Arithmetic.Mean, trans-1,3-Dichloropropene)  \n",
       "0                                           NaN  \n",
       "1                                           NaN  \n",
       "2                                           NaN  \n",
       "3                                           NaN  \n",
       "4                                           NaN  \n",
       "\n",
       "[5 rows x 45 columns]"
      ]
     },
     "execution_count": 47,
     "metadata": {},
     "output_type": "execute_result"
    }
   ],
   "source": [
    "#merge the haps data with test data\n",
    "haps_test = test.merge(haps_trans, how = 'left', on = ['State.Name','Year'])\n",
    "haps_test.head()"
   ]
  },
  {
   "cell_type": "markdown",
   "id": "24949bd6-1640-4e55-b992-bdb1bfccbf36",
   "metadata": {},
   "source": [
    "### Read the supplementary_LEAD.perquet"
   ]
  },
  {
   "cell_type": "code",
   "execution_count": 48,
   "id": "c1646310-27df-438a-ae4d-df4a2599ef3d",
   "metadata": {
    "tags": []
   },
   "outputs": [
    {
     "data": {
      "text/html": [
       "<div>\n",
       "<style scoped>\n",
       "    .dataframe tbody tr th:only-of-type {\n",
       "        vertical-align: middle;\n",
       "    }\n",
       "\n",
       "    .dataframe tbody tr th {\n",
       "        vertical-align: top;\n",
       "    }\n",
       "\n",
       "    .dataframe thead th {\n",
       "        text-align: right;\n",
       "    }\n",
       "</style>\n",
       "<table border=\"1\" class=\"dataframe\">\n",
       "  <thead>\n",
       "    <tr style=\"text-align: right;\">\n",
       "      <th></th>\n",
       "      <th>State.Name</th>\n",
       "      <th>Date.Local</th>\n",
       "      <th>Parameter.Name</th>\n",
       "      <th>Arithmetic.Mean</th>\n",
       "      <th>X1st.Max.Value</th>\n",
       "    </tr>\n",
       "  </thead>\n",
       "  <tbody>\n",
       "    <tr>\n",
       "      <th>0</th>\n",
       "      <td>Alabama</td>\n",
       "      <td>1980-01-04</td>\n",
       "      <td>Lead (TSP) STP</td>\n",
       "      <td>0.04</td>\n",
       "      <td>0.04</td>\n",
       "    </tr>\n",
       "    <tr>\n",
       "      <th>1</th>\n",
       "      <td>Alabama</td>\n",
       "      <td>1980-01-16</td>\n",
       "      <td>Lead (TSP) STP</td>\n",
       "      <td>0.26</td>\n",
       "      <td>0.26</td>\n",
       "    </tr>\n",
       "    <tr>\n",
       "      <th>2</th>\n",
       "      <td>Alabama</td>\n",
       "      <td>1980-01-28</td>\n",
       "      <td>Lead (TSP) STP</td>\n",
       "      <td>0.13</td>\n",
       "      <td>0.13</td>\n",
       "    </tr>\n",
       "    <tr>\n",
       "      <th>3</th>\n",
       "      <td>Alabama</td>\n",
       "      <td>1980-02-09</td>\n",
       "      <td>Lead (TSP) STP</td>\n",
       "      <td>0.11</td>\n",
       "      <td>0.11</td>\n",
       "    </tr>\n",
       "    <tr>\n",
       "      <th>4</th>\n",
       "      <td>Alabama</td>\n",
       "      <td>1980-02-21</td>\n",
       "      <td>Lead (TSP) STP</td>\n",
       "      <td>0.10</td>\n",
       "      <td>0.10</td>\n",
       "    </tr>\n",
       "  </tbody>\n",
       "</table>\n",
       "</div>"
      ],
      "text/plain": [
       "  State.Name  Date.Local  Parameter.Name  Arithmetic.Mean  X1st.Max.Value\n",
       "0    Alabama  1980-01-04  Lead (TSP) STP             0.04            0.04\n",
       "1    Alabama  1980-01-16  Lead (TSP) STP             0.26            0.26\n",
       "2    Alabama  1980-01-28  Lead (TSP) STP             0.13            0.13\n",
       "3    Alabama  1980-02-09  Lead (TSP) STP             0.11            0.11\n",
       "4    Alabama  1980-02-21  Lead (TSP) STP             0.10            0.10"
      ]
     },
     "execution_count": 48,
     "metadata": {},
     "output_type": "execute_result"
    }
   ],
   "source": [
    "lead = pd.read_parquet('../supplementary_LEAD.parquet', engine='pyarrow')\n",
    "lead.head()"
   ]
  },
  {
   "cell_type": "code",
   "execution_count": 49,
   "id": "dab97ad0-5155-4e10-8e59-4d2be5b503e4",
   "metadata": {
    "tags": []
   },
   "outputs": [
    {
     "data": {
      "text/plain": [
       "(866835, 5)"
      ]
     },
     "execution_count": 49,
     "metadata": {},
     "output_type": "execute_result"
    }
   ],
   "source": [
    "lead.shape"
   ]
  },
  {
   "cell_type": "code",
   "execution_count": 50,
   "id": "2ece8293-0f0d-408a-8a6f-e1475148810c",
   "metadata": {
    "tags": []
   },
   "outputs": [],
   "source": [
    "lead['Year'] = pd.DatetimeIndex(lead['Date.Local']).year"
   ]
  },
  {
   "cell_type": "code",
   "execution_count": 51,
   "id": "3f8ab86d-91b7-4bc7-9fe0-db249ad528a9",
   "metadata": {
    "tags": []
   },
   "outputs": [],
   "source": [
    "lead = lead[lead['Year']>=1990]"
   ]
  },
  {
   "cell_type": "code",
   "execution_count": 52,
   "id": "0d3b4ef8-324d-4402-8a43-46fab8e71637",
   "metadata": {
    "tags": []
   },
   "outputs": [],
   "source": [
    "lead = lead.groupby(['Year','State.Name','Parameter.Name'], as_index=False).agg({'Arithmetic.Mean':'mean'})"
   ]
  },
  {
   "cell_type": "code",
   "execution_count": 53,
   "id": "9cc39607-5a2c-4825-b3ab-4a8adf7c4e44",
   "metadata": {
    "tags": []
   },
   "outputs": [],
   "source": [
    "lead_trans = lead.pivot(index = ['State.Name', 'Year'], columns='Parameter.Name')\n",
    "lead_trans.reset_index(inplace=True)"
   ]
  },
  {
   "cell_type": "code",
   "execution_count": 54,
   "id": "59df9173-f340-4e43-83a0-10fb193cbcde",
   "metadata": {
    "tags": []
   },
   "outputs": [
    {
     "name": "stderr",
     "output_type": "stream",
     "text": [
      "/var/folders/mh/_rcy82jn02986q7q47fnf2mc0000gn/T/ipykernel_1116/1830002993.py:2: FutureWarning: merging between different levels is deprecated and will be removed in a future version. (1 levels on the left, 2 on the right)\n",
      "  lead_haps = haps_train.merge(lead_trans, how = 'left', on = ['State.Name','Year'])\n",
      "/var/folders/mh/_rcy82jn02986q7q47fnf2mc0000gn/T/ipykernel_1116/1830002993.py:2: PerformanceWarning: dropping on a non-lexsorted multi-index without a level parameter may impact performance.\n",
      "  lead_haps = haps_train.merge(lead_trans, how = 'left', on = ['State.Name','Year'])\n"
     ]
    }
   ],
   "source": [
    "#merge the lead data with haps_train data\n",
    "lead_haps = haps_train.merge(lead_trans, how = 'left', on = ['State.Name','Year'])"
   ]
  },
  {
   "cell_type": "code",
   "execution_count": 55,
   "id": "54163a77-a468-45a3-87aa-00992950aff5",
   "metadata": {
    "tags": []
   },
   "outputs": [
    {
     "data": {
      "text/plain": [
       "(4500, 49)"
      ]
     },
     "execution_count": 55,
     "metadata": {},
     "output_type": "execute_result"
    }
   ],
   "source": [
    "lead_haps.shape"
   ]
  },
  {
   "cell_type": "code",
   "execution_count": 56,
   "id": "d219f3e0-d351-43bb-903d-6dd42a3858b6",
   "metadata": {
    "tags": []
   },
   "outputs": [
    {
     "data": {
      "text/html": [
       "<div>\n",
       "<style scoped>\n",
       "    .dataframe tbody tr th:only-of-type {\n",
       "        vertical-align: middle;\n",
       "    }\n",
       "\n",
       "    .dataframe tbody tr th {\n",
       "        vertical-align: top;\n",
       "    }\n",
       "\n",
       "    .dataframe thead th {\n",
       "        text-align: right;\n",
       "    }\n",
       "</style>\n",
       "<table border=\"1\" class=\"dataframe\">\n",
       "  <thead>\n",
       "    <tr style=\"text-align: right;\">\n",
       "      <th></th>\n",
       "      <th>ID</th>\n",
       "      <th>State.Name</th>\n",
       "      <th>Year</th>\n",
       "      <th>Age</th>\n",
       "      <th>Incidence</th>\n",
       "      <th>(Arithmetic.Mean, 1,1,2,2-Tetrachloroethane)</th>\n",
       "      <th>(Arithmetic.Mean, 1,2-Dichloropropane)</th>\n",
       "      <th>(Arithmetic.Mean, 1,3-Butadiene)</th>\n",
       "      <th>(Arithmetic.Mean, Acetaldehyde)</th>\n",
       "      <th>(Arithmetic.Mean, Acrolein - Unverified)</th>\n",
       "      <th>...</th>\n",
       "      <th>(Arithmetic.Mean, Nickel PM10 STP)</th>\n",
       "      <th>(Arithmetic.Mean, Nickel PM2.5 LC)</th>\n",
       "      <th>(Arithmetic.Mean, Tetrachloroethylene)</th>\n",
       "      <th>(Arithmetic.Mean, Trichloroethylene)</th>\n",
       "      <th>(Arithmetic.Mean, Vinyl chloride)</th>\n",
       "      <th>(Arithmetic.Mean, cis-1,3-Dichloropropene)</th>\n",
       "      <th>(Arithmetic.Mean, trans-1,3-Dichloropropene)</th>\n",
       "      <th>(Arithmetic.Mean, Lead (TSP) LC)</th>\n",
       "      <th>(Arithmetic.Mean, Lead (TSP) STP)</th>\n",
       "      <th>(Arithmetic.Mean, Lead PM10 LC FRM/FEM)</th>\n",
       "    </tr>\n",
       "  </thead>\n",
       "  <tbody>\n",
       "    <tr>\n",
       "      <th>0</th>\n",
       "      <td>f8312a4</td>\n",
       "      <td>Alabama</td>\n",
       "      <td>1990</td>\n",
       "      <td>65-69</td>\n",
       "      <td>4685.284313</td>\n",
       "      <td>NaN</td>\n",
       "      <td>NaN</td>\n",
       "      <td>NaN</td>\n",
       "      <td>NaN</td>\n",
       "      <td>NaN</td>\n",
       "      <td>...</td>\n",
       "      <td>NaN</td>\n",
       "      <td>NaN</td>\n",
       "      <td>NaN</td>\n",
       "      <td>NaN</td>\n",
       "      <td>NaN</td>\n",
       "      <td>NaN</td>\n",
       "      <td>NaN</td>\n",
       "      <td>NaN</td>\n",
       "      <td>0.663244</td>\n",
       "      <td>NaN</td>\n",
       "    </tr>\n",
       "    <tr>\n",
       "      <th>1</th>\n",
       "      <td>3effa36</td>\n",
       "      <td>Alabama</td>\n",
       "      <td>1990</td>\n",
       "      <td>70-74</td>\n",
       "      <td>4827.052043</td>\n",
       "      <td>NaN</td>\n",
       "      <td>NaN</td>\n",
       "      <td>NaN</td>\n",
       "      <td>NaN</td>\n",
       "      <td>NaN</td>\n",
       "      <td>...</td>\n",
       "      <td>NaN</td>\n",
       "      <td>NaN</td>\n",
       "      <td>NaN</td>\n",
       "      <td>NaN</td>\n",
       "      <td>NaN</td>\n",
       "      <td>NaN</td>\n",
       "      <td>NaN</td>\n",
       "      <td>NaN</td>\n",
       "      <td>0.663244</td>\n",
       "      <td>NaN</td>\n",
       "    </tr>\n",
       "    <tr>\n",
       "      <th>2</th>\n",
       "      <td>1e8044b</td>\n",
       "      <td>Alabama</td>\n",
       "      <td>1990</td>\n",
       "      <td>75-79</td>\n",
       "      <td>4377.956914</td>\n",
       "      <td>NaN</td>\n",
       "      <td>NaN</td>\n",
       "      <td>NaN</td>\n",
       "      <td>NaN</td>\n",
       "      <td>NaN</td>\n",
       "      <td>...</td>\n",
       "      <td>NaN</td>\n",
       "      <td>NaN</td>\n",
       "      <td>NaN</td>\n",
       "      <td>NaN</td>\n",
       "      <td>NaN</td>\n",
       "      <td>NaN</td>\n",
       "      <td>NaN</td>\n",
       "      <td>NaN</td>\n",
       "      <td>0.663244</td>\n",
       "      <td>NaN</td>\n",
       "    </tr>\n",
       "    <tr>\n",
       "      <th>3</th>\n",
       "      <td>d875d65</td>\n",
       "      <td>Alabama</td>\n",
       "      <td>1990</td>\n",
       "      <td>80-84</td>\n",
       "      <td>3822.732993</td>\n",
       "      <td>NaN</td>\n",
       "      <td>NaN</td>\n",
       "      <td>NaN</td>\n",
       "      <td>NaN</td>\n",
       "      <td>NaN</td>\n",
       "      <td>...</td>\n",
       "      <td>NaN</td>\n",
       "      <td>NaN</td>\n",
       "      <td>NaN</td>\n",
       "      <td>NaN</td>\n",
       "      <td>NaN</td>\n",
       "      <td>NaN</td>\n",
       "      <td>NaN</td>\n",
       "      <td>NaN</td>\n",
       "      <td>0.663244</td>\n",
       "      <td>NaN</td>\n",
       "    </tr>\n",
       "    <tr>\n",
       "      <th>4</th>\n",
       "      <td>46e6695</td>\n",
       "      <td>Alabama</td>\n",
       "      <td>1990</td>\n",
       "      <td>85-89</td>\n",
       "      <td>3470.199503</td>\n",
       "      <td>NaN</td>\n",
       "      <td>NaN</td>\n",
       "      <td>NaN</td>\n",
       "      <td>NaN</td>\n",
       "      <td>NaN</td>\n",
       "      <td>...</td>\n",
       "      <td>NaN</td>\n",
       "      <td>NaN</td>\n",
       "      <td>NaN</td>\n",
       "      <td>NaN</td>\n",
       "      <td>NaN</td>\n",
       "      <td>NaN</td>\n",
       "      <td>NaN</td>\n",
       "      <td>NaN</td>\n",
       "      <td>0.663244</td>\n",
       "      <td>NaN</td>\n",
       "    </tr>\n",
       "  </tbody>\n",
       "</table>\n",
       "<p>5 rows × 49 columns</p>\n",
       "</div>"
      ],
      "text/plain": [
       "        ID State.Name  Year    Age    Incidence  \\\n",
       "0  f8312a4    Alabama  1990  65-69  4685.284313   \n",
       "1  3effa36    Alabama  1990  70-74  4827.052043   \n",
       "2  1e8044b    Alabama  1990  75-79  4377.956914   \n",
       "3  d875d65    Alabama  1990  80-84  3822.732993   \n",
       "4  46e6695    Alabama  1990  85-89  3470.199503   \n",
       "\n",
       "   (Arithmetic.Mean, 1,1,2,2-Tetrachloroethane)  \\\n",
       "0                                           NaN   \n",
       "1                                           NaN   \n",
       "2                                           NaN   \n",
       "3                                           NaN   \n",
       "4                                           NaN   \n",
       "\n",
       "   (Arithmetic.Mean, 1,2-Dichloropropane)  (Arithmetic.Mean, 1,3-Butadiene)  \\\n",
       "0                                     NaN                               NaN   \n",
       "1                                     NaN                               NaN   \n",
       "2                                     NaN                               NaN   \n",
       "3                                     NaN                               NaN   \n",
       "4                                     NaN                               NaN   \n",
       "\n",
       "   (Arithmetic.Mean, Acetaldehyde)  (Arithmetic.Mean, Acrolein - Unverified)  \\\n",
       "0                              NaN                                       NaN   \n",
       "1                              NaN                                       NaN   \n",
       "2                              NaN                                       NaN   \n",
       "3                              NaN                                       NaN   \n",
       "4                              NaN                                       NaN   \n",
       "\n",
       "   ...  (Arithmetic.Mean, Nickel PM10 STP)  \\\n",
       "0  ...                                 NaN   \n",
       "1  ...                                 NaN   \n",
       "2  ...                                 NaN   \n",
       "3  ...                                 NaN   \n",
       "4  ...                                 NaN   \n",
       "\n",
       "   (Arithmetic.Mean, Nickel PM2.5 LC)  (Arithmetic.Mean, Tetrachloroethylene)  \\\n",
       "0                                 NaN                                     NaN   \n",
       "1                                 NaN                                     NaN   \n",
       "2                                 NaN                                     NaN   \n",
       "3                                 NaN                                     NaN   \n",
       "4                                 NaN                                     NaN   \n",
       "\n",
       "   (Arithmetic.Mean, Trichloroethylene)  (Arithmetic.Mean, Vinyl chloride)  \\\n",
       "0                                   NaN                                NaN   \n",
       "1                                   NaN                                NaN   \n",
       "2                                   NaN                                NaN   \n",
       "3                                   NaN                                NaN   \n",
       "4                                   NaN                                NaN   \n",
       "\n",
       "   (Arithmetic.Mean, cis-1,3-Dichloropropene)  \\\n",
       "0                                         NaN   \n",
       "1                                         NaN   \n",
       "2                                         NaN   \n",
       "3                                         NaN   \n",
       "4                                         NaN   \n",
       "\n",
       "   (Arithmetic.Mean, trans-1,3-Dichloropropene)  \\\n",
       "0                                           NaN   \n",
       "1                                           NaN   \n",
       "2                                           NaN   \n",
       "3                                           NaN   \n",
       "4                                           NaN   \n",
       "\n",
       "   (Arithmetic.Mean, Lead (TSP) LC)  (Arithmetic.Mean, Lead (TSP) STP)  \\\n",
       "0                               NaN                           0.663244   \n",
       "1                               NaN                           0.663244   \n",
       "2                               NaN                           0.663244   \n",
       "3                               NaN                           0.663244   \n",
       "4                               NaN                           0.663244   \n",
       "\n",
       "   (Arithmetic.Mean, Lead PM10 LC FRM/FEM)  \n",
       "0                                      NaN  \n",
       "1                                      NaN  \n",
       "2                                      NaN  \n",
       "3                                      NaN  \n",
       "4                                      NaN  \n",
       "\n",
       "[5 rows x 49 columns]"
      ]
     },
     "execution_count": 56,
     "metadata": {},
     "output_type": "execute_result"
    }
   ],
   "source": [
    "lead_haps.head()"
   ]
  },
  {
   "cell_type": "code",
   "execution_count": 57,
   "id": "d32d1ecf-a2b8-4dad-92a4-5c45d7dfec2b",
   "metadata": {},
   "outputs": [
    {
     "name": "stderr",
     "output_type": "stream",
     "text": [
      "/var/folders/mh/_rcy82jn02986q7q47fnf2mc0000gn/T/ipykernel_1116/4100739832.py:2: FutureWarning: merging between different levels is deprecated and will be removed in a future version. (1 levels on the left, 2 on the right)\n",
      "  lead_haps_test = haps_test.merge(lead_trans, how = 'left', on = ['State.Name','Year'])\n",
      "/var/folders/mh/_rcy82jn02986q7q47fnf2mc0000gn/T/ipykernel_1116/4100739832.py:2: PerformanceWarning: dropping on a non-lexsorted multi-index without a level parameter may impact performance.\n",
      "  lead_haps_test = haps_test.merge(lead_trans, how = 'left', on = ['State.Name','Year'])\n"
     ]
    }
   ],
   "source": [
    "#merge the lead data with haps_test data\n",
    "lead_haps_test = haps_test.merge(lead_trans, how = 'left', on = ['State.Name','Year'])"
   ]
  },
  {
   "cell_type": "markdown",
   "id": "78279d1f-2757-4db0-8225-854af2cf5f6e",
   "metadata": {},
   "source": [
    "### Read the supplementary_NONOxNOy.perquet"
   ]
  },
  {
   "cell_type": "code",
   "execution_count": 58,
   "id": "904ef66a-9ebe-4afa-b3f2-97ee1e5b734b",
   "metadata": {
    "tags": []
   },
   "outputs": [],
   "source": [
    "no = pd.read_parquet('../supplementary_NONOxNOy.parquet', engine='pyarrow')"
   ]
  },
  {
   "cell_type": "code",
   "execution_count": 59,
   "id": "672fdd78-7c35-4e94-ab86-f2412f869442",
   "metadata": {
    "tags": []
   },
   "outputs": [
    {
     "data": {
      "text/html": [
       "<div>\n",
       "<style scoped>\n",
       "    .dataframe tbody tr th:only-of-type {\n",
       "        vertical-align: middle;\n",
       "    }\n",
       "\n",
       "    .dataframe tbody tr th {\n",
       "        vertical-align: top;\n",
       "    }\n",
       "\n",
       "    .dataframe thead th {\n",
       "        text-align: right;\n",
       "    }\n",
       "</style>\n",
       "<table border=\"1\" class=\"dataframe\">\n",
       "  <thead>\n",
       "    <tr style=\"text-align: right;\">\n",
       "      <th></th>\n",
       "      <th>State.Name</th>\n",
       "      <th>Date.Local</th>\n",
       "      <th>Parameter.Name</th>\n",
       "      <th>Arithmetic.Mean</th>\n",
       "      <th>X1st.Max.Value</th>\n",
       "    </tr>\n",
       "  </thead>\n",
       "  <tbody>\n",
       "    <tr>\n",
       "      <th>0</th>\n",
       "      <td>Alabama</td>\n",
       "      <td>1980-01-01</td>\n",
       "      <td>Nitric oxide (NO)</td>\n",
       "      <td>54.458333</td>\n",
       "      <td>275.0</td>\n",
       "    </tr>\n",
       "    <tr>\n",
       "      <th>1</th>\n",
       "      <td>Alabama</td>\n",
       "      <td>1980-01-02</td>\n",
       "      <td>Nitric oxide (NO)</td>\n",
       "      <td>130.545455</td>\n",
       "      <td>279.0</td>\n",
       "    </tr>\n",
       "    <tr>\n",
       "      <th>2</th>\n",
       "      <td>Alabama</td>\n",
       "      <td>1980-01-03</td>\n",
       "      <td>Nitric oxide (NO)</td>\n",
       "      <td>122.333333</td>\n",
       "      <td>421.0</td>\n",
       "    </tr>\n",
       "    <tr>\n",
       "      <th>3</th>\n",
       "      <td>Alabama</td>\n",
       "      <td>1980-01-04</td>\n",
       "      <td>Nitric oxide (NO)</td>\n",
       "      <td>5.600000</td>\n",
       "      <td>12.0</td>\n",
       "    </tr>\n",
       "    <tr>\n",
       "      <th>4</th>\n",
       "      <td>Alabama</td>\n",
       "      <td>1980-01-05</td>\n",
       "      <td>Nitric oxide (NO)</td>\n",
       "      <td>6.166667</td>\n",
       "      <td>13.0</td>\n",
       "    </tr>\n",
       "  </tbody>\n",
       "</table>\n",
       "</div>"
      ],
      "text/plain": [
       "  State.Name  Date.Local     Parameter.Name  Arithmetic.Mean  X1st.Max.Value\n",
       "0    Alabama  1980-01-01  Nitric oxide (NO)        54.458333           275.0\n",
       "1    Alabama  1980-01-02  Nitric oxide (NO)       130.545455           279.0\n",
       "2    Alabama  1980-01-03  Nitric oxide (NO)       122.333333           421.0\n",
       "3    Alabama  1980-01-04  Nitric oxide (NO)         5.600000            12.0\n",
       "4    Alabama  1980-01-05  Nitric oxide (NO)         6.166667            13.0"
      ]
     },
     "execution_count": 59,
     "metadata": {},
     "output_type": "execute_result"
    }
   ],
   "source": [
    "no.head()"
   ]
  },
  {
   "cell_type": "code",
   "execution_count": 60,
   "id": "dd260bf0-1a3a-4063-82ed-eab50c438ac2",
   "metadata": {
    "tags": []
   },
   "outputs": [],
   "source": [
    "no['Year'] = pd.DatetimeIndex(no['Date.Local']).year\n",
    "no = no[no['Year']>=1990]"
   ]
  },
  {
   "cell_type": "code",
   "execution_count": 61,
   "id": "3e62c0be-d11b-4641-aa96-cea8e4768e88",
   "metadata": {
    "tags": []
   },
   "outputs": [],
   "source": [
    "no = no.groupby(['Year','State.Name','Parameter.Name'], as_index=False).agg({'Arithmetic.Mean':'mean'})"
   ]
  },
  {
   "cell_type": "code",
   "execution_count": 62,
   "id": "b7483060-ae1a-40b2-af6a-9023a8f0e666",
   "metadata": {
    "tags": []
   },
   "outputs": [],
   "source": [
    "no_trans = no.pivot(index = ['State.Name', 'Year'], columns='Parameter.Name')\n",
    "no_trans.reset_index(inplace=True)"
   ]
  },
  {
   "cell_type": "code",
   "execution_count": 63,
   "id": "13ce5a93-09f4-4eee-ac92-88512c7dac40",
   "metadata": {
    "tags": []
   },
   "outputs": [
    {
     "name": "stderr",
     "output_type": "stream",
     "text": [
      "/var/folders/mh/_rcy82jn02986q7q47fnf2mc0000gn/T/ipykernel_1116/2543615548.py:2: FutureWarning: merging between different levels is deprecated and will be removed in a future version. (1 levels on the left, 2 on the right)\n",
      "  lead_haps_no = lead_haps.merge(no_trans, how = 'left', on = ['State.Name','Year'])\n",
      "/var/folders/mh/_rcy82jn02986q7q47fnf2mc0000gn/T/ipykernel_1116/2543615548.py:2: PerformanceWarning: dropping on a non-lexsorted multi-index without a level parameter may impact performance.\n",
      "  lead_haps_no = lead_haps.merge(no_trans, how = 'left', on = ['State.Name','Year'])\n"
     ]
    }
   ],
   "source": [
    "#merge the NONOxNOy data with lead_haps data\n",
    "lead_haps_no = lead_haps.merge(no_trans, how = 'left', on = ['State.Name','Year'])"
   ]
  },
  {
   "cell_type": "code",
   "execution_count": 64,
   "id": "a8e2a92e-0bc8-4721-905f-f34e1e429a82",
   "metadata": {
    "tags": []
   },
   "outputs": [
    {
     "data": {
      "text/plain": [
       "(4500, 52)"
      ]
     },
     "execution_count": 64,
     "metadata": {},
     "output_type": "execute_result"
    }
   ],
   "source": [
    "lead_haps_no.shape"
   ]
  },
  {
   "cell_type": "code",
   "execution_count": 65,
   "id": "964d0978-b0ec-446f-877c-0956c1787ded",
   "metadata": {},
   "outputs": [
    {
     "name": "stderr",
     "output_type": "stream",
     "text": [
      "/var/folders/mh/_rcy82jn02986q7q47fnf2mc0000gn/T/ipykernel_1116/2990907272.py:2: FutureWarning: merging between different levels is deprecated and will be removed in a future version. (1 levels on the left, 2 on the right)\n",
      "  lead_haps_no_test = lead_haps_test.merge(no_trans, how = 'left', on = ['State.Name','Year'])\n",
      "/var/folders/mh/_rcy82jn02986q7q47fnf2mc0000gn/T/ipykernel_1116/2990907272.py:2: PerformanceWarning: dropping on a non-lexsorted multi-index without a level parameter may impact performance.\n",
      "  lead_haps_no_test = lead_haps_test.merge(no_trans, how = 'left', on = ['State.Name','Year'])\n"
     ]
    }
   ],
   "source": [
    "#merge the NONOxNOy data with lead_haps_test data\n",
    "lead_haps_no_test = lead_haps_test.merge(no_trans, how = 'left', on = ['State.Name','Year'])"
   ]
  },
  {
   "cell_type": "code",
   "execution_count": 66,
   "id": "ca03a96c-0735-4517-a528-246ef5ef43f9",
   "metadata": {},
   "outputs": [
    {
     "data": {
      "text/plain": [
       "(4680, 51)"
      ]
     },
     "execution_count": 66,
     "metadata": {},
     "output_type": "execute_result"
    }
   ],
   "source": [
    "lead_haps_no_test.shape"
   ]
  },
  {
   "cell_type": "markdown",
   "id": "f1a16347-e541-4dea-a7a4-35c5649c0b03",
   "metadata": {},
   "source": [
    "### Read the supplementary_VOCS.perquet"
   ]
  },
  {
   "cell_type": "code",
   "execution_count": 68,
   "id": "b7f25e44-b880-4a32-8e94-b84a07559598",
   "metadata": {
    "tags": []
   },
   "outputs": [],
   "source": [
    "vocs = pd.read_parquet('../supplementary_VOCS.parquet', engine='pyarrow')"
   ]
  },
  {
   "cell_type": "code",
   "execution_count": 69,
   "id": "30f9bfee-1080-476a-95a9-0c9c6752fcec",
   "metadata": {
    "tags": []
   },
   "outputs": [
    {
     "data": {
      "text/html": [
       "<div>\n",
       "<style scoped>\n",
       "    .dataframe tbody tr th:only-of-type {\n",
       "        vertical-align: middle;\n",
       "    }\n",
       "\n",
       "    .dataframe tbody tr th {\n",
       "        vertical-align: top;\n",
       "    }\n",
       "\n",
       "    .dataframe thead th {\n",
       "        text-align: right;\n",
       "    }\n",
       "</style>\n",
       "<table border=\"1\" class=\"dataframe\">\n",
       "  <thead>\n",
       "    <tr style=\"text-align: right;\">\n",
       "      <th></th>\n",
       "      <th>State.Name</th>\n",
       "      <th>Date.Local</th>\n",
       "      <th>Parameter.Name</th>\n",
       "      <th>Arithmetic.Mean</th>\n",
       "      <th>X1st.Max.Value</th>\n",
       "    </tr>\n",
       "  </thead>\n",
       "  <tbody>\n",
       "    <tr>\n",
       "      <th>0</th>\n",
       "      <td>Alabama</td>\n",
       "      <td>1980-01-01</td>\n",
       "      <td>Total NMOC (non-methane organic compound)</td>\n",
       "      <td>627.083333</td>\n",
       "      <td>2020.0</td>\n",
       "    </tr>\n",
       "    <tr>\n",
       "      <th>1</th>\n",
       "      <td>Alabama</td>\n",
       "      <td>1980-01-02</td>\n",
       "      <td>Total NMOC (non-methane organic compound)</td>\n",
       "      <td>1240.909091</td>\n",
       "      <td>3360.0</td>\n",
       "    </tr>\n",
       "    <tr>\n",
       "      <th>2</th>\n",
       "      <td>Alabama</td>\n",
       "      <td>1980-01-03</td>\n",
       "      <td>Total NMOC (non-methane organic compound)</td>\n",
       "      <td>2079.166667</td>\n",
       "      <td>5670.0</td>\n",
       "    </tr>\n",
       "    <tr>\n",
       "      <th>3</th>\n",
       "      <td>Alabama</td>\n",
       "      <td>1980-01-04</td>\n",
       "      <td>Total NMOC (non-methane organic compound)</td>\n",
       "      <td>925.833333</td>\n",
       "      <td>3110.0</td>\n",
       "    </tr>\n",
       "    <tr>\n",
       "      <th>4</th>\n",
       "      <td>Alabama</td>\n",
       "      <td>1980-01-05</td>\n",
       "      <td>Total NMOC (non-methane organic compound)</td>\n",
       "      <td>170.833333</td>\n",
       "      <td>1250.0</td>\n",
       "    </tr>\n",
       "  </tbody>\n",
       "</table>\n",
       "</div>"
      ],
      "text/plain": [
       "  State.Name  Date.Local                             Parameter.Name  \\\n",
       "0    Alabama  1980-01-01  Total NMOC (non-methane organic compound)   \n",
       "1    Alabama  1980-01-02  Total NMOC (non-methane organic compound)   \n",
       "2    Alabama  1980-01-03  Total NMOC (non-methane organic compound)   \n",
       "3    Alabama  1980-01-04  Total NMOC (non-methane organic compound)   \n",
       "4    Alabama  1980-01-05  Total NMOC (non-methane organic compound)   \n",
       "\n",
       "   Arithmetic.Mean  X1st.Max.Value  \n",
       "0       627.083333          2020.0  \n",
       "1      1240.909091          3360.0  \n",
       "2      2079.166667          5670.0  \n",
       "3       925.833333          3110.0  \n",
       "4       170.833333          1250.0  "
      ]
     },
     "execution_count": 69,
     "metadata": {},
     "output_type": "execute_result"
    }
   ],
   "source": [
    "vocs.head()"
   ]
  },
  {
   "cell_type": "code",
   "execution_count": 70,
   "id": "18fe9c06-4595-43d7-8561-530069cbaef0",
   "metadata": {
    "tags": []
   },
   "outputs": [
    {
     "data": {
      "text/plain": [
       "(26601135, 5)"
      ]
     },
     "execution_count": 70,
     "metadata": {},
     "output_type": "execute_result"
    }
   ],
   "source": [
    "vocs.shape"
   ]
  },
  {
   "cell_type": "code",
   "execution_count": 71,
   "id": "feff8b72-8f21-4b6e-ae2c-c1da95980572",
   "metadata": {},
   "outputs": [],
   "source": [
    "vocs['Year'] = pd.DatetimeIndex(vocs['Date.Local']).year\n",
    "vocs = vocs[vocs['Year']>=1990]"
   ]
  },
  {
   "cell_type": "code",
   "execution_count": 72,
   "id": "90493d76-75af-4c6e-a009-7f32c37e0530",
   "metadata": {
    "tags": []
   },
   "outputs": [],
   "source": [
    "vocs = vocs.groupby(['Year','State.Name','Parameter.Name'], as_index=False).agg({'Arithmetic.Mean':'mean'})"
   ]
  },
  {
   "cell_type": "code",
   "execution_count": 73,
   "id": "8c3043ce-67fe-4139-84c9-76f5c6e5626f",
   "metadata": {
    "tags": []
   },
   "outputs": [],
   "source": [
    "vocs_trans = vocs.pivot(index = ['State.Name', 'Year'], columns='Parameter.Name')\n",
    "vocs_trans.reset_index(inplace=True)"
   ]
  },
  {
   "cell_type": "code",
   "execution_count": 74,
   "id": "f8aa2597-3bad-4fa8-aaaf-ed83372d3263",
   "metadata": {
    "tags": []
   },
   "outputs": [
    {
     "name": "stderr",
     "output_type": "stream",
     "text": [
      "/var/folders/mh/_rcy82jn02986q7q47fnf2mc0000gn/T/ipykernel_1116/2251201471.py:2: FutureWarning: merging between different levels is deprecated and will be removed in a future version. (1 levels on the left, 2 on the right)\n",
      "  lead_haps_no_vocs = lead_haps_no.merge(vocs_trans, how = 'left', on = ['State.Name','Year'])\n",
      "/var/folders/mh/_rcy82jn02986q7q47fnf2mc0000gn/T/ipykernel_1116/2251201471.py:2: PerformanceWarning: dropping on a non-lexsorted multi-index without a level parameter may impact performance.\n",
      "  lead_haps_no_vocs = lead_haps_no.merge(vocs_trans, how = 'left', on = ['State.Name','Year'])\n"
     ]
    }
   ],
   "source": [
    "#merge the VOCS data with lead_haps_no data\n",
    "lead_haps_no_vocs = lead_haps_no.merge(vocs_trans, how = 'left', on = ['State.Name','Year'])"
   ]
  },
  {
   "cell_type": "code",
   "execution_count": 75,
   "id": "26845734-b76e-40c2-9cf4-12c69dba43a4",
   "metadata": {
    "tags": []
   },
   "outputs": [
    {
     "data": {
      "text/plain": [
       "(4500, 172)"
      ]
     },
     "execution_count": 75,
     "metadata": {},
     "output_type": "execute_result"
    }
   ],
   "source": [
    "lead_haps_no_vocs.shape"
   ]
  },
  {
   "cell_type": "code",
   "execution_count": 76,
   "id": "d9285707-1281-4f76-85ef-626e9097650b",
   "metadata": {
    "tags": []
   },
   "outputs": [
    {
     "name": "stderr",
     "output_type": "stream",
     "text": [
      "/var/folders/mh/_rcy82jn02986q7q47fnf2mc0000gn/T/ipykernel_1116/2424817801.py:2: FutureWarning: merging between different levels is deprecated and will be removed in a future version. (1 levels on the left, 2 on the right)\n",
      "  lead_haps_no_vocs_test = lead_haps_no_test.merge(vocs_trans, how = 'left', on = ['State.Name','Year'])\n",
      "/var/folders/mh/_rcy82jn02986q7q47fnf2mc0000gn/T/ipykernel_1116/2424817801.py:2: PerformanceWarning: dropping on a non-lexsorted multi-index without a level parameter may impact performance.\n",
      "  lead_haps_no_vocs_test = lead_haps_no_test.merge(vocs_trans, how = 'left', on = ['State.Name','Year'])\n"
     ]
    }
   ],
   "source": [
    "#merge the VOCS data with lead_haps_no_test data\n",
    "lead_haps_no_vocs_test = lead_haps_no_test.merge(vocs_trans, how = 'left', on = ['State.Name','Year'])"
   ]
  },
  {
   "cell_type": "code",
   "execution_count": 77,
   "id": "da4a3520-2e82-4970-9913-1237b555d522",
   "metadata": {
    "tags": []
   },
   "outputs": [
    {
     "data": {
      "text/plain": [
       "(4680, 171)"
      ]
     },
     "execution_count": 77,
     "metadata": {},
     "output_type": "execute_result"
    }
   ],
   "source": [
    "lead_haps_no_vocs_test.shape"
   ]
  },
  {
   "cell_type": "code",
   "execution_count": 89,
   "id": "590591d1-00d5-4745-b81b-c639afda313e",
   "metadata": {
    "tags": []
   },
   "outputs": [],
   "source": [
    "lead_haps_no_vocs.to_csv('../train_with_5_parquet.csv')"
   ]
  },
  {
   "cell_type": "code",
   "execution_count": 79,
   "id": "3fc08c16-4c35-4ee7-acb5-b2fb04ee3a3e",
   "metadata": {},
   "outputs": [],
   "source": [
    "lead_haps_no_vocs_test.to_csv('../test_with_5_parquet.csv')"
   ]
  },
  {
   "cell_type": "code",
   "execution_count": null,
   "id": "eef1b50b-de86-45f6-9b32-9d8deb6dc94c",
   "metadata": {},
   "outputs": [],
   "source": []
  }
 ],
 "metadata": {
  "kernelspec": {
   "display_name": "Python 3 (ipykernel)",
   "language": "python",
   "name": "python3"
  },
  "language_info": {
   "codemirror_mode": {
    "name": "ipython",
    "version": 3
   },
   "file_extension": ".py",
   "mimetype": "text/x-python",
   "name": "python",
   "nbconvert_exporter": "python",
   "pygments_lexer": "ipython3",
   "version": "3.11.4"
  }
 },
 "nbformat": 4,
 "nbformat_minor": 5
}
