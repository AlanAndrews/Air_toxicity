{
 "cells": [
  {
   "cell_type": "code",
   "execution_count": 1,
   "id": "421920f3-5eef-4f77-9e0c-4e54cc92e6b5",
   "metadata": {},
   "outputs": [],
   "source": [
    "import pandas as pd\n",
    "import numpy as np\n",
    "import matplotlib.pyplot as plt\n",
    "import statistics\n",
    "np.random.seed(42)\n",
    "\n",
    "from sklearn.experimental import enable_iterative_imputer \n",
    "from sklearn.impute import IterativeImputer\n",
    "from sklearn.linear_model import LinearRegression"
   ]
  },
  {
   "cell_type": "code",
   "execution_count": 2,
   "id": "b2e316b5-3710-4a38-b916-f49da56597aa",
   "metadata": {},
   "outputs": [],
   "source": [
    "it_imp = IterativeImputer(\n",
    "    estimator=LinearRegression(),\n",
    "    max_iter=1\n",
    ")"
   ]
  },
  {
   "cell_type": "code",
   "execution_count": null,
   "id": "345421ad-57ed-46f9-b245-14566316fee6",
   "metadata": {},
   "outputs": [],
   "source": [
    "it_inc_missing = it_imp.fit_transform(income_missing)\n",
    "it_inc_missing = pd.DataFrame(it_inc_missing, columns=income_missing.columns)"
   ]
  }
 ],
 "metadata": {
  "kernelspec": {
   "display_name": "Python 3",
   "language": "python",
   "name": "python3"
  },
  "language_info": {
   "codemirror_mode": {
    "name": "ipython",
    "version": 3
   },
   "file_extension": ".py",
   "mimetype": "text/x-python",
   "name": "python",
   "nbconvert_exporter": "python",
   "pygments_lexer": "ipython3",
   "version": "3.9.18"
  }
 },
 "nbformat": 4,
 "nbformat_minor": 5
}
